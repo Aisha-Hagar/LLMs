{
  "metadata": {
    "kernelspec": {
      "language": "python",
      "display_name": "Python 3",
      "name": "python3"
    },
    "language_info": {
      "name": "python",
      "version": "3.11.11",
      "mimetype": "text/x-python",
      "codemirror_mode": {
        "name": "ipython",
        "version": 3
      },
      "pygments_lexer": "ipython3",
      "nbconvert_exporter": "python",
      "file_extension": ".py"
    },
    "kaggle": {
      "accelerator": "gpu",
      "dataSources": [],
      "dockerImageVersionId": 31041,
      "isInternetEnabled": true,
      "language": "python",
      "sourceType": "notebook",
      "isGpuEnabled": true
    },
    "colab": {
      "provenance": [],
      "include_colab_link": true
    }
  },
  "nbformat_minor": 0,
  "nbformat": 4,
  "cells": [
    {
      "cell_type": "markdown",
      "metadata": {
        "id": "view-in-github",
        "colab_type": "text"
      },
      "source": [
        "<a href=\"https://colab.research.google.com/github/Aisha-Hagar/LLMs/blob/main/article_title.ipynb\" target=\"_parent\"><img src=\"https://colab.research.google.com/assets/colab-badge.svg\" alt=\"Open In Colab\"/></a>"
      ]
    },
    {
      "cell_type": "code",
      "source": [
        "!pip install datasets evaluate transformers[sentencepiece]\n",
        "!pip install accelerate\n",
        "!pip install -U datasets huggingface_hub fsspec\n",
        "!pip install rouge_score\n",
        "!pip install nltk"
      ],
      "metadata": {
        "trusted": true,
        "execution": {
          "iopub.status.busy": "2025-06-24T19:02:41.220130Z",
          "iopub.execute_input": "2025-06-24T19:02:41.220666Z",
          "iopub.status.idle": "2025-06-24T19:04:15.390728Z",
          "shell.execute_reply.started": "2025-06-24T19:02:41.220644Z",
          "shell.execute_reply": "2025-06-24T19:04:15.389993Z"
        },
        "id": "V3uVbXxXHT4v",
        "outputId": "3587ba8e-256e-4890-eb97-08d12bbfda7d"
      },
      "outputs": [
        {
          "name": "stdout",
          "text": "Requirement already satisfied: datasets in /usr/local/lib/python3.11/dist-packages (3.6.0)\nCollecting evaluate\n  Downloading evaluate-0.4.4-py3-none-any.whl.metadata (9.5 kB)\nRequirement already satisfied: transformers[sentencepiece] in /usr/local/lib/python3.11/dist-packages (4.51.3)\nRequirement already satisfied: filelock in /usr/local/lib/python3.11/dist-packages (from datasets) (3.18.0)\nRequirement already satisfied: numpy>=1.17 in /usr/local/lib/python3.11/dist-packages (from datasets) (1.26.4)\nRequirement already satisfied: pyarrow>=15.0.0 in /usr/local/lib/python3.11/dist-packages (from datasets) (19.0.1)\nRequirement already satisfied: dill<0.3.9,>=0.3.0 in /usr/local/lib/python3.11/dist-packages (from datasets) (0.3.8)\nRequirement already satisfied: pandas in /usr/local/lib/python3.11/dist-packages (from datasets) (2.2.3)\nRequirement already satisfied: requests>=2.32.2 in /usr/local/lib/python3.11/dist-packages (from datasets) (2.32.3)\nRequirement already satisfied: tqdm>=4.66.3 in /usr/local/lib/python3.11/dist-packages (from datasets) (4.67.1)\nRequirement already satisfied: xxhash in /usr/local/lib/python3.11/dist-packages (from datasets) (3.5.0)\nRequirement already satisfied: multiprocess<0.70.17 in /usr/local/lib/python3.11/dist-packages (from datasets) (0.70.16)\nCollecting fsspec<=2025.3.0,>=2023.1.0 (from fsspec[http]<=2025.3.0,>=2023.1.0->datasets)\n  Downloading fsspec-2025.3.0-py3-none-any.whl.metadata (11 kB)\nRequirement already satisfied: huggingface-hub>=0.24.0 in /usr/local/lib/python3.11/dist-packages (from datasets) (0.31.1)\nRequirement already satisfied: packaging in /usr/local/lib/python3.11/dist-packages (from datasets) (25.0)\nRequirement already satisfied: pyyaml>=5.1 in /usr/local/lib/python3.11/dist-packages (from datasets) (6.0.2)\nRequirement already satisfied: regex!=2019.12.17 in /usr/local/lib/python3.11/dist-packages (from transformers[sentencepiece]) (2024.11.6)\nRequirement already satisfied: tokenizers<0.22,>=0.21 in /usr/local/lib/python3.11/dist-packages (from transformers[sentencepiece]) (0.21.1)\nRequirement already satisfied: safetensors>=0.4.3 in /usr/local/lib/python3.11/dist-packages (from transformers[sentencepiece]) (0.5.3)\nRequirement already satisfied: sentencepiece!=0.1.92,>=0.1.91 in /usr/local/lib/python3.11/dist-packages (from transformers[sentencepiece]) (0.2.0)\nRequirement already satisfied: protobuf in /usr/local/lib/python3.11/dist-packages (from transformers[sentencepiece]) (3.20.3)\nRequirement already satisfied: aiohttp!=4.0.0a0,!=4.0.0a1 in /usr/local/lib/python3.11/dist-packages (from fsspec[http]<=2025.3.0,>=2023.1.0->datasets) (3.11.18)\nRequirement already satisfied: typing-extensions>=3.7.4.3 in /usr/local/lib/python3.11/dist-packages (from huggingface-hub>=0.24.0->datasets) (4.13.2)\nRequirement already satisfied: hf-xet<2.0.0,>=1.1.0 in /usr/local/lib/python3.11/dist-packages (from huggingface-hub>=0.24.0->datasets) (1.1.0)\nRequirement already satisfied: mkl_fft in /usr/local/lib/python3.11/dist-packages (from numpy>=1.17->datasets) (1.3.8)\nRequirement already satisfied: mkl_random in /usr/local/lib/python3.11/dist-packages (from numpy>=1.17->datasets) (1.2.4)\nRequirement already satisfied: mkl_umath in /usr/local/lib/python3.11/dist-packages (from numpy>=1.17->datasets) (0.1.1)\nRequirement already satisfied: mkl in /usr/local/lib/python3.11/dist-packages (from numpy>=1.17->datasets) (2025.1.0)\nRequirement already satisfied: tbb4py in /usr/local/lib/python3.11/dist-packages (from numpy>=1.17->datasets) (2022.1.0)\nRequirement already satisfied: mkl-service in /usr/local/lib/python3.11/dist-packages (from numpy>=1.17->datasets) (2.4.1)\nRequirement already satisfied: charset-normalizer<4,>=2 in /usr/local/lib/python3.11/dist-packages (from requests>=2.32.2->datasets) (3.4.2)\nRequirement already satisfied: idna<4,>=2.5 in /usr/local/lib/python3.11/dist-packages (from requests>=2.32.2->datasets) (3.10)\nRequirement already satisfied: urllib3<3,>=1.21.1 in /usr/local/lib/python3.11/dist-packages (from requests>=2.32.2->datasets) (2.4.0)\nRequirement already satisfied: certifi>=2017.4.17 in /usr/local/lib/python3.11/dist-packages (from requests>=2.32.2->datasets) (2025.4.26)\nRequirement already satisfied: python-dateutil>=2.8.2 in /usr/local/lib/python3.11/dist-packages (from pandas->datasets) (2.9.0.post0)\nRequirement already satisfied: pytz>=2020.1 in /usr/local/lib/python3.11/dist-packages (from pandas->datasets) (2025.2)\nRequirement already satisfied: tzdata>=2022.7 in /usr/local/lib/python3.11/dist-packages (from pandas->datasets) (2025.2)\nRequirement already satisfied: aiohappyeyeballs>=2.3.0 in /usr/local/lib/python3.11/dist-packages (from aiohttp!=4.0.0a0,!=4.0.0a1->fsspec[http]<=2025.3.0,>=2023.1.0->datasets) (2.6.1)\nRequirement already satisfied: aiosignal>=1.1.2 in /usr/local/lib/python3.11/dist-packages (from aiohttp!=4.0.0a0,!=4.0.0a1->fsspec[http]<=2025.3.0,>=2023.1.0->datasets) (1.3.2)\nRequirement already satisfied: attrs>=17.3.0 in /usr/local/lib/python3.11/dist-packages (from aiohttp!=4.0.0a0,!=4.0.0a1->fsspec[http]<=2025.3.0,>=2023.1.0->datasets) (25.3.0)\nRequirement already satisfied: frozenlist>=1.1.1 in /usr/local/lib/python3.11/dist-packages (from aiohttp!=4.0.0a0,!=4.0.0a1->fsspec[http]<=2025.3.0,>=2023.1.0->datasets) (1.6.0)\nRequirement already satisfied: multidict<7.0,>=4.5 in /usr/local/lib/python3.11/dist-packages (from aiohttp!=4.0.0a0,!=4.0.0a1->fsspec[http]<=2025.3.0,>=2023.1.0->datasets) (6.4.3)\nRequirement already satisfied: propcache>=0.2.0 in /usr/local/lib/python3.11/dist-packages (from aiohttp!=4.0.0a0,!=4.0.0a1->fsspec[http]<=2025.3.0,>=2023.1.0->datasets) (0.3.1)\nRequirement already satisfied: yarl<2.0,>=1.17.0 in /usr/local/lib/python3.11/dist-packages (from aiohttp!=4.0.0a0,!=4.0.0a1->fsspec[http]<=2025.3.0,>=2023.1.0->datasets) (1.20.0)\nRequirement already satisfied: six>=1.5 in /usr/local/lib/python3.11/dist-packages (from python-dateutil>=2.8.2->pandas->datasets) (1.17.0)\nRequirement already satisfied: intel-openmp<2026,>=2024 in /usr/local/lib/python3.11/dist-packages (from mkl->numpy>=1.17->datasets) (2024.2.0)\nRequirement already satisfied: tbb==2022.* in /usr/local/lib/python3.11/dist-packages (from mkl->numpy>=1.17->datasets) (2022.1.0)\nRequirement already satisfied: tcmlib==1.* in /usr/local/lib/python3.11/dist-packages (from tbb==2022.*->mkl->numpy>=1.17->datasets) (1.3.0)\nRequirement already satisfied: intel-cmplr-lib-rt in /usr/local/lib/python3.11/dist-packages (from mkl_umath->numpy>=1.17->datasets) (2024.2.0)\nRequirement already satisfied: intel-cmplr-lib-ur==2024.2.0 in /usr/local/lib/python3.11/dist-packages (from intel-openmp<2026,>=2024->mkl->numpy>=1.17->datasets) (2024.2.0)\nDownloading evaluate-0.4.4-py3-none-any.whl (84 kB)\n\u001b[2K   \u001b[90m━━━━━━━━━━━━━━━━━━━━━━━━━━━━━━━━━━━━━━━━\u001b[0m \u001b[32m84.1/84.1 kB\u001b[0m \u001b[31m4.1 MB/s\u001b[0m eta \u001b[36m0:00:00\u001b[0m\n\u001b[?25hDownloading fsspec-2025.3.0-py3-none-any.whl (193 kB)\n\u001b[2K   \u001b[90m━━━━━━━━━━━━━━━━━━━━━━━━━━━━━━━━━━━━━━━━\u001b[0m \u001b[32m193.6/193.6 kB\u001b[0m \u001b[31m11.5 MB/s\u001b[0m eta \u001b[36m0:00:00\u001b[0m\n\u001b[?25hInstalling collected packages: fsspec, evaluate\n  Attempting uninstall: fsspec\n    Found existing installation: fsspec 2025.3.2\n    Uninstalling fsspec-2025.3.2:\n      Successfully uninstalled fsspec-2025.3.2\n\u001b[31mERROR: pip's dependency resolver does not currently take into account all the packages that are installed. This behaviour is the source of the following dependency conflicts.\ncesium 0.12.4 requires numpy<3.0,>=2.0, but you have numpy 1.26.4 which is incompatible.\nbigframes 1.42.0 requires rich<14,>=12.4.4, but you have rich 14.0.0 which is incompatible.\ntorch 2.6.0+cu124 requires nvidia-cublas-cu12==12.4.5.8; platform_system == \"Linux\" and platform_machine == \"x86_64\", but you have nvidia-cublas-cu12 12.9.0.13 which is incompatible.\ntorch 2.6.0+cu124 requires nvidia-cudnn-cu12==9.1.0.70; platform_system == \"Linux\" and platform_machine == \"x86_64\", but you have nvidia-cudnn-cu12 9.3.0.75 which is incompatible.\ntorch 2.6.0+cu124 requires nvidia-cufft-cu12==11.2.1.3; platform_system == \"Linux\" and platform_machine == \"x86_64\", but you have nvidia-cufft-cu12 11.4.0.6 which is incompatible.\ntorch 2.6.0+cu124 requires nvidia-curand-cu12==10.3.5.147; platform_system == \"Linux\" and platform_machine == \"x86_64\", but you have nvidia-curand-cu12 10.3.10.19 which is incompatible.\ntorch 2.6.0+cu124 requires nvidia-cusolver-cu12==11.6.1.9; platform_system == \"Linux\" and platform_machine == \"x86_64\", but you have nvidia-cusolver-cu12 11.7.4.40 which is incompatible.\ntorch 2.6.0+cu124 requires nvidia-cusparse-cu12==12.3.1.170; platform_system == \"Linux\" and platform_machine == \"x86_64\", but you have nvidia-cusparse-cu12 12.5.9.5 which is incompatible.\ntorch 2.6.0+cu124 requires nvidia-nvjitlink-cu12==12.4.127; platform_system == \"Linux\" and platform_machine == \"x86_64\", but you have nvidia-nvjitlink-cu12 12.9.41 which is incompatible.\ngcsfs 2025.3.2 requires fsspec==2025.3.2, but you have fsspec 2025.3.0 which is incompatible.\u001b[0m\u001b[31m\n\u001b[0mSuccessfully installed evaluate-0.4.4 fsspec-2025.3.0\nRequirement already satisfied: accelerate in /usr/local/lib/python3.11/dist-packages (1.5.2)\nRequirement already satisfied: numpy<3.0.0,>=1.17 in /usr/local/lib/python3.11/dist-packages (from accelerate) (1.26.4)\nRequirement already satisfied: packaging>=20.0 in /usr/local/lib/python3.11/dist-packages (from accelerate) (25.0)\nRequirement already satisfied: psutil in /usr/local/lib/python3.11/dist-packages (from accelerate) (7.0.0)\nRequirement already satisfied: pyyaml in /usr/local/lib/python3.11/dist-packages (from accelerate) (6.0.2)\nRequirement already satisfied: torch>=2.0.0 in /usr/local/lib/python3.11/dist-packages (from accelerate) (2.6.0+cu124)\nRequirement already satisfied: huggingface-hub>=0.21.0 in /usr/local/lib/python3.11/dist-packages (from accelerate) (0.31.1)\nRequirement already satisfied: safetensors>=0.4.3 in /usr/local/lib/python3.11/dist-packages (from accelerate) (0.5.3)\nRequirement already satisfied: filelock in /usr/local/lib/python3.11/dist-packages (from huggingface-hub>=0.21.0->accelerate) (3.18.0)\nRequirement already satisfied: fsspec>=2023.5.0 in /usr/local/lib/python3.11/dist-packages (from huggingface-hub>=0.21.0->accelerate) (2025.3.0)\nRequirement already satisfied: requests in /usr/local/lib/python3.11/dist-packages (from huggingface-hub>=0.21.0->accelerate) (2.32.3)\nRequirement already satisfied: tqdm>=4.42.1 in /usr/local/lib/python3.11/dist-packages (from huggingface-hub>=0.21.0->accelerate) (4.67.1)\nRequirement already satisfied: typing-extensions>=3.7.4.3 in /usr/local/lib/python3.11/dist-packages (from huggingface-hub>=0.21.0->accelerate) (4.13.2)\nRequirement already satisfied: hf-xet<2.0.0,>=1.1.0 in /usr/local/lib/python3.11/dist-packages (from huggingface-hub>=0.21.0->accelerate) (1.1.0)\nRequirement already satisfied: mkl_fft in /usr/local/lib/python3.11/dist-packages (from numpy<3.0.0,>=1.17->accelerate) (1.3.8)\nRequirement already satisfied: mkl_random in /usr/local/lib/python3.11/dist-packages (from numpy<3.0.0,>=1.17->accelerate) (1.2.4)\nRequirement already satisfied: mkl_umath in /usr/local/lib/python3.11/dist-packages (from numpy<3.0.0,>=1.17->accelerate) (0.1.1)\nRequirement already satisfied: mkl in /usr/local/lib/python3.11/dist-packages (from numpy<3.0.0,>=1.17->accelerate) (2025.1.0)\nRequirement already satisfied: tbb4py in /usr/local/lib/python3.11/dist-packages (from numpy<3.0.0,>=1.17->accelerate) (2022.1.0)\nRequirement already satisfied: mkl-service in /usr/local/lib/python3.11/dist-packages (from numpy<3.0.0,>=1.17->accelerate) (2.4.1)\nRequirement already satisfied: networkx in /usr/local/lib/python3.11/dist-packages (from torch>=2.0.0->accelerate) (3.4.2)\nRequirement already satisfied: jinja2 in /usr/local/lib/python3.11/dist-packages (from torch>=2.0.0->accelerate) (3.1.6)\nRequirement already satisfied: nvidia-cuda-nvrtc-cu12==12.4.127 in /usr/local/lib/python3.11/dist-packages (from torch>=2.0.0->accelerate) (12.4.127)\nRequirement already satisfied: nvidia-cuda-runtime-cu12==12.4.127 in /usr/local/lib/python3.11/dist-packages (from torch>=2.0.0->accelerate) (12.4.127)\nRequirement already satisfied: nvidia-cuda-cupti-cu12==12.4.127 in /usr/local/lib/python3.11/dist-packages (from torch>=2.0.0->accelerate) (12.4.127)\nCollecting nvidia-cudnn-cu12==9.1.0.70 (from torch>=2.0.0->accelerate)\n  Downloading nvidia_cudnn_cu12-9.1.0.70-py3-none-manylinux2014_x86_64.whl.metadata (1.6 kB)\nCollecting nvidia-cublas-cu12==12.4.5.8 (from torch>=2.0.0->accelerate)\n  Downloading nvidia_cublas_cu12-12.4.5.8-py3-none-manylinux2014_x86_64.whl.metadata (1.5 kB)\nCollecting nvidia-cufft-cu12==11.2.1.3 (from torch>=2.0.0->accelerate)\n  Downloading nvidia_cufft_cu12-11.2.1.3-py3-none-manylinux2014_x86_64.whl.metadata (1.5 kB)\nCollecting nvidia-curand-cu12==10.3.5.147 (from torch>=2.0.0->accelerate)\n  Downloading nvidia_curand_cu12-10.3.5.147-py3-none-manylinux2014_x86_64.whl.metadata (1.5 kB)\nCollecting nvidia-cusolver-cu12==11.6.1.9 (from torch>=2.0.0->accelerate)\n  Downloading nvidia_cusolver_cu12-11.6.1.9-py3-none-manylinux2014_x86_64.whl.metadata (1.6 kB)\nCollecting nvidia-cusparse-cu12==12.3.1.170 (from torch>=2.0.0->accelerate)\n  Downloading nvidia_cusparse_cu12-12.3.1.170-py3-none-manylinux2014_x86_64.whl.metadata (1.6 kB)\nRequirement already satisfied: nvidia-cusparselt-cu12==0.6.2 in /usr/local/lib/python3.11/dist-packages (from torch>=2.0.0->accelerate) (0.6.2)\nRequirement already satisfied: nvidia-nccl-cu12==2.21.5 in /usr/local/lib/python3.11/dist-packages (from torch>=2.0.0->accelerate) (2.21.5)\nRequirement already satisfied: nvidia-nvtx-cu12==12.4.127 in /usr/local/lib/python3.11/dist-packages (from torch>=2.0.0->accelerate) (12.4.127)\nCollecting nvidia-nvjitlink-cu12==12.4.127 (from torch>=2.0.0->accelerate)\n  Downloading nvidia_nvjitlink_cu12-12.4.127-py3-none-manylinux2014_x86_64.whl.metadata (1.5 kB)\nRequirement already satisfied: triton==3.2.0 in /usr/local/lib/python3.11/dist-packages (from torch>=2.0.0->accelerate) (3.2.0)\nRequirement already satisfied: sympy==1.13.1 in /usr/local/lib/python3.11/dist-packages (from torch>=2.0.0->accelerate) (1.13.1)\nRequirement already satisfied: mpmath<1.4,>=1.1.0 in /usr/local/lib/python3.11/dist-packages (from sympy==1.13.1->torch>=2.0.0->accelerate) (1.3.0)\nRequirement already satisfied: MarkupSafe>=2.0 in /usr/local/lib/python3.11/dist-packages (from jinja2->torch>=2.0.0->accelerate) (3.0.2)\nRequirement already satisfied: intel-openmp<2026,>=2024 in /usr/local/lib/python3.11/dist-packages (from mkl->numpy<3.0.0,>=1.17->accelerate) (2024.2.0)\nRequirement already satisfied: tbb==2022.* in /usr/local/lib/python3.11/dist-packages (from mkl->numpy<3.0.0,>=1.17->accelerate) (2022.1.0)\nRequirement already satisfied: tcmlib==1.* in /usr/local/lib/python3.11/dist-packages (from tbb==2022.*->mkl->numpy<3.0.0,>=1.17->accelerate) (1.3.0)\nRequirement already satisfied: intel-cmplr-lib-rt in /usr/local/lib/python3.11/dist-packages (from mkl_umath->numpy<3.0.0,>=1.17->accelerate) (2024.2.0)\nRequirement already satisfied: charset-normalizer<4,>=2 in /usr/local/lib/python3.11/dist-packages (from requests->huggingface-hub>=0.21.0->accelerate) (3.4.2)\nRequirement already satisfied: idna<4,>=2.5 in /usr/local/lib/python3.11/dist-packages (from requests->huggingface-hub>=0.21.0->accelerate) (3.10)\nRequirement already satisfied: urllib3<3,>=1.21.1 in /usr/local/lib/python3.11/dist-packages (from requests->huggingface-hub>=0.21.0->accelerate) (2.4.0)\nRequirement already satisfied: certifi>=2017.4.17 in /usr/local/lib/python3.11/dist-packages (from requests->huggingface-hub>=0.21.0->accelerate) (2025.4.26)\nRequirement already satisfied: intel-cmplr-lib-ur==2024.2.0 in /usr/local/lib/python3.11/dist-packages (from intel-openmp<2026,>=2024->mkl->numpy<3.0.0,>=1.17->accelerate) (2024.2.0)\nDownloading nvidia_cublas_cu12-12.4.5.8-py3-none-manylinux2014_x86_64.whl (363.4 MB)\n\u001b[2K   \u001b[90m━━━━━━━━━━━━━━━━━━━━━━━━━━━━━━━━━━━━━━━━\u001b[0m \u001b[32m363.4/363.4 MB\u001b[0m \u001b[31m4.7 MB/s\u001b[0m eta \u001b[36m0:00:00\u001b[0m0:00:01\u001b[0m00:01\u001b[0m\n\u001b[?25hDownloading nvidia_cudnn_cu12-9.1.0.70-py3-none-manylinux2014_x86_64.whl (664.8 MB)\n\u001b[2K   \u001b[90m━━━━━━━━━━━━━━━━━━━━━━━━━━━━━━━━━━━━━━━━\u001b[0m \u001b[32m664.8/664.8 MB\u001b[0m \u001b[31m2.1 MB/s\u001b[0m eta \u001b[36m0:00:00\u001b[0m0:00:01\u001b[0m00:01\u001b[0m\n\u001b[?25hDownloading nvidia_cufft_cu12-11.2.1.3-py3-none-manylinux2014_x86_64.whl (211.5 MB)\n\u001b[2K   \u001b[90m━━━━━━━━━━━━━━━━━━━━━━━━━━━━━━━━━━━━━━━━\u001b[0m \u001b[32m211.5/211.5 MB\u001b[0m \u001b[31m2.3 MB/s\u001b[0m eta \u001b[36m0:00:00\u001b[0m0:00:01\u001b[0m00:01\u001b[0m\n\u001b[?25hDownloading nvidia_curand_cu12-10.3.5.147-py3-none-manylinux2014_x86_64.whl (56.3 MB)\n\u001b[2K   \u001b[90m━━━━━━━━━━━━━━━━━━━━━━━━━━━━━━━━━━━━━━━━\u001b[0m \u001b[32m56.3/56.3 MB\u001b[0m \u001b[31m16.6 MB/s\u001b[0m eta \u001b[36m0:00:00\u001b[0m:00:01\u001b[0m00:01\u001b[0m\n\u001b[?25hDownloading nvidia_cusolver_cu12-11.6.1.9-py3-none-manylinux2014_x86_64.whl (127.9 MB)\n\u001b[2K   \u001b[90m━━━━━━━━━━━━━━━━━━━━━━━━━━━━━━━━━━━━━━━━\u001b[0m \u001b[32m127.9/127.9 MB\u001b[0m \u001b[31m13.4 MB/s\u001b[0m eta \u001b[36m0:00:00\u001b[0m:00:01\u001b[0m00:01\u001b[0m\n\u001b[?25hDownloading nvidia_cusparse_cu12-12.3.1.170-py3-none-manylinux2014_x86_64.whl (207.5 MB)\n\u001b[2K   \u001b[90m━━━━━━━━━━━━━━━━━━━━━━━━━━━━━━━━━━━━━━━━\u001b[0m \u001b[32m207.5/207.5 MB\u001b[0m \u001b[31m7.3 MB/s\u001b[0m eta \u001b[36m0:00:00\u001b[0m:00:01\u001b[0m00:01\u001b[0mm\n\u001b[?25hDownloading nvidia_nvjitlink_cu12-12.4.127-py3-none-manylinux2014_x86_64.whl (21.1 MB)\n\u001b[2K   \u001b[90m━━━━━━━━━━━━━━━━━━━━━━━━━━━━━━━━━━━━━━━━\u001b[0m \u001b[32m21.1/21.1 MB\u001b[0m \u001b[31m43.7 MB/s\u001b[0m eta \u001b[36m0:00:00\u001b[0m00:01\u001b[0m00:01\u001b[0m\n\u001b[?25hInstalling collected packages: nvidia-nvjitlink-cu12, nvidia-curand-cu12, nvidia-cufft-cu12, nvidia-cublas-cu12, nvidia-cusparse-cu12, nvidia-cudnn-cu12, nvidia-cusolver-cu12\n  Attempting uninstall: nvidia-nvjitlink-cu12\n    Found existing installation: nvidia-nvjitlink-cu12 12.9.41\n    Uninstalling nvidia-nvjitlink-cu12-12.9.41:\n      Successfully uninstalled nvidia-nvjitlink-cu12-12.9.41\n  Attempting uninstall: nvidia-curand-cu12\n    Found existing installation: nvidia-curand-cu12 10.3.10.19\n    Uninstalling nvidia-curand-cu12-10.3.10.19:\n      Successfully uninstalled nvidia-curand-cu12-10.3.10.19\n  Attempting uninstall: nvidia-cufft-cu12\n    Found existing installation: nvidia-cufft-cu12 11.4.0.6\n    Uninstalling nvidia-cufft-cu12-11.4.0.6:\n      Successfully uninstalled nvidia-cufft-cu12-11.4.0.6\n  Attempting uninstall: nvidia-cublas-cu12\n    Found existing installation: nvidia-cublas-cu12 12.9.0.13\n    Uninstalling nvidia-cublas-cu12-12.9.0.13:\n      Successfully uninstalled nvidia-cublas-cu12-12.9.0.13\n  Attempting uninstall: nvidia-cusparse-cu12\n    Found existing installation: nvidia-cusparse-cu12 12.5.9.5\n    Uninstalling nvidia-cusparse-cu12-12.5.9.5:\n      Successfully uninstalled nvidia-cusparse-cu12-12.5.9.5\n  Attempting uninstall: nvidia-cudnn-cu12\n    Found existing installation: nvidia-cudnn-cu12 9.3.0.75\n    Uninstalling nvidia-cudnn-cu12-9.3.0.75:\n      Successfully uninstalled nvidia-cudnn-cu12-9.3.0.75\n  Attempting uninstall: nvidia-cusolver-cu12\n    Found existing installation: nvidia-cusolver-cu12 11.7.4.40\n    Uninstalling nvidia-cusolver-cu12-11.7.4.40:\n      Successfully uninstalled nvidia-cusolver-cu12-11.7.4.40\nSuccessfully installed nvidia-cublas-cu12-12.4.5.8 nvidia-cudnn-cu12-9.1.0.70 nvidia-cufft-cu12-11.2.1.3 nvidia-curand-cu12-10.3.5.147 nvidia-cusolver-cu12-11.6.1.9 nvidia-cusparse-cu12-12.3.1.170 nvidia-nvjitlink-cu12-12.4.127\nRequirement already satisfied: datasets in /usr/local/lib/python3.11/dist-packages (3.6.0)\nRequirement already satisfied: huggingface_hub in /usr/local/lib/python3.11/dist-packages (0.31.1)\nCollecting huggingface_hub\n  Downloading huggingface_hub-0.33.0-py3-none-any.whl.metadata (14 kB)\nRequirement already satisfied: fsspec in /usr/local/lib/python3.11/dist-packages (2025.3.0)\nCollecting fsspec\n  Downloading fsspec-2025.5.1-py3-none-any.whl.metadata (11 kB)\nRequirement already satisfied: filelock in /usr/local/lib/python3.11/dist-packages (from datasets) (3.18.0)\nRequirement already satisfied: numpy>=1.17 in /usr/local/lib/python3.11/dist-packages (from datasets) (1.26.4)\nRequirement already satisfied: pyarrow>=15.0.0 in /usr/local/lib/python3.11/dist-packages (from datasets) (19.0.1)\nRequirement already satisfied: dill<0.3.9,>=0.3.0 in /usr/local/lib/python3.11/dist-packages (from datasets) (0.3.8)\nRequirement already satisfied: pandas in /usr/local/lib/python3.11/dist-packages (from datasets) (2.2.3)\nRequirement already satisfied: requests>=2.32.2 in /usr/local/lib/python3.11/dist-packages (from datasets) (2.32.3)\nRequirement already satisfied: tqdm>=4.66.3 in /usr/local/lib/python3.11/dist-packages (from datasets) (4.67.1)\nRequirement already satisfied: xxhash in /usr/local/lib/python3.11/dist-packages (from datasets) (3.5.0)\nRequirement already satisfied: multiprocess<0.70.17 in /usr/local/lib/python3.11/dist-packages (from datasets) (0.70.16)\nRequirement already satisfied: packaging in /usr/local/lib/python3.11/dist-packages (from datasets) (25.0)\nRequirement already satisfied: pyyaml>=5.1 in /usr/local/lib/python3.11/dist-packages (from datasets) (6.0.2)\nRequirement already satisfied: typing-extensions>=3.7.4.3 in /usr/local/lib/python3.11/dist-packages (from huggingface_hub) (4.13.2)\nCollecting hf-xet<2.0.0,>=1.1.2 (from huggingface_hub)\n  Downloading hf_xet-1.1.5-cp37-abi3-manylinux_2_17_x86_64.manylinux2014_x86_64.whl.metadata (879 bytes)\nRequirement already satisfied: aiohttp!=4.0.0a0,!=4.0.0a1 in /usr/local/lib/python3.11/dist-packages (from fsspec[http]<=2025.3.0,>=2023.1.0->datasets) (3.11.18)\nRequirement already satisfied: mkl_fft in /usr/local/lib/python3.11/dist-packages (from numpy>=1.17->datasets) (1.3.8)\nRequirement already satisfied: mkl_random in /usr/local/lib/python3.11/dist-packages (from numpy>=1.17->datasets) (1.2.4)\nRequirement already satisfied: mkl_umath in /usr/local/lib/python3.11/dist-packages (from numpy>=1.17->datasets) (0.1.1)\nRequirement already satisfied: mkl in /usr/local/lib/python3.11/dist-packages (from numpy>=1.17->datasets) (2025.1.0)\nRequirement already satisfied: tbb4py in /usr/local/lib/python3.11/dist-packages (from numpy>=1.17->datasets) (2022.1.0)\nRequirement already satisfied: mkl-service in /usr/local/lib/python3.11/dist-packages (from numpy>=1.17->datasets) (2.4.1)\nRequirement already satisfied: charset-normalizer<4,>=2 in /usr/local/lib/python3.11/dist-packages (from requests>=2.32.2->datasets) (3.4.2)\nRequirement already satisfied: idna<4,>=2.5 in /usr/local/lib/python3.11/dist-packages (from requests>=2.32.2->datasets) (3.10)\nRequirement already satisfied: urllib3<3,>=1.21.1 in /usr/local/lib/python3.11/dist-packages (from requests>=2.32.2->datasets) (2.4.0)\nRequirement already satisfied: certifi>=2017.4.17 in /usr/local/lib/python3.11/dist-packages (from requests>=2.32.2->datasets) (2025.4.26)\nRequirement already satisfied: python-dateutil>=2.8.2 in /usr/local/lib/python3.11/dist-packages (from pandas->datasets) (2.9.0.post0)\nRequirement already satisfied: pytz>=2020.1 in /usr/local/lib/python3.11/dist-packages (from pandas->datasets) (2025.2)\nRequirement already satisfied: tzdata>=2022.7 in /usr/local/lib/python3.11/dist-packages (from pandas->datasets) (2025.2)\nRequirement already satisfied: aiohappyeyeballs>=2.3.0 in /usr/local/lib/python3.11/dist-packages (from aiohttp!=4.0.0a0,!=4.0.0a1->fsspec[http]<=2025.3.0,>=2023.1.0->datasets) (2.6.1)\nRequirement already satisfied: aiosignal>=1.1.2 in /usr/local/lib/python3.11/dist-packages (from aiohttp!=4.0.0a0,!=4.0.0a1->fsspec[http]<=2025.3.0,>=2023.1.0->datasets) (1.3.2)\nRequirement already satisfied: attrs>=17.3.0 in /usr/local/lib/python3.11/dist-packages (from aiohttp!=4.0.0a0,!=4.0.0a1->fsspec[http]<=2025.3.0,>=2023.1.0->datasets) (25.3.0)\nRequirement already satisfied: frozenlist>=1.1.1 in /usr/local/lib/python3.11/dist-packages (from aiohttp!=4.0.0a0,!=4.0.0a1->fsspec[http]<=2025.3.0,>=2023.1.0->datasets) (1.6.0)\nRequirement already satisfied: multidict<7.0,>=4.5 in /usr/local/lib/python3.11/dist-packages (from aiohttp!=4.0.0a0,!=4.0.0a1->fsspec[http]<=2025.3.0,>=2023.1.0->datasets) (6.4.3)\nRequirement already satisfied: propcache>=0.2.0 in /usr/local/lib/python3.11/dist-packages (from aiohttp!=4.0.0a0,!=4.0.0a1->fsspec[http]<=2025.3.0,>=2023.1.0->datasets) (0.3.1)\nRequirement already satisfied: yarl<2.0,>=1.17.0 in /usr/local/lib/python3.11/dist-packages (from aiohttp!=4.0.0a0,!=4.0.0a1->fsspec[http]<=2025.3.0,>=2023.1.0->datasets) (1.20.0)\nRequirement already satisfied: six>=1.5 in /usr/local/lib/python3.11/dist-packages (from python-dateutil>=2.8.2->pandas->datasets) (1.17.0)\nRequirement already satisfied: intel-openmp<2026,>=2024 in /usr/local/lib/python3.11/dist-packages (from mkl->numpy>=1.17->datasets) (2024.2.0)\nRequirement already satisfied: tbb==2022.* in /usr/local/lib/python3.11/dist-packages (from mkl->numpy>=1.17->datasets) (2022.1.0)\nRequirement already satisfied: tcmlib==1.* in /usr/local/lib/python3.11/dist-packages (from tbb==2022.*->mkl->numpy>=1.17->datasets) (1.3.0)\nRequirement already satisfied: intel-cmplr-lib-rt in /usr/local/lib/python3.11/dist-packages (from mkl_umath->numpy>=1.17->datasets) (2024.2.0)\nRequirement already satisfied: intel-cmplr-lib-ur==2024.2.0 in /usr/local/lib/python3.11/dist-packages (from intel-openmp<2026,>=2024->mkl->numpy>=1.17->datasets) (2024.2.0)\nDownloading huggingface_hub-0.33.0-py3-none-any.whl (514 kB)\n\u001b[2K   \u001b[90m━━━━━━━━━━━━━━━━━━━━━━━━━━━━━━━━━━━━━━━━\u001b[0m \u001b[32m514.8/514.8 kB\u001b[0m \u001b[31m12.9 MB/s\u001b[0m eta \u001b[36m0:00:00\u001b[0m00:01\u001b[0m\n\u001b[?25hDownloading hf_xet-1.1.5-cp37-abi3-manylinux_2_17_x86_64.manylinux2014_x86_64.whl (3.1 MB)\n\u001b[2K   \u001b[90m━━━━━━━━━━━━━━━━━━━━━━━━━━━━━━━━━━━━━━━━\u001b[0m \u001b[32m3.1/3.1 MB\u001b[0m \u001b[31m66.8 MB/s\u001b[0m eta \u001b[36m0:00:00\u001b[0m:00:01\u001b[0m\n\u001b[?25hInstalling collected packages: hf-xet, huggingface_hub\n  Attempting uninstall: hf-xet\n    Found existing installation: hf-xet 1.1.0\n    Uninstalling hf-xet-1.1.0:\n      Successfully uninstalled hf-xet-1.1.0\n  Attempting uninstall: huggingface_hub\n    Found existing installation: huggingface-hub 0.31.1\n    Uninstalling huggingface-hub-0.31.1:\n      Successfully uninstalled huggingface-hub-0.31.1\nSuccessfully installed hf-xet-1.1.5 huggingface_hub-0.33.0\nCollecting rouge_score\n  Downloading rouge_score-0.1.2.tar.gz (17 kB)\n  Preparing metadata (setup.py) ... \u001b[?25l\u001b[?25hdone\nRequirement already satisfied: absl-py in /usr/local/lib/python3.11/dist-packages (from rouge_score) (1.4.0)\nRequirement already satisfied: nltk in /usr/local/lib/python3.11/dist-packages (from rouge_score) (3.9.1)\nRequirement already satisfied: numpy in /usr/local/lib/python3.11/dist-packages (from rouge_score) (1.26.4)\nRequirement already satisfied: six>=1.14.0 in /usr/local/lib/python3.11/dist-packages (from rouge_score) (1.17.0)\nRequirement already satisfied: click in /usr/local/lib/python3.11/dist-packages (from nltk->rouge_score) (8.1.8)\nRequirement already satisfied: joblib in /usr/local/lib/python3.11/dist-packages (from nltk->rouge_score) (1.5.0)\nRequirement already satisfied: regex>=2021.8.3 in /usr/local/lib/python3.11/dist-packages (from nltk->rouge_score) (2024.11.6)\nRequirement already satisfied: tqdm in /usr/local/lib/python3.11/dist-packages (from nltk->rouge_score) (4.67.1)\nRequirement already satisfied: mkl_fft in /usr/local/lib/python3.11/dist-packages (from numpy->rouge_score) (1.3.8)\nRequirement already satisfied: mkl_random in /usr/local/lib/python3.11/dist-packages (from numpy->rouge_score) (1.2.4)\nRequirement already satisfied: mkl_umath in /usr/local/lib/python3.11/dist-packages (from numpy->rouge_score) (0.1.1)\nRequirement already satisfied: mkl in /usr/local/lib/python3.11/dist-packages (from numpy->rouge_score) (2025.1.0)\nRequirement already satisfied: tbb4py in /usr/local/lib/python3.11/dist-packages (from numpy->rouge_score) (2022.1.0)\nRequirement already satisfied: mkl-service in /usr/local/lib/python3.11/dist-packages (from numpy->rouge_score) (2.4.1)\nRequirement already satisfied: intel-openmp<2026,>=2024 in /usr/local/lib/python3.11/dist-packages (from mkl->numpy->rouge_score) (2024.2.0)\nRequirement already satisfied: tbb==2022.* in /usr/local/lib/python3.11/dist-packages (from mkl->numpy->rouge_score) (2022.1.0)\nRequirement already satisfied: tcmlib==1.* in /usr/local/lib/python3.11/dist-packages (from tbb==2022.*->mkl->numpy->rouge_score) (1.3.0)\nRequirement already satisfied: intel-cmplr-lib-rt in /usr/local/lib/python3.11/dist-packages (from mkl_umath->numpy->rouge_score) (2024.2.0)\nRequirement already satisfied: intel-cmplr-lib-ur==2024.2.0 in /usr/local/lib/python3.11/dist-packages (from intel-openmp<2026,>=2024->mkl->numpy->rouge_score) (2024.2.0)\nBuilding wheels for collected packages: rouge_score\n  Building wheel for rouge_score (setup.py) ... \u001b[?25l\u001b[?25hdone\n  Created wheel for rouge_score: filename=rouge_score-0.1.2-py3-none-any.whl size=24934 sha256=f2e029f37e4b5fd64e2317d4198a8d8613d81f655294d830fbc359fc25d4b4ac\n  Stored in directory: /root/.cache/pip/wheels/1e/19/43/8a442dc83660ca25e163e1bd1f89919284ab0d0c1475475148\nSuccessfully built rouge_score\nInstalling collected packages: rouge_score\nSuccessfully installed rouge_score-0.1.2\nRequirement already satisfied: nltk in /usr/local/lib/python3.11/dist-packages (3.9.1)\nRequirement already satisfied: click in /usr/local/lib/python3.11/dist-packages (from nltk) (8.1.8)\nRequirement already satisfied: joblib in /usr/local/lib/python3.11/dist-packages (from nltk) (1.5.0)\nRequirement already satisfied: regex>=2021.8.3 in /usr/local/lib/python3.11/dist-packages (from nltk) (2024.11.6)\nRequirement already satisfied: tqdm in /usr/local/lib/python3.11/dist-packages (from nltk) (4.67.1)\n",
          "output_type": "stream"
        }
      ],
      "execution_count": null
    },
    {
      "cell_type": "code",
      "source": [
        "from datasets import load_dataset\n",
        "from transformers import AutoTokenizer\n",
        "import evaluate\n",
        "import nltk\n",
        "nltk.download(\"punkt\")\n",
        "nltk.download('wordnet')\n",
        "nltk.download('omw-1.4')\n",
        "nltk.download('punkt_tab')\n",
        "from nltk.tokenize import sent_tokenize\n",
        "import pandas as pd\n",
        "from transformers import AutoModelForSeq2SeqLM\n",
        "from transformers import DataCollatorForSeq2Seq\n",
        "from torch.utils.data import DataLoader\n",
        "from torch.optim import AdamW\n",
        "from accelerate import Accelerator\n",
        "from transformers import get_scheduler"
      ],
      "metadata": {
        "trusted": true,
        "execution": {
          "iopub.status.busy": "2025-06-24T19:04:15.392433Z",
          "iopub.execute_input": "2025-06-24T19:04:15.392679Z",
          "iopub.status.idle": "2025-06-24T19:04:39.980774Z",
          "shell.execute_reply.started": "2025-06-24T19:04:15.392656Z",
          "shell.execute_reply": "2025-06-24T19:04:39.980136Z"
        },
        "id": "pESBUj0sHT40",
        "outputId": "ecca5c84-1535-40b8-cd6b-85e6a6708499"
      },
      "outputs": [
        {
          "name": "stderr",
          "text": "2025-06-24 19:04:28.132624: E external/local_xla/xla/stream_executor/cuda/cuda_fft.cc:477] Unable to register cuFFT factory: Attempting to register factory for plugin cuFFT when one has already been registered\nWARNING: All log messages before absl::InitializeLog() is called are written to STDERR\nE0000 00:00:1750791868.300136      35 cuda_dnn.cc:8310] Unable to register cuDNN factory: Attempting to register factory for plugin cuDNN when one has already been registered\nE0000 00:00:1750791868.350830      35 cuda_blas.cc:1418] Unable to register cuBLAS factory: Attempting to register factory for plugin cuBLAS when one has already been registered\n[nltk_data] Downloading package punkt to /usr/share/nltk_data...\n[nltk_data]   Package punkt is already up-to-date!\n[nltk_data] Downloading package wordnet to /usr/share/nltk_data...\n[nltk_data]   Package wordnet is already up-to-date!\n[nltk_data] Downloading package omw-1.4 to /usr/share/nltk_data...\n[nltk_data] Downloading package punkt_tab to /usr/share/nltk_data...\n[nltk_data]   Package punkt_tab is already up-to-date!\n",
          "output_type": "stream"
        }
      ],
      "execution_count": null
    },
    {
      "cell_type": "code",
      "source": [
        "ds = load_dataset(\"azrai99/the-star-news-articles\")\n",
        "ds"
      ],
      "metadata": {
        "_uuid": "8f2839f25d086af736a60e9eeb907d3b93b6e0e5",
        "_cell_guid": "b1076dfc-b9ad-4769-8c92-a6c4dae69d19",
        "trusted": true,
        "execution": {
          "iopub.status.busy": "2025-06-24T19:04:39.981479Z",
          "iopub.execute_input": "2025-06-24T19:04:39.982452Z",
          "iopub.status.idle": "2025-06-24T19:04:43.063144Z",
          "shell.execute_reply.started": "2025-06-24T19:04:39.982424Z",
          "shell.execute_reply": "2025-06-24T19:04:43.062552Z"
        },
        "colab": {
          "referenced_widgets": [
            "eff94d8d05454983a1502e820d2fbe4a",
            "affc266c81e840688bfaeb6d49f9b8d5",
            "3fa61aa69bb34ec083f0329143def13d"
          ]
        },
        "id": "vbKZef6sHT42",
        "outputId": "33e0a742-e78e-4425-c2b1-29ecc6c77c7e"
      },
      "outputs": [
        {
          "output_type": "display_data",
          "data": {
            "text/plain": "README.md:   0%|          | 0.00/48.0 [00:00<?, ?B/s]",
            "application/vnd.jupyter.widget-view+json": {
              "version_major": 2,
              "version_minor": 0,
              "model_id": "eff94d8d05454983a1502e820d2fbe4a"
            }
          },
          "metadata": {}
        },
        {
          "output_type": "display_data",
          "data": {
            "text/plain": "news_v1.csv:   0%|          | 0.00/67.9M [00:00<?, ?B/s]",
            "application/vnd.jupyter.widget-view+json": {
              "version_major": 2,
              "version_minor": 0,
              "model_id": "affc266c81e840688bfaeb6d49f9b8d5"
            }
          },
          "metadata": {}
        },
        {
          "output_type": "display_data",
          "data": {
            "text/plain": "Generating train split:   0%|          | 0/21709 [00:00<?, ? examples/s]",
            "application/vnd.jupyter.widget-view+json": {
              "version_major": 2,
              "version_minor": 0,
              "model_id": "3fa61aa69bb34ec083f0329143def13d"
            }
          },
          "metadata": {}
        },
        {
          "execution_count": 3,
          "output_type": "execute_result",
          "data": {
            "text/plain": "DatasetDict({\n    train: Dataset({\n        features: ['content_id', 'title', 'text', 'section', 'category', 'content_tier', 'content_length', 'authors', 'published_date', 'keywords', 'summary', 'url', 'top_image'],\n        num_rows: 21709\n    })\n})"
          },
          "metadata": {}
        }
      ],
      "execution_count": null
    },
    {
      "cell_type": "code",
      "source": [
        "ds['train'][0]"
      ],
      "metadata": {
        "trusted": true,
        "execution": {
          "iopub.status.busy": "2025-06-24T19:04:43.064722Z",
          "iopub.execute_input": "2025-06-24T19:04:43.064959Z",
          "iopub.status.idle": "2025-06-24T19:04:43.071231Z",
          "shell.execute_reply.started": "2025-06-24T19:04:43.064942Z",
          "shell.execute_reply": "2025-06-24T19:04:43.070689Z"
        },
        "id": "Q2bnH46PHT43",
        "outputId": "f674a870-69d5-4898-8c17-3886a408effb"
      },
      "outputs": [
        {
          "execution_count": 4,
          "output_type": "execute_result",
          "data": {
            "text/plain": "{'content_id': 1375152,\n 'title': 'Chinese Premier says Malaysia-China relations exemplary, proposes four steps to advance ties',\n 'text': 'KUALA LUMPUR: China will continue to work with Malaysia in advancing their friendship and bilateral relations for mutual benefit and a brighter future for both nations, said its Premier Li Qiang.\\n\\nSpeaking at a dinner to commemorate the 50th anniversary of Malaysia-China bilateral relations, which was attended by Prime Minister Datuk Seri Anwar Ibrahim here on Wednesday (June 19), Li said the relationship is a fine example of relations between countries in the region.\\n\\nLi emphasised the milestone as a new starting point for both nations to chart a stronger and more prosperous shared future together.\\n\\n\"Be it in the past, present or future, friendship remains the defining feature of China-Malaysia relations. We have brought this relationship to a new starting point and we share the aspiration to carry it forward to future generations,” he said.\\n\\nTowards that, Li highlighted four proposals that both countries can focus on to build a stronger relationship going forward.\\n\\nThe first, he said is to enhance the traditional friendship and consolidate the foundation for bilateral relations.\\n\\n\"It is important to keep to the right direction in growing this bilateral relation, respect each other\\'s core interests and major concerns, build stronger political mutual trust, and pursue wide-ranging cooperation in the context of building a China-Malaysia community with a shared future,” he said.\\n\\nSecondly, Li said there is a need to synergise the development strategies of the two countries while expanding on their mutual interests.\\n\\n\"It is important to develop greater synergy between the Belt and Road Initiative and the Madani Economy Framework, step up trade in agricultural and other products, and tap the potential for cooperation in emerging areas, such as green energy and advanced manufacturing, to deliver more benefits to our two nations,” he said.\\n\\nOn the third suggestion, the Chinese premier highlighted on the need to deepen exchanges and mutual learning to promote further understanding of the people in the two countries, including in the fields of arts and culture, tourism, education and sports.\\n\\nFourthly, Li proposed for a strengthened solidarity and coordination between China and Malaysia in the international arena to address global challenges together.\\n\\n\"China is ready to work with Malaysia to advocate for an equal and orderly multipolar world and a universally beneficial and inclusive economic globalisation, and jointly build a peaceful, safe and secure, prosperous, beautiful, amicable and harmonious home in Asia.\\n\\nLi, who is in the country for a three-day official visit since Tuesday (June 18), recalled that 50 years ago, Malaysia had withstood the Cold War pressure to establish a formal relationship with China, taking the lead among Asean countries.\\n\\nToday, the ties have remained strong across all fronts, with both nations continuing to steadfastly support each other through hard times while emphasising the relationship is based on win-win cooperation.\\n\\n\"Over the past 50 years of diplomatic ties, China and Malaysia have treated each other with kindness and sincerity, and have remained good neighbours, good friends and good partners.\\n\\n\"Our two countries have rendered each other firm support in exploring the development paths suited to our national conditions. Ours is a fine example of relations between the countries in the region,” he said.\\n\\nLi also noted that China has been Malaysia\\'s largest trading partner for 15 consecutive years.\\n\\nHe highlighted that fruits from Malaysia like durian and mangosteen are famous among Chinese consumers.\\n\\n\"Through mutually beneficial cooperation, our two countries have both achieved growth and built ever closer economic ties, which have created a strong impetus for our respective modernisation drive,” he said.\\n\\nIn 2023, China remained Malaysia\\'s largest trading partner for 15 consecutive years since 2009, with a trade volume of RM450.84bil (US$98.90bil).\\n\\n\"Going forward, China will march ahead together with Malaysia towards modernisation, champion friendship as the overarching theme in our bilateral relations, and write a new chapter of a shared future,” he said.\\n\\nThis is Li’s inaugural official visit to Malaysia since taking office in March 2023.\\n\\nThe visit coincides with the 50th anniversary of the establishment of diplomatic relations between Malaysia and China, following the signing of the Joint Statement between second prime minister Tun Abdul Razak Hussein and then-premier Chou En Lai on May 31, 1974.\\n\\nMalaysia\\'s diplomatic relations with China have strengthened since the upgrading of bilateral relations to a Comprehensive Strategic Partnership in 2013. - Bernama',\n 'section': 'News',\n 'category': 'Nation',\n 'content_tier': 'Complimentary',\n 'content_length': 'Medium',\n 'authors': None,\n 'published_date': '2024-06-19 00:00:00',\n 'keywords': 'Li Qiang,Anwar Ibrahim,China,Malaysia,Anniversary',\n 'summary': 'KUALA LUMPUR: China will continue to work with Malaysia in advancing their friendship and bilateral relations for mutual benefit and a brighter future for both nations, said its Premier Li Qiang.',\n 'url': 'https://www.thestar.com.my/news/nation/2024/06/19/chinese-premier-says-malaysia-china-relations-exemplary-proposes-four-steps-to-advance-ties',\n 'top_image': 'https://apicms.thestar.com.my/uploads/images/2024/06/20/2757820.jpeg'}"
          },
          "metadata": {}
        }
      ],
      "execution_count": null
    },
    {
      "cell_type": "code",
      "source": [
        "def show_samples(dataset, num_samples=3, seed=42):\n",
        "    sample = dataset[\"train\"].shuffle(seed=seed).select(range(num_samples))\n",
        "    for example in sample:\n",
        "        print(f\"\\n'>> targets: {example['title']}'\")\n",
        "        print(f\"'>> task_type: {example['text']}'\")\n",
        "\n",
        "\n",
        "show_samples(ds)"
      ],
      "metadata": {
        "trusted": true,
        "execution": {
          "iopub.status.busy": "2025-06-24T19:04:43.071868Z",
          "iopub.execute_input": "2025-06-24T19:04:43.072060Z",
          "iopub.status.idle": "2025-06-24T19:04:43.100469Z",
          "shell.execute_reply.started": "2025-06-24T19:04:43.072045Z",
          "shell.execute_reply": "2025-06-24T19:04:43.099881Z"
        },
        "id": "_tKZ-onXHT44",
        "outputId": "b5e804fd-4f8b-4441-854d-3d92ce49c653"
      },
      "outputs": [
        {
          "name": "stdout",
          "text": "\n'>> targets: GameStop, AMC dive further as meme stocks rally tapers off'\n'>> task_type: (Reuters) -Retail investor darlings GameStop and AMC fell for a second straight session on Thursday, as the excitement over the social media return of \"Roaring Kitty\", who was the central figure in 2021 meme stock rally, fizzles out.\n\nShares of the videogame retailer GameStop fell 17% to $32.60 after jumping as much as $64.83 this week. Theater chain AMC shed 11% following an 88% surge since Friday's close.\n\nBoth the shares were to set to shed half of their gains made in the first two sessions of the week following a series of posts from Keith Gill's X account \"Roaring Kitty\", whose bullish calls on GameStop was a reason for the 2021 meme stocks frenzy.\n\nUnlike 2021 when Reddit users banded together to target highly shorted stocks that burnt the bearish bets of hedge funds, institutional investors too are part of the meme stock mania, Vanda Research, which tracks retail investor flows, said.\n\n\"The short sellers three years ago were completely surprised by the magnitude of the mass purchases and ultimately overwhelmed by the size of the short squeeze,\" said Rick Meckler, partner at Cherry Lane Investments.\n\n\"They have likely learned from that experience and left themselves less exposed thereby reducing the potential for extended upward pressure.\"\n\nShort interests, or bets on a stock's decline, have stayed rather flat for both GameStop and AMC this week, analytics firm Ortex Technologies said.\n\nShort sellers took unrealized losses worth $1.14 billion this week from their bets against the two struggling companies and were set to make just about $460 million in paper gains on Thursday, it said.\n\nMeanwhile, hedge fund Renaissance Technologies placed a new bet for GameStop shares to rise further and significantly increased its long position in AMC during the first quarter.\n\nGameStop stock was still nearly 70% below its 2021 peak, while AMC, which hit a record low last month, was 98% off its all-time high.\n\nSince his first post on Sunday, Gill has put out more than 50 movies clips on X.com. He did not respond to a Reuters request for comment on what the posts mean and whether he planned on making his investments public again.\n\nFormer U.S. SEC Chair Jay Clayton told CNBC on Wednesday the posts have triggered \"a wave of euphoric and speculative buying in the retail (trading) community which is never a good thing\", adding that it was not illegal to say \"I like a stock\".\n\nOther highly shorted stocks that caught a bid this week were lower on Thursday. Tupperware fell 6%, while U.S.-listed BlackBerry and SunPower shed about 2% each.\n\nOPTIONS TRADERS RUSH IN\n\nOptions activity remained strong. GameStop and AMC were among the top ten securities with highest options volume by 11:15 a.m. ET, with majority of traders buying call options, which bet on a stock's rise, data from Options Clearing Corp showed.\n\nThe pace of borrowing for margin trading by U.S. investors, however, has been restrained compared to the GameStop short squeeze in January 2021, J.P.Morgan strategists said in a note.\n\n\"Retail investors are once bitten twice shy after they ended up losing a lot of money last time round,\" said Ben Laidler, global markets strategist at digital brokerage eToro.\n\n\"Even though there are more retail investors today, you're not seeing that follow through into the rally this time as you saw last time.\"\n\n(Reporting by Medha Singh and Pranav Kashyap in Bengaluru; Editing by Arun Koyyur)'\n\n'>> targets: Policies can help China hit GDP goal'\n'>> task_type: CHINA has room to pursue a more proactive fiscal policy and an expansionary monetary policy, thereby boosting economic recovery and helping achieve the targeted economic growth of around 5 percent this year, experts said on Tuesday.\n\nThey made the remarks after the Government Work Report announced the economic expansion goal on Tuesday. The report was delivered by Premier Li Qiang at the opening of the second session of the 14th National People's Congress, the country's top legislature, in Beijing.\n\nThe country will intensify proactive fiscal policy as appropriate with improved quality and efficiency, and exercise a prudent monetary policy in a flexible, moderate, targeted and effective manner, the Government Work Report said.\n\nIt set the projected deficit-to-GDP ratio at 3 percent for 2024 and targeted a whole-year inflation rate of around 3 percent.\n\nWith this planned fiscal deficit rate, the deficits are expected to reach 4.06 trillion yuan ($560 billion) this year, with an increase of 180 billion yuan from the deficits for 2023 budgeted at the beginning of last year.\n\nThe general public budget expenditure is planned to be 28.5 trillion yuan, increasing 1.1 trillion yuan from that of last year.\n\nThe report also said adequate liquidity will be maintained at a proper level, while aggregate financing and money supply will stay in step with the projected economic growth and increase in the consumer price index.\n\nXu Gao, chief economist at BOC International, said: \"The main challenge facing the Chinese economy is weak demand with underlying issues of tepid investment and dampened confidence. With that, it's crucial to step up efforts on expanding investment to boost economic recovery.\n\n\"The intensity of fiscal policy has been increased modestly from last year, and I expect stronger fiscal policy later this year to better achieve the economic growth target.\"\n\nChang Haizhong, executive director of corporates at ratings agency Fitch Bohua, said the targeted deficit rate is lower than market expectations, reflecting the government's determination not to engage in short-term strong stimulus, and to promote high-quality development.\n\nSu Jian, a professor of the School of Economics at Peking University and director of the university's National Center for Economic Research, said the government debt plan unveiled on Tuesday is relatively more conservative than many had expected, and yet it is understandable as the country needs to strike a balance between the objectives of stabilizing economic growth and containment of local government debt risks.\n\n\"This means elevating the efficiency of stimulus will be a focus,\" he said, adding the authorities may take more measures to boost consumers' spending propensity and lift private businesses' investment willingness so that the same amount of government spending can generate increased private investment and consumption.\n\nHowever, if factors like the issuance of special treasury bonds are taken into consideration, the actual fiscal expenditure will likely expand to an appropriate level this year, experts said.\n\nAs for monetary policy, Zhu Haibin, chief China economist at JPMorgan, forecast a continuation of growth-friendly interest rate policy and credit policy this year, including two 10-basis-point policy rate cuts — with the next rate cut likely this month — and another reserve requirement ratio cut in the second half of this year.\n\nZhu said the recent establishment of a credit management department in the People's Bank of China, the country's central bank, will continue to provide targeted support in five key areas: technology finance, green finance, inclusive finance, pension finance and digital finance.\n\nLeon Wang, executive vice-president of AstraZeneca, a global biopharmaceutical major, said the company looks forward to investing and expanding in China, while working with local partners to promote Chinese innovations globally. - China Daily/ANN'\n\n'>> targets: Cricket-Afghanistan pick six all-rounders in T20 World Cup squad'\n'>> task_type: (Reuters) - Afghanistan have packed six all-rounders, including captain Rashid Khan, in their 15-member squad for the T20 World Cup in the United States and West Indies in June.\n\nIbrahim Zadran, Najibullah Zadran, and the wicketkeeping duo of Rahmanullah Gurbaz and Mohammad Ishaq were the only four frontline batters in the squad unveiled on X on Tuesday night.\n\nAfghanistan will hope the presence of all-rounders Azmatullah Omarzai, Mohammad Nabi, Gulbadin Naib, Karim Janat and Nangeyalia Kharote will add depth to their batting.\n\nMujeeb-ur-Rahman and Noor Ahmad will join Rashid and Nabi in Afghanistan's formidable spin attack, which is likely to be key to their performance in the 20-team tournament.\n\nTop-order batter Hashmatullah Shahidi, who led Afghanistan in the 50-overs World Cup in India last year, did not make the squad.\n\nAfghanistan begin their Group C campaign against Uganda on June 3. The top two teams from the group, which also include New Zealand and West Indies, will advance to the Super 8 stage.\n\nAfghanistan squad: Rahmanullah Gurbaz, Ibrahim Zadran, Azmatullah Omarzai, Najibullah Zadran, Mohammad Ishaq, Mohammad Nabi, Gulbadin Naib, Karim Janat, Rashid Khan (captain), Nangyal Kharoti, Mujeeb Ur Rahman, Noor Ahmad, Naveen-ul-Haq, Fazalhaq Farooqi, Fareed Ahmad Malik\n\nReserves: Sediq Atal, Hazratullah Zazai, Saleem Safi\n\n(Reporting by Amlan Chakraborty in New Delhi; Editing by Edwina Gibbs)'\n",
          "output_type": "stream"
        }
      ],
      "execution_count": null
    },
    {
      "cell_type": "code",
      "source": [
        "ds = ds.remove_columns(['content_id', 'section', 'category', 'content_tier', 'content_length', 'authors', 'published_date', 'keywords', 'summary', 'url', 'top_image'])\n",
        "ds"
      ],
      "metadata": {
        "trusted": true,
        "execution": {
          "iopub.status.busy": "2025-06-24T19:04:43.101178Z",
          "iopub.execute_input": "2025-06-24T19:04:43.101407Z",
          "iopub.status.idle": "2025-06-24T19:04:43.111751Z",
          "shell.execute_reply.started": "2025-06-24T19:04:43.101388Z",
          "shell.execute_reply": "2025-06-24T19:04:43.111212Z"
        },
        "id": "BJc8GQbKHT45",
        "outputId": "de222e3e-cb2d-4038-b0db-8d720439f5e6"
      },
      "outputs": [
        {
          "execution_count": 6,
          "output_type": "execute_result",
          "data": {
            "text/plain": "DatasetDict({\n    train: Dataset({\n        features: ['title', 'text'],\n        num_rows: 21709\n    })\n})"
          },
          "metadata": {}
        }
      ],
      "execution_count": null
    },
    {
      "cell_type": "code",
      "source": [
        "ds = ds[\"train\"].train_test_split(test_size=0.2)\n",
        "ds"
      ],
      "metadata": {
        "trusted": true,
        "execution": {
          "iopub.status.busy": "2025-06-24T19:04:43.112485Z",
          "iopub.execute_input": "2025-06-24T19:04:43.112672Z",
          "iopub.status.idle": "2025-06-24T19:04:43.138148Z",
          "shell.execute_reply.started": "2025-06-24T19:04:43.112658Z",
          "shell.execute_reply": "2025-06-24T19:04:43.137554Z"
        },
        "id": "IWZY8n8wHT47",
        "outputId": "3c9d39c1-312b-4dc6-b2d4-6efdaaa13863"
      },
      "outputs": [
        {
          "execution_count": 7,
          "output_type": "execute_result",
          "data": {
            "text/plain": "DatasetDict({\n    train: Dataset({\n        features: ['title', 'text'],\n        num_rows: 17367\n    })\n    test: Dataset({\n        features: ['title', 'text'],\n        num_rows: 4342\n    })\n})"
          },
          "metadata": {}
        }
      ],
      "execution_count": null
    },
    {
      "cell_type": "code",
      "source": [
        "ds_tst = ds[\"test\"].train_test_split(test_size=0.5)\n",
        "ds_tst"
      ],
      "metadata": {
        "trusted": true,
        "execution": {
          "iopub.status.busy": "2025-06-24T19:04:43.138835Z",
          "iopub.execute_input": "2025-06-24T19:04:43.139148Z",
          "iopub.status.idle": "2025-06-24T19:04:43.154852Z",
          "shell.execute_reply.started": "2025-06-24T19:04:43.139130Z",
          "shell.execute_reply": "2025-06-24T19:04:43.154088Z"
        },
        "id": "K9BbJD77HT47",
        "outputId": "c99f8678-0c32-4cb1-a511-b268902dadd7"
      },
      "outputs": [
        {
          "execution_count": 8,
          "output_type": "execute_result",
          "data": {
            "text/plain": "DatasetDict({\n    train: Dataset({\n        features: ['title', 'text'],\n        num_rows: 2171\n    })\n    test: Dataset({\n        features: ['title', 'text'],\n        num_rows: 2171\n    })\n})"
          },
          "metadata": {}
        }
      ],
      "execution_count": null
    },
    {
      "cell_type": "code",
      "source": [
        "ds[\"validation\"] = ds_tst[\"train\"]\n",
        "ds[\"test\"] = ds_tst[\"test\"]\n",
        "ds"
      ],
      "metadata": {
        "trusted": true,
        "execution": {
          "iopub.status.busy": "2025-06-24T19:04:43.155558Z",
          "iopub.execute_input": "2025-06-24T19:04:43.155968Z",
          "iopub.status.idle": "2025-06-24T19:04:43.166205Z",
          "shell.execute_reply.started": "2025-06-24T19:04:43.155945Z",
          "shell.execute_reply": "2025-06-24T19:04:43.165565Z"
        },
        "id": "0bioBtmMHT49",
        "outputId": "c3978815-a9e4-4573-83ca-cdb6107c789d"
      },
      "outputs": [
        {
          "execution_count": 9,
          "output_type": "execute_result",
          "data": {
            "text/plain": "DatasetDict({\n    train: Dataset({\n        features: ['title', 'text'],\n        num_rows: 17367\n    })\n    test: Dataset({\n        features: ['title', 'text'],\n        num_rows: 2171\n    })\n    validation: Dataset({\n        features: ['title', 'text'],\n        num_rows: 2171\n    })\n})"
          },
          "metadata": {}
        }
      ],
      "execution_count": null
    },
    {
      "cell_type": "code",
      "source": [
        "l = []\n",
        "for t in ds['train']['text']:\n",
        "  l.append(len(t.split()))"
      ],
      "metadata": {
        "trusted": true,
        "execution": {
          "iopub.status.busy": "2025-06-24T19:04:43.169123Z",
          "iopub.execute_input": "2025-06-24T19:04:43.169337Z",
          "iopub.status.idle": "2025-06-24T19:04:43.698289Z",
          "shell.execute_reply.started": "2025-06-24T19:04:43.169322Z",
          "shell.execute_reply": "2025-06-24T19:04:43.697735Z"
        },
        "id": "aEOX73v8HT4-"
      },
      "outputs": [],
      "execution_count": null
    },
    {
      "cell_type": "code",
      "source": [
        "min(l)"
      ],
      "metadata": {
        "trusted": true,
        "execution": {
          "iopub.status.busy": "2025-06-24T19:04:43.699100Z",
          "iopub.execute_input": "2025-06-24T19:04:43.699354Z",
          "iopub.status.idle": "2025-06-24T19:04:43.704087Z",
          "shell.execute_reply.started": "2025-06-24T19:04:43.699331Z",
          "shell.execute_reply": "2025-06-24T19:04:43.703360Z"
        },
        "id": "3R8B1ZdTHT4-",
        "outputId": "82285468-540f-4fe1-b329-f47a5a7e686c"
      },
      "outputs": [
        {
          "execution_count": 11,
          "output_type": "execute_result",
          "data": {
            "text/plain": "26"
          },
          "metadata": {}
        }
      ],
      "execution_count": null
    },
    {
      "cell_type": "code",
      "source": [
        "ds = ds.filter(lambda x: len(x[\"title\"].split()) > 2)\n",
        "ds"
      ],
      "metadata": {
        "trusted": true,
        "execution": {
          "iopub.status.busy": "2025-06-24T19:04:43.704863Z",
          "iopub.execute_input": "2025-06-24T19:04:43.705113Z",
          "iopub.status.idle": "2025-06-24T19:04:44.019801Z",
          "shell.execute_reply.started": "2025-06-24T19:04:43.705091Z",
          "shell.execute_reply": "2025-06-24T19:04:44.019127Z"
        },
        "colab": {
          "referenced_widgets": [
            "9dad408d6aa74d95acf23e7a3db7a847",
            "4600b769200b4854a1666e528fe9f1bf",
            "cbdacdc9cbf74c5da934827befbfd9b6"
          ]
        },
        "id": "MO_RAJQyHT4_",
        "outputId": "3c2d0e49-bd35-4bda-a669-9d3146d672b2"
      },
      "outputs": [
        {
          "output_type": "display_data",
          "data": {
            "text/plain": "Filter:   0%|          | 0/17367 [00:00<?, ? examples/s]",
            "application/vnd.jupyter.widget-view+json": {
              "version_major": 2,
              "version_minor": 0,
              "model_id": "9dad408d6aa74d95acf23e7a3db7a847"
            }
          },
          "metadata": {}
        },
        {
          "output_type": "display_data",
          "data": {
            "text/plain": "Filter:   0%|          | 0/2171 [00:00<?, ? examples/s]",
            "application/vnd.jupyter.widget-view+json": {
              "version_major": 2,
              "version_minor": 0,
              "model_id": "4600b769200b4854a1666e528fe9f1bf"
            }
          },
          "metadata": {}
        },
        {
          "output_type": "display_data",
          "data": {
            "text/plain": "Filter:   0%|          | 0/2171 [00:00<?, ? examples/s]",
            "application/vnd.jupyter.widget-view+json": {
              "version_major": 2,
              "version_minor": 0,
              "model_id": "cbdacdc9cbf74c5da934827befbfd9b6"
            }
          },
          "metadata": {}
        },
        {
          "execution_count": 12,
          "output_type": "execute_result",
          "data": {
            "text/plain": "DatasetDict({\n    train: Dataset({\n        features: ['title', 'text'],\n        num_rows: 17336\n    })\n    test: Dataset({\n        features: ['title', 'text'],\n        num_rows: 2168\n    })\n    validation: Dataset({\n        features: ['title', 'text'],\n        num_rows: 2169\n    })\n})"
          },
          "metadata": {}
        }
      ],
      "execution_count": null
    },
    {
      "cell_type": "code",
      "source": [
        "ds.save_to_disk(\"Data\")"
      ],
      "metadata": {
        "trusted": true,
        "execution": {
          "iopub.status.busy": "2025-06-24T19:04:44.020509Z",
          "iopub.execute_input": "2025-06-24T19:04:44.020711Z",
          "iopub.status.idle": "2025-06-24T19:04:44.208211Z",
          "shell.execute_reply.started": "2025-06-24T19:04:44.020695Z",
          "shell.execute_reply": "2025-06-24T19:04:44.207519Z"
        },
        "colab": {
          "referenced_widgets": [
            "a7f2cb058ced44cf87bd13fabbee072a",
            "dc433534293e439db90ace8cc5b9ba35",
            "dda15883050f4af598523c12ae4f7875"
          ]
        },
        "id": "5NE8YP-iHT5A",
        "outputId": "c874a922-a0a4-4d8f-d5a2-c84840c904bc"
      },
      "outputs": [
        {
          "output_type": "display_data",
          "data": {
            "text/plain": "Saving the dataset (0/1 shards):   0%|          | 0/17336 [00:00<?, ? examples/s]",
            "application/vnd.jupyter.widget-view+json": {
              "version_major": 2,
              "version_minor": 0,
              "model_id": "a7f2cb058ced44cf87bd13fabbee072a"
            }
          },
          "metadata": {}
        },
        {
          "output_type": "display_data",
          "data": {
            "text/plain": "Saving the dataset (0/1 shards):   0%|          | 0/2168 [00:00<?, ? examples/s]",
            "application/vnd.jupyter.widget-view+json": {
              "version_major": 2,
              "version_minor": 0,
              "model_id": "dc433534293e439db90ace8cc5b9ba35"
            }
          },
          "metadata": {}
        },
        {
          "output_type": "display_data",
          "data": {
            "text/plain": "Saving the dataset (0/1 shards):   0%|          | 0/2169 [00:00<?, ? examples/s]",
            "application/vnd.jupyter.widget-view+json": {
              "version_major": 2,
              "version_minor": 0,
              "model_id": "dda15883050f4af598523c12ae4f7875"
            }
          },
          "metadata": {}
        }
      ],
      "execution_count": null
    },
    {
      "cell_type": "code",
      "source": [
        "model_checkpoint = \"google/mt5-small\"\n",
        "tokenizer = AutoTokenizer.from_pretrained(model_checkpoint)"
      ],
      "metadata": {
        "trusted": true,
        "execution": {
          "iopub.status.busy": "2025-06-24T19:04:44.208991Z",
          "iopub.execute_input": "2025-06-24T19:04:44.209210Z",
          "iopub.status.idle": "2025-06-24T19:04:50.821945Z",
          "shell.execute_reply.started": "2025-06-24T19:04:44.209189Z",
          "shell.execute_reply": "2025-06-24T19:04:50.821149Z"
        },
        "colab": {
          "referenced_widgets": [
            "2dee8e914f864324b5077d78b4b9c544",
            "93880b8a460f45d9834855a904ac5acd",
            "12e70359c8fe49778589967711199c70",
            "50fce9151fa6401bade8137335d810ec"
          ]
        },
        "id": "YDy1-5ICHT5A",
        "outputId": "29fb11b3-eacc-4cfa-fc6e-c178efdbc102"
      },
      "outputs": [
        {
          "output_type": "display_data",
          "data": {
            "text/plain": "tokenizer_config.json:   0%|          | 0.00/82.0 [00:00<?, ?B/s]",
            "application/vnd.jupyter.widget-view+json": {
              "version_major": 2,
              "version_minor": 0,
              "model_id": "2dee8e914f864324b5077d78b4b9c544"
            }
          },
          "metadata": {}
        },
        {
          "output_type": "display_data",
          "data": {
            "text/plain": "config.json:   0%|          | 0.00/553 [00:00<?, ?B/s]",
            "application/vnd.jupyter.widget-view+json": {
              "version_major": 2,
              "version_minor": 0,
              "model_id": "93880b8a460f45d9834855a904ac5acd"
            }
          },
          "metadata": {}
        },
        {
          "output_type": "display_data",
          "data": {
            "text/plain": "spiece.model:   0%|          | 0.00/4.31M [00:00<?, ?B/s]",
            "application/vnd.jupyter.widget-view+json": {
              "version_major": 2,
              "version_minor": 0,
              "model_id": "12e70359c8fe49778589967711199c70"
            }
          },
          "metadata": {}
        },
        {
          "output_type": "display_data",
          "data": {
            "text/plain": "special_tokens_map.json:   0%|          | 0.00/99.0 [00:00<?, ?B/s]",
            "application/vnd.jupyter.widget-view+json": {
              "version_major": 2,
              "version_minor": 0,
              "model_id": "50fce9151fa6401bade8137335d810ec"
            }
          },
          "metadata": {}
        },
        {
          "name": "stderr",
          "text": "You are using the default legacy behaviour of the <class 'transformers.models.t5.tokenization_t5.T5Tokenizer'>. This is expected, and simply means that the `legacy` (previous) behavior will be used so nothing changes for you. If you want to use the new behaviour, set `legacy=False`. This should only be set if you understand what it means, and thoroughly read the reason why this was added as explained in https://github.com/huggingface/transformers/pull/24565\n/usr/local/lib/python3.11/dist-packages/transformers/convert_slow_tokenizer.py:559: UserWarning: The sentencepiece tokenizer that you are converting to a fast tokenizer uses the byte fallback option which is not implemented in the fast tokenizers. In practice this means that the fast version of the tokenizer can produce unknown tokens whereas the sentencepiece version would have converted these unknown tokens into a sequence of byte tokens matching the original piece of text.\n  warnings.warn(\n",
          "output_type": "stream"
        }
      ],
      "execution_count": null
    },
    {
      "cell_type": "code",
      "source": [
        "max_input_length = 600\n",
        "max_target_length = 30\n",
        "\n",
        "\n",
        "def preprocess_function(examples):\n",
        "    model_inputs = tokenizer(\n",
        "        examples[\"text\"],\n",
        "        max_length=max_input_length,\n",
        "        truncation=True,\n",
        "    )\n",
        "    labels = tokenizer(\n",
        "        examples[\"title\"], max_length=max_target_length, truncation=True\n",
        "    )\n",
        "    model_inputs[\"labels\"] = labels[\"input_ids\"]\n",
        "    return model_inputs"
      ],
      "metadata": {
        "trusted": true,
        "execution": {
          "iopub.status.busy": "2025-06-24T19:04:50.822788Z",
          "iopub.execute_input": "2025-06-24T19:04:50.823067Z",
          "iopub.status.idle": "2025-06-24T19:04:50.827402Z",
          "shell.execute_reply.started": "2025-06-24T19:04:50.823043Z",
          "shell.execute_reply": "2025-06-24T19:04:50.826728Z"
        },
        "id": "yCKz0UhBHT5A"
      },
      "outputs": [],
      "execution_count": null
    },
    {
      "cell_type": "code",
      "source": [
        "tokenized_datasets = ds.map(preprocess_function, batched=True)"
      ],
      "metadata": {
        "trusted": true,
        "execution": {
          "iopub.status.busy": "2025-06-24T19:04:50.828147Z",
          "iopub.execute_input": "2025-06-24T19:04:50.828593Z",
          "iopub.status.idle": "2025-06-24T19:05:10.760793Z",
          "shell.execute_reply.started": "2025-06-24T19:04:50.828572Z",
          "shell.execute_reply": "2025-06-24T19:05:10.760211Z"
        },
        "colab": {
          "referenced_widgets": [
            "4f35385f0089445daa82c123ee3b477a",
            "38c0386c175f4650a59ff1447880f0b9",
            "055d7076e86b416c879a925df0f33941"
          ]
        },
        "id": "pCqUnfaUHT5A",
        "outputId": "468e0796-11ca-4631-b137-f8b93be81476"
      },
      "outputs": [
        {
          "output_type": "display_data",
          "data": {
            "text/plain": "Map:   0%|          | 0/17336 [00:00<?, ? examples/s]",
            "application/vnd.jupyter.widget-view+json": {
              "version_major": 2,
              "version_minor": 0,
              "model_id": "4f35385f0089445daa82c123ee3b477a"
            }
          },
          "metadata": {}
        },
        {
          "output_type": "display_data",
          "data": {
            "text/plain": "Map:   0%|          | 0/2168 [00:00<?, ? examples/s]",
            "application/vnd.jupyter.widget-view+json": {
              "version_major": 2,
              "version_minor": 0,
              "model_id": "38c0386c175f4650a59ff1447880f0b9"
            }
          },
          "metadata": {}
        },
        {
          "output_type": "display_data",
          "data": {
            "text/plain": "Map:   0%|          | 0/2169 [00:00<?, ? examples/s]",
            "application/vnd.jupyter.widget-view+json": {
              "version_major": 2,
              "version_minor": 0,
              "model_id": "055d7076e86b416c879a925df0f33941"
            }
          },
          "metadata": {}
        }
      ],
      "execution_count": null
    },
    {
      "cell_type": "code",
      "source": [
        "rouge_score = evaluate.load(\"rouge\")"
      ],
      "metadata": {
        "trusted": true,
        "execution": {
          "iopub.status.busy": "2025-06-24T19:05:10.761640Z",
          "iopub.execute_input": "2025-06-24T19:05:10.761909Z",
          "iopub.status.idle": "2025-06-24T19:05:11.344727Z",
          "shell.execute_reply.started": "2025-06-24T19:05:10.761887Z",
          "shell.execute_reply": "2025-06-24T19:05:11.344222Z"
        },
        "colab": {
          "referenced_widgets": [
            "0bbd3fefc8a1413287598b19bf50c954"
          ]
        },
        "id": "O-ycDitmHT5B",
        "outputId": "f5b42529-7402-490f-a7a4-84f47c4b5ecf"
      },
      "outputs": [
        {
          "output_type": "display_data",
          "data": {
            "text/plain": "Downloading builder script:   0%|          | 0.00/6.27k [00:00<?, ?B/s]",
            "application/vnd.jupyter.widget-view+json": {
              "version_major": 2,
              "version_minor": 0,
              "model_id": "0bbd3fefc8a1413287598b19bf50c954"
            }
          },
          "metadata": {}
        }
      ],
      "execution_count": null
    },
    {
      "cell_type": "code",
      "source": [
        "generated_summary = \"I absolutely loved reading the Hunger Games\"\n",
        "reference_summary = \"I loved reading the Hunger Games\""
      ],
      "metadata": {
        "trusted": true,
        "execution": {
          "iopub.status.busy": "2025-06-24T19:05:11.345419Z",
          "iopub.execute_input": "2025-06-24T19:05:11.345610Z",
          "iopub.status.idle": "2025-06-24T19:05:11.349212Z",
          "shell.execute_reply.started": "2025-06-24T19:05:11.345595Z",
          "shell.execute_reply": "2025-06-24T19:05:11.348516Z"
        },
        "id": "NlHXR1KgHT5B"
      },
      "outputs": [],
      "execution_count": null
    },
    {
      "cell_type": "code",
      "source": [
        "scores = rouge_score.compute(\n",
        "    predictions=[generated_summary], references=[reference_summary]\n",
        ")\n",
        "scores"
      ],
      "metadata": {
        "trusted": true,
        "execution": {
          "iopub.status.busy": "2025-06-24T19:05:11.349934Z",
          "iopub.execute_input": "2025-06-24T19:05:11.350223Z",
          "iopub.status.idle": "2025-06-24T19:05:11.500501Z",
          "shell.execute_reply.started": "2025-06-24T19:05:11.350195Z",
          "shell.execute_reply": "2025-06-24T19:05:11.499804Z"
        },
        "id": "f0W4TMpBHT5B",
        "outputId": "d3f2dca3-eba5-437d-de9e-a472efcb3cf0"
      },
      "outputs": [
        {
          "execution_count": 19,
          "output_type": "execute_result",
          "data": {
            "text/plain": "{'rouge1': 0.923076923076923,\n 'rouge2': 0.7272727272727272,\n 'rougeL': 0.923076923076923,\n 'rougeLsum': 0.923076923076923}"
          },
          "metadata": {}
        }
      ],
      "execution_count": null
    },
    {
      "cell_type": "code",
      "source": [
        "def three_sentence_summary(text):\n",
        "    return \"\\n\".join(sent_tokenize(text)[:3])\n",
        "\n",
        "\n",
        "print(three_sentence_summary(ds[\"train\"][1][\"text\"]))"
      ],
      "metadata": {
        "trusted": true,
        "execution": {
          "iopub.status.busy": "2025-06-24T19:05:11.501280Z",
          "iopub.execute_input": "2025-06-24T19:05:11.501584Z",
          "iopub.status.idle": "2025-06-24T19:05:11.528206Z",
          "shell.execute_reply.started": "2025-06-24T19:05:11.501540Z",
          "shell.execute_reply": "2025-06-24T19:05:11.527627Z"
        },
        "id": "tt2EeO3yHT5B",
        "outputId": "ed66f367-f909-44f1-d2a2-0776ad626b07"
      },
      "outputs": [
        {
          "name": "stdout",
          "text": "KUALA LUMPUR: Potential exports worth RM2.4bil from businesses in Kazakhstan and Uzbekistan indicate numerous opportunities for Malaysian companies to explore the region.\n“This significant figure reflects the growing trust of their respective business communities in Malaysia as a strategic trade and investment partner,” said Investment, Trade and Industry (Miti) Minister Tengku Datuk Seri Zafrul Aziz.\nTengku Zafrul assured that Miti will expedite the realisation of these export commitments to support Malaysia’s gross domestic growth.\n",
          "output_type": "stream"
        }
      ],
      "execution_count": null
    },
    {
      "cell_type": "code",
      "source": [
        "def evaluate_baseline(dataset, metric):\n",
        "    summaries = [three_sentence_summary(text) for text in dataset[\"text\"]]\n",
        "    return metric.compute(predictions=summaries, references=dataset[\"title\"])"
      ],
      "metadata": {
        "trusted": true,
        "execution": {
          "iopub.status.busy": "2025-06-24T19:05:11.528872Z",
          "iopub.execute_input": "2025-06-24T19:05:11.529100Z",
          "iopub.status.idle": "2025-06-24T19:05:11.532924Z",
          "shell.execute_reply.started": "2025-06-24T19:05:11.529077Z",
          "shell.execute_reply": "2025-06-24T19:05:11.532343Z"
        },
        "id": "qm6Rh_VzHT5C"
      },
      "outputs": [],
      "execution_count": null
    },
    {
      "cell_type": "code",
      "source": [
        "score = evaluate_baseline(ds[\"validation\"], rouge_score)\n",
        "rouge_names = [\"rouge1\", \"rouge2\", \"rougeL\", \"rougeLsum\"]\n",
        "rouge_dict = dict((rn, round(score[rn] * 100, 2)) for rn in rouge_names)\n",
        "rouge_dict"
      ],
      "metadata": {
        "trusted": true,
        "execution": {
          "iopub.status.busy": "2025-06-24T19:05:11.533632Z",
          "iopub.execute_input": "2025-06-24T19:05:11.533912Z",
          "iopub.status.idle": "2025-06-24T19:05:14.526460Z",
          "shell.execute_reply.started": "2025-06-24T19:05:11.533896Z",
          "shell.execute_reply": "2025-06-24T19:05:14.525875Z"
        },
        "id": "1rJW_ECzHT5C",
        "outputId": "2fee2287-c545-457a-aaf8-c8584feacc0c"
      },
      "outputs": [
        {
          "execution_count": 22,
          "output_type": "execute_result",
          "data": {
            "text/plain": "{'rouge1': 13.82, 'rouge2': 4.78, 'rougeL': 11.34, 'rougeLsum': 12.29}"
          },
          "metadata": {}
        }
      ],
      "execution_count": null
    },
    {
      "cell_type": "code",
      "source": [
        "tokenized_datasets = tokenized_datasets.remove_columns(\n",
        "    ds[\"train\"].column_names\n",
        ")"
      ],
      "metadata": {
        "trusted": true,
        "execution": {
          "iopub.status.busy": "2025-06-24T19:05:14.527135Z",
          "iopub.execute_input": "2025-06-24T19:05:14.527366Z",
          "iopub.status.idle": "2025-06-24T19:05:14.535108Z",
          "shell.execute_reply.started": "2025-06-24T19:05:14.527349Z",
          "shell.execute_reply": "2025-06-24T19:05:14.534475Z"
        },
        "id": "MNHF4kWGHT5C"
      },
      "outputs": [],
      "execution_count": null
    },
    {
      "cell_type": "code",
      "source": [
        "tokenized_datasets.set_format(\"torch\")"
      ],
      "metadata": {
        "trusted": true,
        "execution": {
          "iopub.status.busy": "2025-06-24T19:05:14.535789Z",
          "iopub.execute_input": "2025-06-24T19:05:14.535998Z",
          "iopub.status.idle": "2025-06-24T19:05:14.549525Z",
          "shell.execute_reply.started": "2025-06-24T19:05:14.535985Z",
          "shell.execute_reply": "2025-06-24T19:05:14.548955Z"
        },
        "id": "DeDqV-1CHT5C"
      },
      "outputs": [],
      "execution_count": null
    },
    {
      "cell_type": "code",
      "source": [
        "model = AutoModelForSeq2SeqLM.from_pretrained(model_checkpoint)"
      ],
      "metadata": {
        "trusted": true,
        "execution": {
          "iopub.status.busy": "2025-06-24T19:05:14.550245Z",
          "iopub.execute_input": "2025-06-24T19:05:14.550482Z",
          "iopub.status.idle": "2025-06-24T19:05:22.436353Z",
          "shell.execute_reply.started": "2025-06-24T19:05:14.550461Z",
          "shell.execute_reply": "2025-06-24T19:05:22.435613Z"
        },
        "colab": {
          "referenced_widgets": [
            "87628173a04f4dfcb3d265b7752e1bb7",
            "08cc1cc0d89c430191039580a992c432"
          ]
        },
        "id": "JqzOzMijHT5D",
        "outputId": "1b473a3a-795c-4249-85e1-db3ea245d701"
      },
      "outputs": [
        {
          "output_type": "display_data",
          "data": {
            "text/plain": "pytorch_model.bin:   0%|          | 0.00/1.20G [00:00<?, ?B/s]",
            "application/vnd.jupyter.widget-view+json": {
              "version_major": 2,
              "version_minor": 0,
              "model_id": "87628173a04f4dfcb3d265b7752e1bb7"
            }
          },
          "metadata": {}
        },
        {
          "name": "stderr",
          "text": "Error during conversion: ChunkedEncodingError(ProtocolError('Response ended prematurely'))\n",
          "output_type": "stream"
        },
        {
          "output_type": "display_data",
          "data": {
            "text/plain": "generation_config.json:   0%|          | 0.00/147 [00:00<?, ?B/s]",
            "application/vnd.jupyter.widget-view+json": {
              "version_major": 2,
              "version_minor": 0,
              "model_id": "08cc1cc0d89c430191039580a992c432"
            }
          },
          "metadata": {}
        }
      ],
      "execution_count": null
    },
    {
      "cell_type": "code",
      "source": [
        "data_collator = DataCollatorForSeq2Seq(tokenizer, model=model)"
      ],
      "metadata": {
        "trusted": true,
        "execution": {
          "iopub.status.busy": "2025-06-24T19:05:22.437154Z",
          "iopub.execute_input": "2025-06-24T19:05:22.437391Z",
          "iopub.status.idle": "2025-06-24T19:05:22.441203Z",
          "shell.execute_reply.started": "2025-06-24T19:05:22.437374Z",
          "shell.execute_reply": "2025-06-24T19:05:22.440514Z"
        },
        "id": "_gBZRTcKHT5D"
      },
      "outputs": [],
      "execution_count": null
    },
    {
      "cell_type": "code",
      "source": [
        "batch_size = 8\n",
        "train_dataloader = DataLoader(\n",
        "    tokenized_datasets[\"train\"],\n",
        "    shuffle=True,\n",
        "    collate_fn=data_collator,\n",
        "    batch_size=batch_size,\n",
        ")\n",
        "eval_dataloader = DataLoader(\n",
        "    tokenized_datasets[\"validation\"], collate_fn=data_collator, batch_size=batch_size\n",
        ")"
      ],
      "metadata": {
        "trusted": true,
        "execution": {
          "iopub.status.busy": "2025-06-24T19:05:22.442011Z",
          "iopub.execute_input": "2025-06-24T19:05:22.442266Z",
          "iopub.status.idle": "2025-06-24T19:05:22.790114Z",
          "shell.execute_reply.started": "2025-06-24T19:05:22.442244Z",
          "shell.execute_reply": "2025-06-24T19:05:22.789049Z"
        },
        "colab": {
          "referenced_widgets": [
            "0eb2da3a332c475b8cf259416ca50d37"
          ]
        },
        "id": "U0TL-ZcwHT5D",
        "outputId": "ce1e34d2-7328-4f51-bd50-cd5ac3e349a3"
      },
      "outputs": [
        {
          "output_type": "display_data",
          "data": {
            "text/plain": "model.safetensors:   0%|          | 0.00/1.20G [00:00<?, ?B/s]",
            "application/vnd.jupyter.widget-view+json": {
              "version_major": 2,
              "version_minor": 0,
              "model_id": "0eb2da3a332c475b8cf259416ca50d37"
            }
          },
          "metadata": {}
        }
      ],
      "execution_count": null
    },
    {
      "cell_type": "code",
      "source": [
        "optimizer = AdamW(model.parameters(), lr=2e-5)"
      ],
      "metadata": {
        "trusted": true,
        "execution": {
          "iopub.status.busy": "2025-06-24T19:05:22.794453Z",
          "iopub.execute_input": "2025-06-24T19:05:22.794739Z",
          "iopub.status.idle": "2025-06-24T19:05:22.806921Z",
          "shell.execute_reply.started": "2025-06-24T19:05:22.794708Z",
          "shell.execute_reply": "2025-06-24T19:05:22.805921Z"
        },
        "id": "8C6APA--HT5E"
      },
      "outputs": [],
      "execution_count": null
    },
    {
      "cell_type": "code",
      "source": [
        "accelerator = Accelerator()\n",
        "model, optimizer, train_dataloader, eval_dataloader = accelerator.prepare(\n",
        "    model, optimizer, train_dataloader, eval_dataloader\n",
        ")"
      ],
      "metadata": {
        "trusted": true,
        "execution": {
          "iopub.status.busy": "2025-06-24T19:05:22.808093Z",
          "iopub.execute_input": "2025-06-24T19:05:22.808431Z",
          "iopub.status.idle": "2025-06-24T19:05:23.644096Z",
          "shell.execute_reply.started": "2025-06-24T19:05:22.808414Z",
          "shell.execute_reply": "2025-06-24T19:05:23.643105Z"
        },
        "id": "VPhDkIHPHT5E"
      },
      "outputs": [],
      "execution_count": null
    },
    {
      "cell_type": "code",
      "source": [
        "num_train_epochs = 10\n",
        "num_update_steps_per_epoch = len(train_dataloader)\n",
        "num_training_steps = num_train_epochs * num_update_steps_per_epoch\n",
        "\n",
        "lr_scheduler = get_scheduler(\n",
        "    \"linear\",\n",
        "    optimizer=optimizer,\n",
        "    num_warmup_steps=0,\n",
        "    num_training_steps=num_training_steps,\n",
        ")"
      ],
      "metadata": {
        "trusted": true,
        "execution": {
          "iopub.status.busy": "2025-06-24T19:05:23.645212Z",
          "iopub.execute_input": "2025-06-24T19:05:23.645449Z",
          "iopub.status.idle": "2025-06-24T19:05:23.650352Z",
          "shell.execute_reply.started": "2025-06-24T19:05:23.645426Z",
          "shell.execute_reply": "2025-06-24T19:05:23.649183Z"
        },
        "id": "zr2FAc9-HT5E"
      },
      "outputs": [],
      "execution_count": null
    },
    {
      "cell_type": "code",
      "source": [
        "def postprocess_text(preds, labels):\n",
        "    preds = [pred.strip() for pred in preds]\n",
        "    labels = [label.strip() for label in labels]\n",
        "\n",
        "    # ROUGE expects a newline after each sentence\n",
        "    preds = [\"\\n\".join(nltk.sent_tokenize(pred)) for pred in preds]\n",
        "    labels = [\"\\n\".join(nltk.sent_tokenize(label)) for label in labels]\n",
        "\n",
        "    return preds, labels"
      ],
      "metadata": {
        "trusted": true,
        "execution": {
          "iopub.status.busy": "2025-06-24T19:05:23.651488Z",
          "iopub.execute_input": "2025-06-24T19:05:23.651744Z",
          "iopub.status.idle": "2025-06-24T19:05:23.668220Z",
          "shell.execute_reply.started": "2025-06-24T19:05:23.651727Z",
          "shell.execute_reply": "2025-06-24T19:05:23.667261Z"
        },
        "id": "lfAOLcbbHT5F"
      },
      "outputs": [],
      "execution_count": null
    },
    {
      "cell_type": "code",
      "source": [
        "output_dir = 'Model'"
      ],
      "metadata": {
        "trusted": true,
        "execution": {
          "iopub.status.busy": "2025-06-24T19:05:23.669832Z",
          "iopub.execute_input": "2025-06-24T19:05:23.670052Z",
          "iopub.status.idle": "2025-06-24T19:05:23.691516Z",
          "shell.execute_reply.started": "2025-06-24T19:05:23.670036Z",
          "shell.execute_reply": "2025-06-24T19:05:23.690618Z"
        },
        "id": "YSh8ulPZHT5F"
      },
      "outputs": [],
      "execution_count": null
    },
    {
      "cell_type": "code",
      "source": [
        "from tqdm.auto import tqdm\n",
        "import torch\n",
        "import numpy as np\n",
        "\n",
        "progress_bar = tqdm(range(num_training_steps))\n",
        "\n",
        "for epoch in range(num_train_epochs):\n",
        "    # Training\n",
        "    model.train()\n",
        "    for step, batch in enumerate(train_dataloader):\n",
        "        outputs = model(**batch)\n",
        "        loss = outputs.loss\n",
        "        accelerator.backward(loss)\n",
        "\n",
        "        optimizer.step()\n",
        "        lr_scheduler.step()\n",
        "        optimizer.zero_grad()\n",
        "        progress_bar.update(1)\n",
        "\n",
        "    # Evaluation\n",
        "    model.eval()\n",
        "    for step, batch in enumerate(eval_dataloader):\n",
        "        with torch.no_grad():\n",
        "            generated_tokens = accelerator.unwrap_model(model).generate(\n",
        "                batch[\"input_ids\"],\n",
        "                attention_mask=batch[\"attention_mask\"],\n",
        "            )\n",
        "\n",
        "            generated_tokens = accelerator.pad_across_processes(\n",
        "                generated_tokens, dim=1, pad_index=tokenizer.pad_token_id\n",
        "            )\n",
        "            labels = batch[\"labels\"]\n",
        "\n",
        "            # If we did not pad to max length, we need to pad the labels too\n",
        "            labels = accelerator.pad_across_processes(\n",
        "                batch[\"labels\"], dim=1, pad_index=tokenizer.pad_token_id\n",
        "            )\n",
        "\n",
        "            generated_tokens = accelerator.gather(generated_tokens).cpu().numpy()\n",
        "            labels = accelerator.gather(labels).cpu().numpy()\n",
        "\n",
        "            # Replace -100 in the labels as we can't decode them\n",
        "            labels = np.where(labels != -100, labels, tokenizer.pad_token_id)\n",
        "            if isinstance(generated_tokens, tuple):\n",
        "                generated_tokens = generated_tokens[0]\n",
        "            decoded_preds = tokenizer.batch_decode(\n",
        "                generated_tokens, skip_special_tokens=True\n",
        "            )\n",
        "            decoded_labels = tokenizer.batch_decode(labels, skip_special_tokens=True)\n",
        "\n",
        "            decoded_preds, decoded_labels = postprocess_text(\n",
        "                decoded_preds, decoded_labels\n",
        "            )\n",
        "\n",
        "            rouge_score.add_batch(predictions=decoded_preds, references=decoded_labels)\n",
        "\n",
        "    # Compute metrics\n",
        "    result = rouge_score.compute()\n",
        "    # Extract the median ROUGE scores\n",
        "    result = {key: value * 100 for key, value in result.items()}\n",
        "    result = {k: round(v, 4) for k, v in result.items()}\n",
        "    print(f\"Epoch {epoch}:\", result)\n",
        "\n",
        "    # Save and upload\n",
        "    accelerator.wait_for_everyone()\n",
        "    unwrapped_model = accelerator.unwrap_model(model)\n",
        "    unwrapped_model.save_pretrained(output_dir, save_function=accelerator.save)\n",
        "    if accelerator.is_main_process:\n",
        "        tokenizer.save_pretrained(output_dir)\n",
        "    #     repo.push_to_hub(\n",
        "    #         commit_message=f\"Training in progress epoch {epoch}\", blocking=False\n",
        "    #     )"
      ],
      "metadata": {
        "trusted": true,
        "execution": {
          "iopub.status.busy": "2025-06-24T19:05:23.692283Z",
          "iopub.execute_input": "2025-06-24T19:05:23.692523Z",
          "iopub.status.idle": "2025-06-24T21:03:30.311074Z",
          "shell.execute_reply.started": "2025-06-24T19:05:23.692498Z",
          "shell.execute_reply": "2025-06-24T21:03:30.310252Z"
        },
        "colab": {
          "referenced_widgets": [
            "0bd7892299ba44d59f4d6e3fc3c0e7fe"
          ]
        },
        "id": "Vl5cWsPAHT5F",
        "outputId": "b3f5adb6-93b2-4fe8-f3eb-a2647b2f4004"
      },
      "outputs": [
        {
          "output_type": "display_data",
          "data": {
            "text/plain": "  0%|          | 0/21670 [00:00<?, ?it/s]",
            "application/vnd.jupyter.widget-view+json": {
              "version_major": 2,
              "version_minor": 0,
              "model_id": "0bd7892299ba44d59f4d6e3fc3c0e7fe"
            }
          },
          "metadata": {}
        },
        {
          "name": "stderr",
          "text": "/usr/local/lib/python3.11/dist-packages/transformers/data/data_collator.py:741: UserWarning: Creating a tensor from a list of numpy.ndarrays is extremely slow. Please consider converting the list to a single numpy.ndarray with numpy.array() before converting to a tensor. (Triggered internally at /pytorch/torch/csrc/utils/tensor_new.cpp:254.)\n  batch[\"labels\"] = torch.tensor(batch[\"labels\"], dtype=torch.int64)\nPassing a tuple of `past_key_values` is deprecated and will be removed in Transformers v4.48.0. You should pass an instance of `EncoderDecoderCache` instead, e.g. `past_key_values=EncoderDecoderCache.from_legacy_cache(past_key_values)`.\n",
          "output_type": "stream"
        },
        {
          "name": "stdout",
          "text": "Epoch 0: {'rouge1': 11.492, 'rouge2': 2.5773, 'rougeL': 10.5321, 'rougeLsum': 10.5355}\nEpoch 1: {'rouge1': 13.6343, 'rouge2': 3.5921, 'rougeL': 12.3527, 'rougeLsum': 12.3471}\nEpoch 2: {'rouge1': 14.4095, 'rouge2': 4.2443, 'rougeL': 13.668, 'rougeLsum': 13.6514}\nEpoch 3: {'rouge1': 21.9202, 'rouge2': 7.778, 'rougeL': 20.1693, 'rougeLsum': 20.1673}\nEpoch 4: {'rouge1': 24.0384, 'rouge2': 8.9592, 'rougeL': 22.0477, 'rougeLsum': 22.0835}\nEpoch 5: {'rouge1': 25.542, 'rouge2': 9.7864, 'rougeL': 23.4558, 'rougeLsum': 23.4887}\nEpoch 6: {'rouge1': 26.5858, 'rouge2': 10.4584, 'rougeL': 24.3976, 'rougeLsum': 24.4449}\nEpoch 7: {'rouge1': 27.3738, 'rouge2': 10.7457, 'rougeL': 25.0139, 'rougeLsum': 25.0646}\n",
          "output_type": "stream"
        },
        {
          "text": "IOPub message rate exceeded.\nThe notebook server will temporarily stop sending output\nto the client in order to avoid crashing it.\nTo change this limit, set the config variable\n`--NotebookApp.iopub_msg_rate_limit`.\n\nCurrent values:\nNotebookApp.iopub_msg_rate_limit=10000.0 (msgs/sec)\nNotebookApp.rate_limit_window=1.0 (secs)\n\n",
          "name": "stderr",
          "output_type": "stream"
        },
        {
          "name": "stdout",
          "text": "Epoch 8: {'rouge1': 27.8806, 'rouge2': 11.1092, 'rougeL': 25.422, 'rougeLsum': 25.4615}\nEpoch 9: {'rouge1': 27.9126, 'rouge2': 11.1549, 'rougeL': 25.4242, 'rougeLsum': 25.4422}\n",
          "output_type": "stream"
        }
      ],
      "execution_count": null
    },
    {
      "cell_type": "code",
      "source": [
        "from transformers import pipeline, AutoModelForSeq2SeqLM , AutoTokenizer\n",
        "from transformers import AutoConfig\n"
      ],
      "metadata": {
        "trusted": true,
        "execution": {
          "iopub.status.busy": "2025-06-24T21:32:43.723681Z",
          "iopub.execute_input": "2025-06-24T21:32:43.724263Z",
          "iopub.status.idle": "2025-06-24T21:32:43.727488Z",
          "shell.execute_reply.started": "2025-06-24T21:32:43.724236Z",
          "shell.execute_reply": "2025-06-24T21:32:43.726846Z"
        },
        "id": "ozg6XJ49HT5G"
      },
      "outputs": [],
      "execution_count": null
    },
    {
      "cell_type": "code",
      "source": [
        "model = AutoModelForSeq2SeqLM.from_pretrained('Model')\n",
        "tokenizer = AutoTokenizer.from_pretrained('Model')\n",
        "\n",
        "summarizer = pipeline(task='summarization',  # replace with whatever task you have\n",
        "                model=model,\n",
        "                tokenizer=tokenizer)"
      ],
      "metadata": {
        "trusted": true,
        "execution": {
          "iopub.status.busy": "2025-06-24T21:32:29.831802Z",
          "iopub.execute_input": "2025-06-24T21:32:29.832388Z",
          "iopub.status.idle": "2025-06-24T21:32:30.965907Z",
          "shell.execute_reply.started": "2025-06-24T21:32:29.832368Z",
          "shell.execute_reply": "2025-06-24T21:32:30.965307Z"
        },
        "id": "TtYV63GBHT5G",
        "outputId": "21a2bbaa-1388-44f8-9632-61492b749523"
      },
      "outputs": [
        {
          "name": "stderr",
          "text": "Device set to use cuda:0\n",
          "output_type": "stream"
        }
      ],
      "execution_count": null
    },
    {
      "cell_type": "code",
      "source": [
        "config = AutoConfig.from_pretrained(\"Model\")\n",
        "print(config.architectures)"
      ],
      "metadata": {
        "trusted": true,
        "execution": {
          "iopub.status.busy": "2025-06-24T21:32:54.987454Z",
          "iopub.execute_input": "2025-06-24T21:32:54.987701Z",
          "iopub.status.idle": "2025-06-24T21:32:54.993287Z",
          "shell.execute_reply.started": "2025-06-24T21:32:54.987684Z",
          "shell.execute_reply": "2025-06-24T21:32:54.992568Z"
        },
        "id": "husqjTn5HT5H",
        "outputId": "1988d4e6-09f7-4f06-c899-f23f87ae016e"
      },
      "outputs": [
        {
          "name": "stdout",
          "text": "['MT5ForConditionalGeneration']\n",
          "output_type": "stream"
        }
      ],
      "execution_count": null
    },
    {
      "cell_type": "code",
      "source": [
        "def print_title(idx):\n",
        "    article = ds[\"test\"][idx][\"text\"]\n",
        "    title = ds[\"test\"][idx][\"title\"]\n",
        "    gen_title = summarizer(ds[\"test\"][idx][\"text\"])[0][\"summary_text\"]\n",
        "    print(f\"'>>> Article: {article}'\")\n",
        "    print(f\"\\n'>>> Title: {title}'\")\n",
        "    print(f\"\\n'>>> Generated Title: {gen_title}'\")"
      ],
      "metadata": {
        "trusted": true,
        "execution": {
          "iopub.status.busy": "2025-06-24T21:35:47.776442Z",
          "iopub.execute_input": "2025-06-24T21:35:47.776716Z",
          "iopub.status.idle": "2025-06-24T21:35:47.780941Z",
          "shell.execute_reply.started": "2025-06-24T21:35:47.776697Z",
          "shell.execute_reply": "2025-06-24T21:35:47.780213Z"
        },
        "id": "yEbOi3VlHT5H"
      },
      "outputs": [],
      "execution_count": null
    },
    {
      "cell_type": "code",
      "source": [
        "print_title(10)"
      ],
      "metadata": {
        "trusted": true,
        "execution": {
          "iopub.status.busy": "2025-06-24T21:36:01.505768Z",
          "iopub.execute_input": "2025-06-24T21:36:01.506483Z",
          "iopub.status.idle": "2025-06-24T21:36:01.822444Z",
          "shell.execute_reply.started": "2025-06-24T21:36:01.506459Z",
          "shell.execute_reply": "2025-06-24T21:36:01.821762Z"
        },
        "id": "gkmxnJAcHT5H",
        "outputId": "dc93d0e7-1b93-4663-ee3a-25b407c8ae38"
      },
      "outputs": [
        {
          "name": "stdout",
          "text": "'>>> Article: PETALING JAYA: Flights from Kuala Lumpur to destinations in Sabah and Sarawak have been cancelled due to the eruption of Mount Ruang in Indonesia, says Malaysia Airlines (MAB).\n\nIt said this in a post on its official Facebook page, in which it gave a list of all flights affected. These flights are;\n\nTo/from Sabah\n\nMH7420 (KUL-TWU)\n\nMH7421 (TWU-KUL)\n\nMH2612 (KUL-BKI)\n\nMH2621 (BKI-KUL)\n\nMH2710 (KUL-SDK)\n\nMH2711 (SDK-KUL)\n\nMH2610 (KUL-BKI)\n\nMH2611 (BKI-KUL)\n\nMH7404 (KUL-BKI)\n\nMH7405 (BKI-KUL)\n\nMH2613 (BKI-KUL)\n\nTo/from Sarawak\n\nMH2520 (KUL-KCH)\n\nMH2513 (KCH-KUL)\n\nMH2542 (KUL-KCH)\n\nMH2543 (KCH-KUL)\n\nMH2574 (KUL-MYY)\n\nMH2575 (MYY-KUL)\n\nMH2742 (KUL-BTU)\n\nMH2473 (BTU-KUL)\n\n\"Concurrently, the airline is working to accommodate passengers affected by the cancellation of flights on alternative flights once the situation progressively improves,\" added MAB.\n\nIt said that it is continuing to closely monitor developments and will issue further updates on flight cancellations on its social media pages along with communicating information directly to affected customers.\n\n\"Passengers are urged to update their contact details via My Booking on Malaysia Airlines’ website to receive timely updates from time to time via email and SMS.\n\nThe safety of our passengers and crew remains of utmost importance to Malaysia Airlines,\" it said.'\n\n'>>> Title: Malaysia Airlines cancels Sabah, Sarawak flights due to Mt Ruang eruption'\n\n'>>> Generated Title: Malaysia Airlines cancelles flights from Kuala Lumpur to destinations in Sabah and Sarawak'\n",
          "output_type": "stream"
        }
      ],
      "execution_count": null
    },
    {
      "cell_type": "code",
      "source": [
        "print_title(0)"
      ],
      "metadata": {
        "trusted": true,
        "execution": {
          "iopub.status.busy": "2025-06-24T21:36:41.294985Z",
          "iopub.execute_input": "2025-06-24T21:36:41.295784Z",
          "iopub.status.idle": "2025-06-24T21:36:41.537565Z",
          "shell.execute_reply.started": "2025-06-24T21:36:41.295754Z",
          "shell.execute_reply": "2025-06-24T21:36:41.536776Z"
        },
        "id": "dgrFBMRcHT5H",
        "outputId": "3f025f38-74ca-424e-906c-de1678f36de3"
      },
      "outputs": [
        {
          "name": "stdout",
          "text": "'>>> Article: CONSUMERS have been advised to be more selective when eating out in view of escalating prices of food in recent months.\n\nJohor Consumers Movement Association chairman Md Salleh Sadijo said consumerism awareness among Malaysians was still low.\n\n“Lack of interest or concern is the reason why consumers are easily targeted by unscrupulous traders,” he said.\n\nMd Salleh said traders were taking advantage of the situation, knowing that consumers would complain before eventually accepting the price increases.\n\nHe urged Malaysian consumers to start taking matters seriously including boycotting businesses and traders that engaged in excessive profiteering.\n\n“If we can boycott companies and brands that are openly supporting Israel, we also can do the same against our local traders for excessive profiteering,” said Md Salleh.\n\nHe said this after complaints that certain eateries in Johor Baru had increased their prices following the May 1 announcement by Prime Minister Datuk Seri Anwar Ibrahim of a salary hike for civil servants.\n\nCivil servants will see a 13% salary increase from this December, involving an allocation over RM10bil. It will be tabled during the Budget 2025 announcement in October.\n\n“I too was a victim of a price hike after the Prime Minister’s announcement,” said Md Salleh.\n\nHe said he had gone for lunch at a well-known asam pedas restaurant in Gelang Patah and ended up paying RM74.20 for two people.\n\nMd Salleh said the bill was for two pieces of asam pedas ikan merah (red snapper), a small piece of omelette, mixed vegetables, two plates of rice and plain tea.\n\n“We had a similar order at the same place in March and it only cost RM50,” he said.\n\nHe suggested that consumers cook at home to save money or choose eateries with reasonable prices.\n\nJohor Bumiputra Consumer Association chairman Syed Abdullah Syed Mohamed said traders would increase their prices every time the government announced bonuses or salary increases for civil servants.\n\n“It is expected as it has been going on for years,” he said.\n\nSyed Abdullah said the price of a packet of basic nasi lemak with sambal and a small piece of omelette had increased.\n\n“The same nasi lemak sold at a food outlet at Bandar Baru Uda was RM2 each before May 1 but on May 2, I paid RM5 for two or RM2.50 each,” he said.\n\nSyed Abdullah said he expected another price increase this December once the new salary scheme for civil servants was implemented.\n\nThe authorities, he said, should take action against traders and food operators for increasing prices indiscriminately.'\n\n'>>> Title: ‘Avoid eateries that hike prices excessively’'\n\n'>>> Generated Title: Traders advised to be more selective when eating out'\n",
          "output_type": "stream"
        }
      ],
      "execution_count": null
    },
    {
      "cell_type": "code",
      "source": [
        "print_title(100)"
      ],
      "metadata": {
        "trusted": true,
        "execution": {
          "iopub.status.busy": "2025-06-24T21:37:27.915548Z",
          "iopub.execute_input": "2025-06-24T21:37:27.915991Z",
          "iopub.status.idle": "2025-06-24T21:37:28.100616Z",
          "shell.execute_reply.started": "2025-06-24T21:37:27.915969Z",
          "shell.execute_reply": "2025-06-24T21:37:28.099862Z"
        },
        "id": "D89OHMg4HT5I",
        "outputId": "fddea784-781a-4bb7-eed2-9c4979a5b3ca"
      },
      "outputs": [
        {
          "name": "stdout",
          "text": "'>>> Article: “I don't think things are going to work out between us.” It’s a sentence that seems too final, too absolute. What if my date from last weekend thinks I’m arrogant for writing a text like that?\n\nInstead, maybe not texting or talking to them at all will make things easier. But for whom? Mostly just for the one doing the ghosting.\n\nIt can happen to anyone, and Charlie’s Angels star and talk show host Drew Barrymore revealed in a 2022 interview with People magazine that she, too, had been a victim.\n\nEarly in the 2000s, the term “ghosting” emerged in the Western dating scene to describe when someone suddenly cuts off all communication and contact without any warning or explanation.\n\nGhosting is not the same as a breakup, says psychologist Anja Wermann, who herself was ghosted at the end of 2020.\n\n“When you split up, you usually see it coming, you might have a conversation to end the relationship. When it comes to ghosting, however, the reason for ending things is never given,” the psychologist says.\n\nSince 2021, Wermann has been running a therapy centre called the Ghosting Ambulanz (outpatient clinic) for people who’ve been ghosted.\n\nThe majority of her clients are women between their late 20s and early 50s, with some men also coming to seek her advice. Some people find it hard to move on from being ghosted years after the event.\n\n“Being ghosted always hits hard,” says relationship psychologist Eric Hegmann. “If there is one phenomenon today that stands for the fear of non-commitment when getting to know someone, it’s ghosting.”\n\nHe also knows the shame people feel after being ghosted. Ghosting is such a “widespread phenomenon” that it is referred to as a “plague” in the dating world, he says.\n\nEven though a short-lived relationship may end this way, the silence leaves its mark on future relationships.\n\n“People often complain that being ghosted makes it more difficult for them to trust new people,” says Hegmann. And what’s more: “I have clients who report severe symptoms such as weight loss, dizziness, physical pain, loss of appetite and insomnia.”\n\nThis is why ghosting is being talked about more and more in terms of health and mental health. Health insurance companies are providing advice about it, and there are podcasts and social media pages dedicated to the topic.\n\nThis makes it clear that the belief that ghosting someone will spare the other person pain is wrong. “It’s more the other way round: It takes you longer to get over being ghosted than if you had been given a clear no or goodbye,” explains Wermann.\n\nGhosting may sound like a new phenomenon, but it’s really a new name for an old thing. People used to talk about being abandoned or jilted, or that someone simply walked out on them.\n\nThere is a difference, however: “It has never been so easy to make contact with other people,” says Hegmann. The Internet and apps make it possible to meet people you would otherwise never have met. And it’s just as easy to disappear without a trace.\n\nThis would be different if there was some kind of social control because you know the person from your extended circle of friends, for example. “However, it’s never the medium that does the ghosting, but the person,” Hegmann points out.\n\n“After I was ghosted once, my perspective changed,” says Wermann. “I would now always write: ‘I’m sorry, it’s not going to work out.’ I think clear communication is always better.”\n\nFor Wermann, it also helped her to believe that she might understand the experience in the future. “And in the meantime you try to move on with your life and focus on the positive.” – dpa/Weronika Peneshko'\n\n'>>> Title: Berlin’s clinic for the dating scene’s ‘plague’'\n\n'>>> Generated Title: Soccer-Ghosting is a new phenomenon'\n",
          "output_type": "stream"
        }
      ],
      "execution_count": null
    },
    {
      "cell_type": "code",
      "source": [
        "pred = summarizer(ds[\"test\"][\"text\"])"
      ],
      "metadata": {
        "trusted": true,
        "execution": {
          "iopub.status.busy": "2025-06-24T21:52:53.251276Z",
          "iopub.execute_input": "2025-06-24T21:52:53.251541Z",
          "iopub.status.idle": "2025-06-24T22:00:45.106161Z",
          "shell.execute_reply.started": "2025-06-24T21:52:53.251523Z",
          "shell.execute_reply": "2025-06-24T22:00:45.105371Z"
        },
        "id": "2z5scuSJHT5I"
      },
      "outputs": [],
      "execution_count": null
    },
    {
      "cell_type": "code",
      "source": [
        "preds = [j for i in pred for j in i.values()]\n",
        "preds"
      ],
      "metadata": {
        "trusted": true,
        "execution": {
          "iopub.status.busy": "2025-06-24T22:06:21.946588Z",
          "iopub.execute_input": "2025-06-24T22:06:21.947199Z",
          "iopub.status.idle": "2025-06-24T22:06:21.959381Z",
          "shell.execute_reply.started": "2025-06-24T22:06:21.947176Z",
          "shell.execute_reply": "2025-06-24T22:06:21.958732Z"
        },
        "id": "CZ32-jiIHT5I",
        "outputId": "a6761c0d-4fcc-48ae-f67c-9d6565a8df7f"
      },
      "outputs": [
        {
          "execution_count": 59,
          "output_type": "execute_result",
          "data": {
            "text/plain": "['Traders advised to be more selective when eating out',\n 'Taylor’s University Bachelor of Fashion Design Technology graduates demonstrate fashion design for six semesters',\n 'Soccer-Penang students began 2024/25 school session',\n 'Tennis-Djokovic hopes to shake off freak head injury',\n 'Soccer-Westports Holdings shares ahead of growth prospects',\n 'Soccer teacher Joohari Ariffin announces unity government candidate for state seat',\n 'Trump selected 12 jurors who will assess guilt or innocence over coming weeks',\n 'Soccer-actress Jia Ling named Prada ambassador',\n 'Soccer-Belgium left back Thomas Meunier 10 days away from full fitness',\n 'WCT shares remains partial stake in Segi Astana',\n 'Malaysia Airlines cancelles flights from Kuala Lumpur to destinations in Sabah and Sarawak',\n \"Soccer-Bourin says 'The more anger' in Caribbean'\",\n 'Japan’s exports struggled as soft demand weighs on growth',\n 'Australian lammos can be made in a variety of flavours',\n 'Motor-driven Proton X50 offers strong continuous response to new model',\n 'Soccer-South Korea AI chip developers Sapeon Korea pursuing merger',\n 'Soccer-Actors want more open discussions',\n 'Asian Development Bank launches new country partnership strategy for Cambodia',\n 'When Lee takes on comics artwork',\n 'Soccer-stage startups seeking more government support in overseas markets',\n \"Soccer-Britain's upper house rejects lower house\",\n 'Motor to streamline Toyota Motor reports on development and certification to parent Toyota Motor',\n 'Disney says a few words about Freaky Friday sequel',\n 'Apple claims federal judge to dismiss lawsuit against Apple',\n \"Soccer-Fans will be able to buy Australia women's goalkeeper kit worn by \",\n 'Strengthening community spirit',\n 'Google rules to avoid personal data',\n 'Infrastructure contractors reach 58% completion stage',\n 'Soccer-Going to Submit button',\n 'Soccer-IMF managing director Georgieva says IMF wants to shine spotlight on',\n 'Meta-skilling Dialog Group invests in multi-skilling workforce',\n 'Thai durian trader sold 100 million baht worth of durians on Chinese e-',\n 'Soccer-Fernando Torres makes a huge trophy for Euros',\n 'Teenage couple sentenced to jail',\n 'Soccer-based learning programme to help reduce unemployment rate',\n 'Soccer-Jun Hao ready to take on responsibility of playing in first singles',\n 'Soccer-Dyeche says he could not expect lead singer Billie Joe Armstrong',\n 'Soccer-European report says 16% of children aged 11 to 15 cyberbullied in 2022',\n 'Soccer-Sydney spots exposed to asbestos',\n 'Soccer-Bangladesh govt plan to extend deadline for hiring of foreign workers',\n 'Soccer-Johor folk keen to file complaint with tribunal',\n 'Looking for four masked men believed to be involved in jewellery store in Kaj',\n 'WCT Group launches CSR initiatives to benefit 150 underprivileged families',\n 'Bitcoin hit record high on Tuesday',\n 'Consumer Claims Tribunal ordered RM60,000 for failing to deliver on two umrah',\n 'Soccer-Trump attracts 3 million followers on TikTok',\n 'US researchers evaluate AI models in international conflict scenarios',\n 'Soccer-Ivory Coast players celebrate their victory',\n 'Allianz EV Shield for electric vehicles',\n 'Soccer-Bengaluru dragged themselves back into Indian Premier League playoff race',\n 'Soccer-Pakatan Harapan and Perikatan Nasional taking to social media to get voters',\n 'Soccer-Pulau pupils without electricity',\n 'Soccer-French No. 3 seed Coco Gauff outlasts Belarusian Andreeva',\n 'Awar arrives for two-day official visit to Kyrgyz Republic',\n 'Soccer-Britain urges to provide more support for software companies',\n \"Trump slammed Democrats' attempts to regulate crypto sector\",\n 'Soccer-Ministry launches WhatsApp chatbot feature set to be launched',\n 'South Korea plans to convene public United Nations Security Council meeting on human rights abuses in',\n 'Soccer-A restaurant razed in fire',\n 'US consumer price inflation picks up to five-month high in April',\n \"Soccer-Macron's candidate takes third in third\",\n 'Cabinet congratulated Lawrence Wong on appointment as Singapore’s new Prime Minister',\n 'Soccer-Lay-vay makes a concert for a concert',\n 'Soccer-The Mystery of Britain’s heritage',\n 'Soccer-Parents left two children in car unattended',\n 'Malaysia Airports Holdings announces Segi Astana',\n 'Soccer-Tencent pushs for smart mobility solutions',\n 'Holdings receives RM30mil job scope',\n 'Assaulted with bribing policeman with RM60,000 to avoid action',\n 'Russia ready for fresh ammunition after US approved military aid package',\n 'Vietnam denounced illegal claims in East Sea',\n \"Russia's Prosecutor's office says\",\n \"Soccer-Verstappen backs Red Bull's handling of complaint against Horner\",\n \"Vietnam says 'S' military says\",\n 'Soccer director allows STPM and SPM students to postpone sitting for exams',\n 'Soccer-X ordered political speech from elected politicians',\n 'South Korea, China and Japan will hold first trilateral summit in more than four years in Seoul',\n 'Soccer-NationGate aims to spearhead growth',\n 'Oil prices remains slightly on fears Middle East tensions',\n 'Soccer-Sultan Ibrahim grants audience to members of Royal Commission of Inquiry',\n 'Soccer-Crescent Society students attend camp at SMK Sacred Heart',\n 'Provincial province implements robust mechanisms to harness forests',\n 'Why does it mean to live a purpose-led life?',\n 'Soccer-Seven arrested in connection with murder after man murder',\n 'Atos joins consortium to rescue distressed IT consultant Atos',\n 'Soccer-Papa Francis resigns as he feels good enough to carry on, says',\n 'Soccer-Polish taxi driver prevents scam in elderly woman',\n 'Air Selangor distributes essential food items to B40 families',\n 'Actor Mariska Hargitay approaches young girl',\n 'Soccer-Guardiola named Premier League manager of the Year',\n 'Asean Tourism Forum aims to promote Visit Johor Year 2026',\n 'UWC mixed on prospects of UWC',\n 'China’s Comac takes first trip outside China',\n 'Soccer-World Health Organisation says WHO says higher levels of harmful trans ',\n 'Google starts testing search and shopping ads in US',\n 'US Basketball announces veteran roster for Paris Olympics',\n 'Soccer-based learning programmes enhance growth of children in Gamuda Land',\n 'US dollar changed ahead of US dollar index report',\n 'Soccer-Modi draws new targets to boost farmer incomes',\n 'Soccer-Wall Street shares closed higher after Nvidia closed higher',\n 'Soccer-Ghosting is a new phenomenon',\n \"Thailand's rate levels are neutral, World Bank says\",\n 'Kerjaya Prospek plans to focus on construction business as its main revenue driver',\n 'Cultural talents across five shopping centres',\n 'China’s coal output rises to 14%',\n 'Soccer-Kosovo plans to remove domestic inmates',\n 'Corporate social responsibility promotes sustainability',\n 'Soccer-Witness walk away unscathed from accident',\n 'Bursa Malaysia closed up to highest in two years',\n 'Buddhist volunteers gather at Tzu Chi Jing Si Hall to celebrate Buddha Day',\n \"Soccer-Macron says Macron can't appease protesters to remove roadblocks \",\n 'Soccer-PUMM dinner served as a tribute to entrepreneurship',\n 'BRATs programme offers a writing platform for students',\n 'Advertisements for vacant public service positions taken over by Recruitment Secretariat',\n 'Soccer-Arsenal takes Premier League title race to final day',\n 'Motor, Chery Automobile granted promotional privileges to establish production facility in',\n 'Soccer-GameStop surges nearly 50% after influencer returns to X.com',\n 'Soccer-Kelantan government approved draft of Entertainment and Places of Entertainment Enactment Bill',\n 'Soccer-Liverpool reclaim title race as Aaron Klopp secures victory over Sheffield',\n 'Soccer-Canadian Olympic Committee becomes first national Olympic committee to join Swiss-based',\n \"Disney releases 'The Fantastic Four'\",\n 'Soccer-Lamove’s branding effort to boost their lives',\n 'Soccer-Thelma says you need advice on career paths',\n 'Microsoft says to make way into most Microsoft applications',\n 'Soccer-European data centres are a bright spot',\n 'Soccer-WOMAN sought help from police after ex-boyfriend threatened to kill her',\n 'Hong Kong police arrested 14-year-old boy for allegedly assaulting another pupi',\n 'Exhibition in Penang 2024',\n \"Google sues Google, says Google's advertising giant sought $1 billion\",\n 'Soccer-UnitedHealth expects to restore disrupted services for medical claims platforms',\n 'Soccer-Malacca Securities says fair value of 44.5 sen per share for Farm Price',\n 'Soccer-England could be deterrent?',\n 'Soccer-Kate and husband William remains private',\n 'Soccer-Liek Hou looks forward to during Chinese New Year',\n 'Srettha says tourism hub in province will be implemented soon',\n 'Microsoft discontinued a tool that allows advertisers to use sensitive personal data for targeted',\n 'GXBank rolls out support for DuitNow QR to users in stages',\n 'Soccer-General says amendments to the law needed on the matter',\n 'Soccer-Eisenberg claims stealing US$110mil on Mango Markets exchange',\n 'Soccer-Singapore hosts networking session for Singaporean agents',\n 'Amazon says it would invest more than 1.2 billion euros in French operations',\n 'Soccer-Nadal hopes of winning Barcelona Open for 13th time',\n 'Soccer-Dreyfuss says a scene over Memorial Day weekend',\n 'Soccer manager began jail sentence after Court of Appeal upholds conviction for causing',\n \"Soccer-India's Kuldeep struck 194-8 at tea\",\n 'Malaysia schools opened new school year with another pupil',\n 'IJM Land offers RM1,000 duit raya',\n 'Soccer-South Korea assaulted female convenience store clerk because she had',\n 'Australia and New Zealand gathered at Anzac Day services to commemorate those who',\n 'Sabah signs JDA to develop 2.543ha of land in Kota Kinabalu Port area',\n 'Soccer-Azizman looking to continue Asia Production 250cc race category',\n 'Consumers can heave relief as T&CM services become exempted from SST',\n 'China’s Qin Gang stepped down from top legislative body',\n 'Soccer-Borussia Dortmund fires 1-0 victory over Paris St Germain',\n 'Soccer-Supergiant releases Hades II',\n 'Soccer-Kwon built a house of cards',\n 'Malaysian technology sector forecasts 8% year-on-year sales growth',\n 'Soccer-How lucky can mixed doubles shuttler Chan Peng Soon be?',\n 'China’s Hassan Sunny says he would donate money to Singapore',\n 'Soccer-TVET offers valuable pathway to enhance graduate marketability',\n 'Soccer-Going to Submit button',\n 'Soccer-inspired Andy Warhol watch',\n 'Hong Kong Airport Authority urges to review runway closure',\n \"China's economy remains soft spot in China's economy\",\n 'Bank Islam manages to mitigate NIM margin',\n 'Soccer-SMK St Elizabeth committed to help students in education',\n 'Soccer-Kissinger spent more than two decades reporting on mental illness',\n 'Soccer-The Oei Women of Java',\n 'Soccer-LockBitSupp remains mystery',\n 'Trump raises stake in social media app Truth Social to nearly 65%',\n 'Soccer-Malaysian gymnast Mohd Sharul Aimy wanted to get his landing right',\n \"Soccer-Berlusconi says 'over-bearing' political ally\",\n \"Soccer-Filipino Swifties criticised Singapore over 'exclusiveity deal with Swift'\",\n 'Soccer-RCI set up to find out causes of repeat tragedy',\n \"Soccer-Lyft's forecast error could invite regulatory scrutiny\",\n 'China stocks climb record highs',\n 'Soccer-Peaty heading to Paris at peace with hisself',\n 'JV plans to undertake RM2bil smart container port in Port Dickson',\n 'Dutch startup Prosus named new CEO',\n \"Russia's Putin greeted in Pyongyang\",\n 'Soccer-Australian police says knife attack on Assyrian church bishop and others in Sydney',\n 'Soccer Court ordered Aminuddin to pay RM3.56mil to Securities Commission Malaysia',\n \"Indonesia's Ministry supports community empowerment efforts for elderly to work again\",\n \"Soccer-Nigeria's councillor says ransom demand for their release\",\n 'Soccer-Foundation funds CSR project',\n 'Vietnam authorities ramp up tax supervision on individuals who earn income from livestream sales',\n 'Soccer-Dumont says a political challenge to legalise Texas gambling',\n 'Soccer-Kohi brushes aside criticism of strike rate',\n 'Soccer-Milton husband jailed for life',\n 'Soccer-Finland proposes emergency legislation to block asylum seekers from Russia',\n 'Hong Kong developers snapping up new Hong Kong properties after removal of property levies',\n 'FY23 launches seven projects in Penang',\n 'Apple’s ‘Crush’ spot reveals Apple’s ‘Think Different’',\n 'Nintendo announces successor to Nintendo Switch console',\n 'Soccer-inspired Fritz Brasserie',\n \"Soccer-Ferrari's Sainz wanted to speed up talks with Formula One teams\",\n 'Microsoft ramps up criticism of cloud computing practices',\n 'Laos Leaders discuss special solidarity among three countries',\n 'Malaysia Airlines reinforcing commitment to supporting Visit Malaysia Year 2026',\n \"Soccer-Arsenal remains sceptical about Arsenal's form\",\n 'Ampang Jaya local men arrested for allegedly stealing jewellery from woman',\n 'Biden announces $6.1 billion in student loan debt relief for nearly 317,000',\n 'Motorcyclist killed in accident every two hours in Malaysia',\n 'Soccer-American auto safety regulators opened investigation into Waymo self-driving vehicles',\n 'Graduates say higher quality education in Malaysia',\n 'Soccer-MIDF Research says Sunview Group will make it asset owner',\n 'Soccer-United remains a huge clash with Coventry',\n 'Soccer-China OIL prices extended losses in Asia trade',\n \"Soccer-South Korea's antitrust agency will consider imposing sanctions on Meta Platform\",\n 'Soccer-Thai Navy warship fired artillery shell at Chonburi',\n 'Soccer-England’s top players celebrate high quality badminton',\n 'Soccer-Farmers advised against eating mussels',\n 'Soccer-Real Madrid takes 3-2 draw in Bernabeu stadium roof',\n 'Soccer-Fiorentina manager Barone dies after suffering cardiac arrest',\n 'Soccer-Catalonia to hold early election on May 12 after separatist minority government failed',\n 'Financial burden lifted from PFF',\n 'Klang Valley folk protests at Kampung Bohol flood retention pond',\n 'Soccer-Caught a healthy workshop',\n 'Soccer-Ringgit moved higher against US dollar',\n 'Soccer-Swift’s Saunders takes 50,000-strong crowds to capture 50,000',\n 'Gadang Holdings shares positive for data centre',\n 'Soccer-tourists to visit Machu Picchu',\n \"Soccer-Peru's Justice Department extends 14 months pretrial detention of jailed \",\n \"Soccer-Brazil's government submitted proposed rules to Congress to carry out historic\",\n 'Soccer-More than 53,000 runners completed 44th London Marathon',\n \"Soccer-American schools become a 'Black' album\",\n 'When hiking trip is not just about comfort',\n 'Soccer-themed festive celebration in Bayu Sutera',\n 'Microsoft’s growth mindset takes a leap',\n 'Soccer-Sdn Bhd appoints SNS Network to market GIS in Malaysia',\n 'Soccer-Parents can expect to pay 10% more for school bus fees, say operators',\n 'Parisians plunged into darkness',\n 'Soccer-Econpile outlook appears bullish, underpinned by upcoming mega',\n 'Google rejects 4.7 billion rouble fine',\n 'Soccer-Matcha Eight offers a menu evoking spring blossoms',\n 'Soccer-West Ham United manager Moyes leaves West Ham United by mutual consent',\n 'Soccer-Superagers celebrate superageing',\n 'US telecom says Federal Communications Commission to reinstate landmark net neutrality rules',\n 'Soccer-Spatafore killed in illegal attacks',\n 'Soccer-Bellingham says being serenaded by England fans with The Beatles\\' \"Hey',\n 'MFM unveils Uniqueness event',\n 'Soccer-MIDF forecasts outlook lower',\n 'Meta to delay AI models in Europe for now',\n 'Athropic reveals AI suite for Claude 3 Opus',\n 'Soccer-TVET students advised to check the rating of TVET',\n \"Soccer-Britain's Royal Mint launches 50p tribute to fallen Allied troop\",\n 'Russia uses Western weapons to strike inside Russia',\n 'Motorists need to avoid heat',\n 'Soccer-Actress Nur Alin says a baker takes a lesson',\n 'Soccer-Going to Submit button',\n \"Soccer-Care becomes England's sixth rugby centurion when he wins 100\",\n 'Soccer-Man charged in court on June 5',\n 'Malaysians reported to be affected by 7.2 magnitude earthquake',\n 'Siah driving a car when he failed to keep proper lookout',\n 'Teenage autistic boy drowned in Skudai River',\n 'Indonesian Democratic Party takes up role of opposition party to future government',\n 'Soccer-Celebrities get starstruck when encountering idols',\n \"Japan's Kishida considers visiting South Korea\",\n 'Soccer Stone unveils in Kanchanaburi',\n 'Soccer-China traders snapping up bullion',\n 'Soccer-President Imelda Marcos says he is hospitalised with pneumonia',\n 'Soccer-Syria remains a weapon of war',\n 'Soccer-Worldcoin filed lawsuit against Spain data protection regulator',\n 'Russian special forces freed six inmates',\n 'Paris 2024 broadcasts Paris 2024 Paralympics as interest in Paris 2024',\n \"Soccer-Inter's side prepares for emotional derby against AC Milan\",\n 'Soccer-MAIWP needs to coordinate funds with other agencies',\n 'Actor Chai Kee Kan tells King to grant audience to King',\n 'Soccer-Piswa: 5.65% of pupils still unable to master basic literacy',\n 'Soccer-Three speedboats destroyed in a fire',\n 'Malaysia acquires 51% stake in ZEC Solar',\n 'Motorists using RMR2 to repair expansion joints',\n \"Japan's Taiwan Semiconductor Manufacturing Co suspends work at construction sites in Taiwan\",\n 'EU Council decides to restrict visa provisions for Ethiopian nationals',\n 'Heritage Temple invites all races to witness five-day celebration',\n 'Soccer-American officials say',\n 'Soccer-Marcos submits proposals on how to alleviate traffic crisis',\n 'Soccer-Rud rallies from set down',\n 'Companies channelled to subsidise goods for Jualan Kasih Johor programme',\n 'Soccer-Pasar Besar Bandar Rawang traders complained',\n 'Soccer-Man rushes back to home to celebrate with his mother',\n 'Soccer-France 2030 and Salt Lake City 2024 bids to becoming Olympic Winter Games ',\n 'Soccer-ETFs bounce back from upward trajectory',\n 'Meta plunges sharply lower after inflation forecast',\n 'Soccer-Un shared gratitude for recognition of humanitarian affairs award',\n 'Apple and Meta face charges for failing to comply with landmark EU rules',\n 'Soccer-SMEs to leverage expertise in research and development',\n 'Soccer-Seven individuals detained for fighting over Ramadan bazaar stall site',\n 'Malaysia to avoid SEA Games defeat to Indonesia in Cambodia',\n 'Soccer-Williams and Australian soccer player Mary Fowler among nine athletes to',\n 'Nintendo plans to make announcement about Switch console',\n 'Soccer-Sheh shares their voice',\n 'Soccer-Police investigating Molotov cocktail hurled at KK Super Mart outlet in Bidor near Bi',\n 'Russia targets for retaliation by Moscow',\n 'Soccer-Superman fans must be excited to see Superman',\n 'Soccer-Nor Hisham says open burning incidents reach alarming level',\n \"India's third-century-old decision to end tiny island dispute\",\n 'Russia struck Zaporizhzhia nuclear power plant three times on Sunday',\n 'Soccer-Brunei-Muara recipients bestowed with personal gifts',\n 'Sony announce two company executives to take new leadership roles at games unit',\n \"Soccer-Spanish actor's son opened Tuesday on Thai tourist island\",\n 'Soccer-Apollo to formulate a rectification plan to address shortfall in public shareholding ',\n 'Soccer-MBI plans to upgrade First Garden food court',\n 'Soccer-themed STEM exhibition',\n 'China urges all-out response to floods',\n 'Soccer-Modi agrees with allies to form a government after a general election',\n 'FGS temple hosts temple’s 30th anniversary',\n 'Singapore and China can work together to strengthen bilateral cooperation',\n 'Capital A finalised business combination agreement with Aetherium Acquisition Corp',\n 'MCMC takes lead in combating cybercrime across Southeast Asia',\n 'Soccer-Danish Amzar believes he can go far',\n 'China businessman Wang Xiaofei married to Taiwanese influencer',\n 'Soccer-Bol lowers world record in indoor 400m hurdles',\n 'Malaysian expedition aims to cycle in ice Storm Russia expedition',\n 'Supreme court suit against KLRT owner and operator filed by a victim',\n 'CIMB Securities announces appointment of four experienced professionals',\n 'Amin collaborates with Lembaga Zakat Selangor',\n 'Soccer-Focus on AI',\n 'Soccer-Youth All-girls team will be heading to Orlando, Florida',\n 'Google set up cybersecurity base in Asia-Pacific region',\n 'Motorists face drink-driving charges',\n 'Apple assembles $14 billion worth of iPhones in India',\n 'Ascott says a traditional water-saving method to help the planet recover',\n 'Soccer-France plans to leave no stone unturned as Paris 2024 Olympics hottest',\n 'Islamic Development Department issues stern warning to KK Super Mart',\n 'Enjoy a journey of discovery and adventure',\n 'Awar paid visit to Economy Minister Rafizi Ramli',\n 'Soccer-England fan woke up cold and confused in empty stadium hours after Euro ',\n 'Meta to stop paying Australian news publishers for content that appears on Facebook',\n 'Russia says Russian disinformation campaign could be a threat to avoid Games',\n 'India votes on third term in office',\n 'Soccer-Sivasangari named as one of five players for PSA',\n 'Soccer-Indian chefs welcome Selangor royal family',\n 'Soccer-GAIA Boulevard offers a new tenanted park',\n 'Malaysian man slapped with RM5,500 fine by Magistrate Court',\n 'US Treasury yields higher',\n 'Happiness is a burst of joy',\n 'Technical problem caused several areas to experience low water pressure',\n 'Soccer-K-pop fan Lee Eun-soo says agencies behind K-',\n 'Paytm climbs as much as 10% on Wednesday',\n 'Soccer-Bayern Munich midfielder Pavlovic will wait longer for Germany debut',\n 'Soccer rivals U. Thanusaa and K. Sehveetrraa will be trying',\n 'Soccer-Ringgit could strengthen',\n 'Soccer-themed Downton Abbey movie returns for third Downton Abbey movie',\n 'Bursa Malaysia closed lower, but key index remains above 1,600 psychological level',\n 'Soccer traders say DBKL to relocate Pasar Karat',\n 'Thailand blamed for captive breeding of elephants',\n \"Soccer-Germany's Defence Minister Pistorius says military call on Ukraine intercepted\",\n 'British novelist Tan Twan Eng earns spot on shortlist for historical fiction',\n \"Soccer-South Korea's So Yeon Ryu announces retire from professional golf\",\n 'Soccer-Brazilian midfielder says',\n 'Soccer-on-year earnings expected to be supported by growth',\n 'Indonesian students and activists stage protests over abuse of power to sway vot',\n \"Soccer-Barca's Napoli ready to return to Napoli\",\n 'China says Manila’s military talks against maritime dispute',\n 'Soccer toys seized after raid',\n 'Soccer-Korean political officials expected to top agenda ahead of South Korea’s cruci',\n 'Soccer-European cybersecurity experts seek vote on EU cybersecurity label',\n 'Rising growth rises to 2024',\n 'Graduate Employability Index awarded in Talentbank',\n 'Soccer-Going to Submit button',\n 'Soccer-Dewan Rakyat meeting could not be debated',\n 'Apple pairs up with Shutterstock on AI image training',\n 'Apple supplier Foxconn reports 33% rise in fourth-quarter profit',\n 'Soccer-The boat accident ending with a wife',\n 'Soccer-Spain police took robot dog to joy of bystanders',\n \"China's Chivorn says that Cambodian student says that Cambodian student\",\n 'Soccer-Student claimed sexual relationship with female teacher',\n 'Soccer secretary charged over RM350,000 linked to maintenance tender',\n 'North Korea shipps 6,700 containers carrying millions of munitions to Russia',\n 'South Korea sends military and community doctors to hospitals',\n 'Youths often earn money',\n 'Vietnam to roll out red carpet for Putin',\n 'Soccer-Haiti says strict security measures on Haiti',\n 'Soccer-Gillian Lim hopes to be on roll in Singapore',\n 'Soccer-Schffler makes PGA Championship proud of how he battled under the circumstances',\n 'Soccer-Tan diagnosed with brain tumour',\n 'Soccer-TVET graduates become more competitive',\n 'Motor-driven by automotive segments',\n 'Seoul citizen says tearful goodbyes to beloved panda Fu Bao',\n 'Soccer-themed exhibitions',\n 'US estimates lower to 4.9 million in 2022',\n 'Thailand remains neutral in Myanmar conflict',\n 'Aito M7 Plus electric vehicle crashed in China',\n \"Soccer-Italy's biggest bank Intesa says it had acquired 90,000 new\",\n 'Soccer-Crest Builder wins RM486mil contract to build three condominiums in Kiara',\n \"Soccer-Southampton's Preston postponed after fire broke out in St Mary's Stadium\",\n 'Soccer-Tech team aims to victory in Shell Selamat Sampai Varsity Challenge',\n 'Soccer-Cassandra says a recognition for a young woman',\n 'Soccer-Students taking steps to protect Palestinian cause',\n 'Malaysian golfer Ashley Lau returns to United States on buoyant note after another solid',\n 'Soccer-owned businesses reach TikTok',\n 'Australia emergency workers rescued man who was stuck in Brisbane storm drain',\n 'Soccer-JKR says congestion on Federal Highway',\n 'Malaysia joins BRICS to attract more foreign investments to Malaysia',\n \"China says 'Big savings' says PM\",\n 'China and China can peacefully resolve their differences',\n 'Soccer-themed socialisation becomes popular among young people',\n 'Soccer-Anwar says nothing to do with Kuala Kubu Baharu by-e',\n 'Soccer-Tunku Abdul Rahman University crowns champion at RTB Tag Team',\n 'Soccer-Safiq says he wants another quick fix',\n 'Soccer Ministry launches 2024 Labour Day celebration',\n 'Soccer-Two Rivers Middle School students stole iPad software, police say',\n 'Soccer-The Art Institute expresses its intention to return 900-year-old artefact from ruin',\n 'Chinese primary school in Kuala Perlis reveals that majority of students were Malay',\n 'Soccer-S&P 500 and Nasdaq edge lower',\n 'Soccer-Ziyi Jia beats Denmark',\n 'Soccer-Gombak residents welcome efforts to implement strategic improvements',\n 'Soccer-Najib testifies as director in name',\n 'Apple proposal fails to comply with EU order',\n 'Microsoft says a major WiFi security flaw in Windows',\n 'Soccer-friendly businesses remain in a conservative mode',\n 'Soccer-Mei Xing says a rhythm for teammates to get into',\n 'Soccer-Scalvini calls up as replacement for Scalvini',\n 'EPF shifts from traditional focus on savings for retirement',\n 'Soccer-Ugandan commander Ongwen gets over 52 million euros in compensation',\n 'Soccer-Ronaldo beats Ronaldo for more than two decades',\n 'Soccer-Negeri Sembilan average grade 4.33 compared to 4.7',\n 'Soccer-lawyer claim trial at Sessions Court',\n 'Tales from the Yeast Indies tells a very interesting twist',\n 'Soccer-Hathaway went along with audition process',\n \"Thailand's police crack down on scam syndicate\",\n 'Soccer-Inmates targeted to undergo rehab programmes',\n 'Jensen Huang says he can be a very nice boss',\n 'BNP says it’s no longer participating in conventional bond issuances',\n 'Residents outraged to revocation of Bohol pond',\n 'Soccer-Chieng says he could be part of The Daily Show',\n 'Soccer-American doctor collapses from acute allergic reaction',\n 'US Fed officials say housing inflation will finally cool',\n 'US officials expect Starliner to return to Earth',\n 'Soccer-Elews Mart convenience store owned by Ebit Lew',\n 'Soccer-LinkedIn disclosed sales for premium subscription business',\n 'Soccer-The Star gathers for a reunion',\n 'Netflix shows hardly about TV at all',\n 'Soccer-Goeldoko looks to press ahead with controversial bills',\n 'WWF-Malaysia continues strategic partnership aimed at strengthening Malayan tiger conservation',\n 'Charity social responsibility cycling programme',\n 'Soccer-Universities and University Colleges bill expected to be tabled in Dewan Rakyat',\n 'Soccer-Ten Hag criticises Nottingham Forest for targeting Bruno Fernandes',\n 'Penang government decides to offer consumers first 10,000 litres of water for free for six months',\n 'Malaysia sees hydrogen as key element in National Energy Transition Roadmap',\n 'Soccer-Italy scientists set up a new form of meat-free meat',\n 'Residents should brace themselves for heavy rains',\n 'Malaysia recorded 1.05 million domestic tourists during Spring Festival',\n 'Soccer-Multicultural communities could help councillors to improve public areas',\n 'Soccer-Sabah fireman killed after crash crash',\n 'Soccer-Nvidia overtook Amazon as Wall Street’s most valuable company',\n 'SWM Environment signs MOU to promote recycling',\n 'Soccer-A woman passenger booked by Lucknow police',\n 'Soccer-Rafidah Aziz says Singapore teachers should look into getting retired ',\n 'Soccer-Sarei says amendments to Rukun Tetangga Act 2012 are fine-',\n 'Soccer-Malaysian Customs Department enhances measures to ensure accountability and transparency',\n 'Soccer-X says it could be making likes private',\n 'China takes tentative steps to cooperate on AI',\n 'US govt increases spending on drones for Ukraine',\n 'US prime minister pleaded to quit to protest a plan to increase medical school admissions',\n 'Soccer-Ringgit closed higher against US dollar',\n 'Soccer-Ong Chin Huat takes readers along as he uncovers Harmony ',\n 'Soccer-Forbes says Altman becomes a billionaire',\n 'Soccer-Noboa signed two military cooperation agreements with United States',\n 'Paris 2024 posters unveiled on Monday',\n 'China-US relations remain stable, says Xi',\n 'Soccer-Police officer detained after urine tests came back positive for drugs',\n \"Google, Amazon and Airbnb won backing of Europe's top court\",\n 'Malaysian mixed doubles pair secures first-round hurdle in Malaysian Masters',\n 'Soccer-Norwegian Supreme Court says social media access is human right',\n 'Sunrise Charm secures two construction contracts worth RM165.56mil',\n \"Soccer-Pakistan's interior ministry says X blocked access to social media platform X\",\n 'Soccer-Sheinbaum could struggle to fulfill climate pledges after she claims',\n 'Soccer-TikTok filed legal challenge against US Supreme Court',\n 'Soccer-China’s Victoria’s Secret aims to strengthen marketing efforts in China',\n 'Soccer Ministry reported dengue fever cases increased to 2,361 in 20th ',\n 'Soccer-friendly turtles are a delectable treat for Penang seas',\n 'Oil prices fall more than US$1 a barrel on scepticism',\n \"Soccer-Fong celebrates husband's birthday\",\n 'Malaysia must prioritise road safety',\n 'Soccer-Zoox plans to start testing autonomous vehicles in Texas, Miami',\n 'NXP introduces new platform for cars',\n 'Soccer-Kinder Arts by Special Artists',\n 'Vatican office calls on bishops to clean up child abuse cases',\n 'Malaysian Medical Council to make meaningful reforms in healthcare system, says Dr Aziz',\n 'Soccer-PM Anwar confident e-payment transactions can be achieved earlier than',\n 'Soccer-Ferrari signs multi-year partnership with HP',\n 'Soccer-P. Thinaah are almost certain to be excluded from Uber Cup',\n 'Soccer-American pharmaceutical companies reach a long history of managing physician',\n 'Hong Kong opposition says a ‘wait-and-see’ mode',\n 'Soccer-based pricing strategy aims to boost competitive banking landscape',\n 'Sabah nominated to be recognised as Ramsar sites',\n 'Motor-Mervin Chang back on familiar territory',\n 'Australia plans to unleash wave of spending, from energy rebates to tax breaks',\n \"Soccer-Mancelotti 'dreaming' of recovery\",\n 'Sultan Shah paid visit to Raja of Perlis Raja',\n 'Soccer-Pacific River of King will look cleaner',\n 'Soccer-Captain nabbed in waters off Tawau for ferrying controlled goods illegal',\n 'US IRS commissioner says IRS will need to boost workforce to over 100,000 people',\n \"China's central bank left key policy rate unchanged\",\n 'Soccer-Turkish players stunning long-range strike lift Turkey to 3-1 win',\n 'UTP shows exceptional progress in QS World University rankings',\n 'Microsoft drops more than 8% in premarket trading',\n \"Soccer-Australia coach says it's too early to judge Smith as test opener\",\n 'Soccer-MCMC to work together with MCMC to fight rampant digital piracy on Telegram',\n 'When you’re going back to platonic',\n 'Soccer-Dzulkefly wait for negative presumptions over pension scheme',\n 'Twice sets sights on new high on Billboard main chart',\n 'Soccer-Yam says he loves Malaysia',\n 'Soccer-Texas Chicken Malaysia wins third silver trophy in Putra Brand Awards 2023',\n 'Soccer-A housewife lost RM400,000 after falling prey to phone scam',\n 'Soccer-Hwang slammed Archegos for ‘lies’',\n 'Malaysian Institute of Art founder Chung Chen Sun breathed last at 1pm',\n \"Russia's 400 detained at political events\",\n \"China's May crude production slipped in Asia trading\",\n 'Soccer-Yong Teck Lee proposes to reclaim Labuan from Federal Government',\n 'Soccer-Brunei Police Force uncovered chicken fighting and katam-katam gambling activities',\n 'EU scientists introduce climate data',\n 'Election Commission set July 6 as polling day',\n 'Soccer-Germany feel pressure to deliver as hosts of Euro 2024',\n 'US leader Kim Jong Un guided military demonstration',\n 'Soccer-Women in cybersecurity challenges',\n 'Soccer-Nice looks to be a distance memory',\n 'China’s container shortages are shockingly simple',\n 'MACC released on bail by MACC',\n \"Soccer-Sabah branch fits in well with Sabah's aspiration to develop quality human\",\n 'Soccer-Faisal in stable condition after undergoing three surgeries',\n 'Soccer-Dimon takes helm in 2024',\n 'Heavyweight Baidu says its large language model and ChatGPT-like chatbot ',\n 'Soccer-It’s a flying video',\n 'AI companies accused of open source label too loosely',\n 'ASML reports first-quarter earnings of 1.22 billion euros',\n 'Soccer-Defence Department requests students to declare health status to school authorities',\n 'Aida says trees poisoned after being poisoned',\n 'Amazon driver sues amid safety measures',\n 'Cultural shows celebrate Malaysia’s unity',\n 'Soccer-China economy forecasts growth',\n \"US airlines can access passengers' most personal data\",\n 'Google loved pulling pranks, says Larry Page',\n 'Microsoft plans to release coming installment of Game Pass to subscription service',\n 'Soccer-Biden says immigration lawyer could help immigrants',\n 'Malaysia should increase investment in research and development',\n 'Malaysia military calls up under conscription law',\n 'Soccer-Families mourning children in rocket attack',\n 'Farmer calls on local authorities to step up maintenance of trees in Klang Valley',\n 'MSCI cuts Chinese companies from global benchmarks',\n 'Soccer-General Thaksin Shinawatra seen leaving Chan Song Lar mansion',\n 'Soccer-Farmers could not reduce vegetable prices',\n 'Soccer activist says MCCA could help spread awareness on social media',\n 'Soccer-Beguir launches AI startup InstaDeep in Tunisia',\n 'Selangor shouts match after shouting match',\n 'Microsoft forecasts full-year 2025 revenue and profit below Wall Street estimates',\n 'Russia extended three months detention of Gershkovich',\n 'Soccer-Carey takes Australia to victory over New Zealand',\n 'Soccer coach says Wolfe poses as teen girl online',\n \"Google's Gemini 1.5 could be minute-long affair for Google\",\n 'Soccer-Germany hosts Germany on course for narrow victory in Scotland - ',\n 'Soccer-Bond traders expect Fed to lower interest rates by 75 basis points',\n 'Soccer-Puttingrajaya celebrates a huge duathlon',\n 'Thai trousers become increasingly popular among foreign visitors',\n 'Soccer-Selangor investment committee chairman Ng Sze Han',\n 'Soccer-Bank Rakyat offers prizes to win prize totalling RM750,000',\n 'Soccer-Olympic 800-metre Semenya appears at European Court of Human Rights',\n 'Soccer-Police arrest two drug distributors who have been using old cars as storage',\n 'Soccer-Wall Street forecasts upward trajectory',\n 'Soccer-Tan stole from a 60-year-old with cerebralpalsy after molesting',\n 'Apple failed to honor court-ordered injunction',\n 'Soccer-Parents should pay attention to their children’s gaming activities',\n 'Soccer-Man looks a must-have fashion accessory for ladies',\n 'Soccer-Online travel platform Expedia cuts about 1,500 jobs globally',\n 'M Zenya offers mixed development units',\n 'Why a huge environmental impact is a huge problem',\n 'Johor assemblyman calls on state government to introduce third language in schools',\n 'Samsung Electronics plans to offer one-stop shop for clients to get AI chips made faster',\n 'Soccer-Rakuten Bank shares jumped in four months after Japan online lender climbs',\n 'Soccer-Sweden sends military aid to Ukraine',\n 'investors accused Binance of violating US securities laws',\n 'Soccer-Saifuddin Nasution denied claims that immigration detention depots',\n 'Soccer-Haitian judge charges fifty people, including widow and former prime',\n \"Cigna's Evanko says healthcare hack impacts claims\",\n 'Penang users will not be charged for first 10,000 litres of water each month',\n 'Soccer-Zvererev rues French Open against Alcaraz',\n 'Apple warns users of threat notification email',\n 'Soccer-Hsu accuses Wang Xiaofei of infidelity',\n 'Bitcoin drops to record high',\n \"Malaysia's benchmark stock index closed in red\",\n \"Malaysia's key stock index rises mildly higher\",\n 'Soccer-I don’t like a school',\n 'Soccer-inspired dresses rising in popularity',\n 'Soccer-Singapore says significant demand for offices',\n 'Mutang appointed to post',\n 'Soccer-Selangor Ruler commended Goodyear Malaysia for 52 years of contribution to Selangor',\n 'Unique cognac inspired by ancient ties with China',\n 'Soccer-X-Man’s X-Men’s animated series makes a',\n 'Soccer-Lamont Jacobs ramps up preparations for Paris Games',\n 'Soccer-Blood Bank needs 2,000 blood bags daily',\n 'China to use Group of Seven meeting to halt debt service',\n 'Soccer-OCBC Cycle Kuala Lumpur takes biggest turnout with 2,700 rider',\n 'MBSA awards Asean Clean Tourist City standards',\n 'Malaysia External Trade Development Corp formulating strategies to navigate geopolitical challenges',\n 'Soccer-Football teams can spend RM100mil on a player',\n 'Soccer-Ten Hag blamed injury crisis at Old Trafford',\n 'When you can’t decide on local cuisine, Harome offers best solution',\n 'Hong Kong chefs abuse says',\n 'Soccer-British cyclist Pidcock taken to hospital after suffering fall during cycling tour',\n 'Soccer-Portuguese opposition parties hopes to reject Chega',\n 'Soccer-Passengers contending with flood in 75 years',\n \"Soccer-Creativity makes a 'normal' attitude'\",\n 'Soccer-Swiftie takes seat at Super Bowl',\n 'Soccer-Smartsheet forecasts revenue outlook missed analyst estimates',\n 'Malaysian Aviation Commission revokes My Jet’s Air Operator Certificate (AOC)',\n 'Soccer-De Biasi says Italy should not be written off so easily at Euro',\n 'Soccer-Rowland seen on camera having tense moment with security',\n 'Amazon MGM Studios crew members injured in crash on Georgia set of Eddie Murphy',\n 'Singapore Airlines and Indonesia airlines signed revenue sharing arrangements for flights between',\n \"Soccer-Kedah’s new defender says 'Real-Kedah’s new\",\n 'Thailand welcomes 9,370,297 overseas visitors',\n 'Soccer-Fammi says shorter validity period for media cards in force yet',\n '88 Captains could help promote talent development',\n 'Soccer-More than 2,000 units of PPR housing projects reclaimed by Johor government',\n 'China travel and spending climbs 14%',\n 'Soccer-Fed funds remains a stronger dollar',\n 'Soccer-Bung Moktar defends against deep state officers',\n 'Animals can help dogs with seizures',\n 'Japan linked to health scare',\n 'Meta expands AI ads tools to help generate images',\n 'Soccer-Cambodia making progress towards achieving self-imposed malaria-free goal by',\n 'Soccer-Tech stocks reach $18.6 billion in first quarter',\n 'Soccer-Lau says',\n 'DeepL launches AI assistant for beginners',\n 'Motor cars almost a thrill of smelly little Trabbi',\n 'Soccer-I could be a lucky to be in Germany',\n 'Environmental quality committee shut down four premises',\n 'Soccer-June Wei ready to play against Denmark',\n 'Motor Motors resume testing robotaxis with safety drivers in Phoenix',\n 'Johor Mentri Besar will continue in tourism portfolio',\n 'South Korean police calls in doctor for questioning',\n 'Meta platforms Inc withheld information from federal regulators',\n 'Soccer-UEFA says Carbon footprint calculator will be groundbreaking tool in helping clubs',\n 'KTI Landmark receives Bursa Malaysia’s approval for IPO',\n 'Taylor Swift and Kylie Minogue stun on red carpet',\n 'Awanbiru Technology announces synergistic offerings to drive future growth',\n \"Apple chief Cook meets Indonesia's president\",\n 'Soccer-Filtronic surges 50% to decade-high',\n 'Soccer-Raducanu says she has any doubts when she hits the ball after',\n 'Soccer-Arif missing out on action',\n \"Russia calls for sanctions on Russia's prosecutors, courts and penitenti\",\n 'Soccer-Niru Rahull seeking opportunity to play for Speedy Tigers',\n 'Malaysia’s higher education framework must change according to current needs',\n 'Chinese community aims to decorate 160-year-old Kuan Tai Meow Temple for Chinese',\n \"Soccer-Romer says Bellingham's availability for Real Madrid's Champions League tie\",\n 'S&P Global reports stable growth in Malaysia',\n 'Soccer-Williams exposes himself through pajama pants',\n 'Soccer Ministry pledged to defend civil servants against misconduct',\n 'Soccer-Forms to develop comprehensive sporting facilities in Sibu',\n 'Soccer-Former prime minister struck out lawsuit by former prime minister',\n 'Soccer-Barca squander Barca chance to close gap with Real Madrid',\n 'Soccer-Cannon secures US$10mil insurance policy for his testicles',\n 'Soccer-Cesco Week: Codelco explores more partnerships with private sector',\n 'CDL reports bigger-than-expected declines in full-year profits',\n 'Apple fines 1.84 billion euros for thwarting competition from music streaming rivals',\n 'Soccer-Biden Shen challenges rising pair Choong Hon Jian-Haikal to make step',\n \"Soccer-Saudi Arabia's PIF looking to invest in a joint venture with\",\n 'Soccer-Love and trust',\n 'Soccer-Ministry wants 60% of Sijil Pelajaran Malaysia leavers to enrol in',\n 'Soccer-free memes are a rage',\n 'Soccer-PDSA Charity event at Pulau Tikus empowers 20 special needs folk',\n 'Soccer-Instagram tests nudity protection for teens',\n 'Meta-Bank reports earnings recovery for Dialog',\n 'Soccer-friendly ways to help children with T1D',\n 'Soccer-City goalkeeper Ederson miss FA Cup final',\n \"Soccer-Italy's TikTok fines 10 million euros in total for inadequate checks\",\n 'Soccer-Chelsea secures place in top five of Premier League standings',\n 'Soccer-friendly dim sum with loved ones',\n 'Soccer-Swedish children’s books exhibition',\n 'Soccer-Paris 2024 countdown clock turned to 100 days',\n \"Soccer-O'Keeffe leans on coaches and support crew after Olympic trial\",\n \"'The right place' says Klose\",\n 'Soccer coach says Zii Jia to peak in Paris',\n 'Soccer-Go Hub schedules listing on ACE Market',\n 'Another 140 land owners receive RM1.47mil compensation',\n 'Soccer-Sandra set to face legal action for alleged corruption',\n 'Soccer-Bursa Malaysia changed name to ARKA',\n 'Soccer-Bangladeshi national Salam says he could snare IT job in Cambodia',\n 'Soccer-Jin Wei will give it her all',\n 'Meta reports to be working on Instagram feature',\n 'Soccer-Prof Clarke says a good leader',\n \"Soccer-Russia congratulated South Africa's Ramaphosa on re-election\",\n 'Soccer-Slovakia pulls off sensational shock in Euro 2024',\n 'Soccer-Protesters in New Caledonia erected new barricades overnight in \"cat-',\n 'Soccer-taking tensions on CME copper contract',\n 'Malaysia and China exchange 14 memorandums of understanding',\n \"Soccer-seekers celebrate Gamuda Cove's attractions\",\n 'Soccer-Locals rescue 15 dolphins stranded on Haigyi Island',\n 'Soccer-Leo set to see \"distinctive food and places of attractions\" featured',\n 'Lido Square aims to set up five-star boutique resort on Pulau Manukan',\n 'Russia\\'s Rosfin monitoring agency added Kasparov to its list of \"terror',\n 'Soccer-Taiwan chipmaker TSMC reports 16.5% rise in first-quarter revenue',\n 'US military started moving maritime port towards Gaza coast',\n 'Soccer-UMS expected to see water supply issues easing',\n 'US companies ordered third fewer robots in five years',\n 'Singapore’s Changi Airport surpasss pre-Covid levels',\n 'EU to open defence industrial strategy proposal in three weeks',\n \"Laos' Ministry of Health adopts new law to provide better quality healthcare services\",\n 'Soccer-Alozsan takes Hungarian title in Italy',\n 'Microsoft threatens to dethrone Microsoft as most valuable company',\n 'Soccer-Banks announces approval from Securities Commission for transfer to Main Market of',\n \"Soccer-Real Madrid coach Ancelotti says 'Magical nights'\",\n 'Soccer-Cuba’s stained glass window sparkle in a stained glass window',\n 'Soccer-Health Minister urges MMC to resolve parallel pathway issue',\n 'UoC offers innovative programmes to transform creative industries',\n 'Soccer-WoW returns to China',\n 'Soccer Wai Ching retains Polish Bieg Na Szczyt Rondo 1 - 200 points',\n 'Soccer-Copter tragedy: Victims to get aid, says govt',\n \"Soccer-Modi cast ballot in India's ongoing general election\",\n 'Soccer-Man left in lurch after losing RM13,460 in online job scam',\n 'Malaysia secures US$4 billion in investment deals from German firms',\n 'Parents face land issues',\n 'Soccer-Police arrest three men suspected of acting as mule account holder for fraud',\n \"Soccer-Reus' Dortmund coming to end\",\n 'Shuttler Ong Xin Yee fires up to win medal in Asian Juniors',\n 'Prices of RON97 and RON95 petrol remain unchanged',\n 'A candidate Pang Sock Tao advises Pakatan Harapan’s candidate Pang Sock Tao',\n 'Soccer-A 67-year-old man disown son due to gambling addiction',\n 'Chinese and Tamil schools are not stumbling blocks to national unity, says Dr We',\n 'Soccer-MACC investigates Najib about US$700mil transfer from sovereign wealth fund',\n \"Soccer-Dominguez says Rugby's future\",\n 'Soccer-Romania fight for every metre on the pitch',\n 'Soccer-Agriore announces approval from Bursa Malaysia to list on ACE Market',\n 'Soccer-Myanmar troops shelter on boats on Myanmar river',\n 'Soccer-Malaysians send condolences to families of helicopter crash',\n 'Soccer-Parents and families take a positive approach',\n 'Thailand rises above 30 degrees at night',\n 'Where a restaurant is a place where something happens',\n 'Disney+ Hotstar hikes subscription fee for quarterly Premium plan',\n 'Soccer-Selangor folk can expect assessment rate increase',\n 'CSR initiative aims to boost communities',\n 'Pavilion-REIT work to optimise efficiency by managing property operating costs',\n 'SMC retains top spot for paediatrics in Asia Pacific',\n 'South Korean cosmetics become a must-have for many consumers',\n 'Soccer-Italian Prime Minister Meloni suffered first significant electoral setback',\n 'Soccer-Zelenskiy issues decree for conscripts serving in two-year-old war',\n 'Soccer-General says Toyota camry to replace all state exco members',\n 'Soccer-Klopp plans to return to manager',\n 'Soccer-Venezuela will not grant safe passage to leave Venezuela to six opposition aides',\n \"Soccer-South Korea's Perplexity partnering with Google and Naver\",\n 'Soccer-Parton says a new album to be on country music album',\n 'South Korea readying plans for chip investments',\n 'Soccer-Crows disturbed by loud cawing from flock of crows',\n 'Microsoft publisher Axel Springer migrates cloud-based applications to Microsoft',\n 'Malaysia\\'s junta slammed UN\\'s \"one-sided allegations\"',\n 'Japan stocks lower as investors awaited slew of economic data',\n \"Soccer-Mexico's Sheinbaum closed campaigns on Wednesday\",\n 'Soccer-Thai Prime Minister says BOT rules to exert more control over central bank',\n 'Soccer-More than one person dies due to wildfires',\n 'China’s Xiaohongshu app becomes a boon for buyers',\n 'Soccer-Eight suspects arrested to assist in rape case involving underage girl',\n 'Soccer-Anxiety makes a journey towards developing effective communication skills',\n 'Soccer-India to promote TVET',\n 'Bank Islam forecasts improved earnings growth',\n 'Soccer-Jayden Tan Khai Xin beats Qatar record in 400m individual medley',\n 'Soccer-Higher Education institutions should foster spirit of unity by setting up Rukun Negara',\n 'Soccer-GameStop cut unspecified number of jobs to reduce costs',\n 'When husband killed husband, says VETERINARIAN',\n 'Penang hosts 45th International Advertising Association World Congress',\n 'Soccer traders expect larger crowds from Singapore',\n 'TNB plans to install new feeder pillar in Lebuh McNair',\n 'Soccer-Belarusian leader Lukashenko says Belarus threats internally and externally',\n 'Danish fires connected to Danish facilities',\n 'Soccer-Star-studded Tenaga Nasional settling in fine in MHL title chase',\n 'Apple plans to settle lawsuit against tech startup Rivos',\n 'Hong Kong plans for blanket ban on e-cigarettes',\n 'Soccer-Liverpool fans must avoid sensationalising young players',\n 'Malaysia remains a preferred destination for foreign direct investment',\n 'Sony to partner with Seagate Technology on mass production of hard disk drives',\n 'Motor advisors opened new branch in Kuching',\n 'Cambodian tourism sector representative says Cambodia’s investment in 2024',\n 'Soccer-Going to Submit button',\n \"Soccer-Macron calls for alliance between Macron and Marine Le Pen's far\",\n 'Soccer-Tencent launches upgraded version of Chinese language model with text-to-image generation',\n 'Malaysia imposes martial law in Momeik and Mabein townships',\n 'Soccer prodigy U. Thanusaa takes early step in following career path',\n 'IPO-backed digital marketing company Ibotta raise $577.3 million at valuation of',\n 'Soccer-Tottenham suffered setback in their pursuit of top-four place in Premier League',\n 'Soccer-Alcraz says French Open triumph could be proudest moment of',\n \"Soccer-Myanmar junta takes Myanmar's resistance fighters to avoid \",\n 'Soccer-Filipino first lady Imelda Marcos in better condition in hospital',\n 'Malaysia’s FDI growth rises by more than a fifth in March',\n 'Soccer-Procution listed seven reasons in appeal petition',\n 'Soccer-BOJ ending eight years of negative interest rates',\n 'Soccer-Chelsea defender Silva misses Premier League visit to second-placed Man City',\n 'MCMC fined for selling unapproved communication equipment',\n \"Ministry aims to improve artistes' protection scheme\",\n \"Soccer-Wallace offers a 'fast' assignment for kids\",\n 'Asean chairmanship is crucial to Malaysia’s success',\n 'Ministry urges relevant sectors to speed up transport and logistics systems',\n 'Soccer-Women sceptical about undergoing breast cancer screening',\n 'Soccer-Newcastle United defender Botman out of action for six to nine months after sustaining ',\n 'Soccer- Fitri says lack of maturity among newbies',\n 'Borneo universities urged higher education institutions to evolve into true hubs of knowledge',\n 'Soccer-Serbia captain announces final 26-man squad for European Championship',\n 'Soccer-De Paul scores 1-0 home victory against Celta Vigo',\n 'Emic Hospitality awarded Gold Gold Gold in sustainable tourism standards',\n 'Singapore Airlines flight hit severe turbulence',\n \"US nuclear watchdog voted to demand Russia withdraw from Ukraine's Zaporizhzhi\",\n 'Soccer-Going to Submit button',\n 'Soccer-Faisal Halim emotional in first public appearance after acid attack',\n 'Soccer-Fortune says South-East Asia 500 rankings among South-East Asia 500',\n 'Soccer-Laku Baru to Bentong',\n 'Meta’s Meta group shares daily active users increase slowly',\n 'Soccer-rate hike in Vietnam weakened',\n 'CIMB Niaga maintains financial year 2024 with drop in net interest income',\n 'Soccer Commission seeking information and assistance from public to locate Wong Shee Kai',\n 'Soccer-based Viking shares raise US$1.54bil for luxury cruise operator',\n 'Soccer-PNG rules out finding survivors under rubble',\n 'Soccer-Three underage boys arrested for allegedly kidnapping, beating up and',\n 'Bursa Malaysia climbs to 20-month high',\n 'Agriculture and Food Security Ministry says',\n 'Residents upset due to a persistent issue with lift system',\n 'Soccer-Young boy drowned at Skudai River',\n 'Malaysians treated in Bangkok, says Wisma Putra',\n 'Balenciaga looks like a luxury fashion bracelet',\n 'Hong Kong public hospital reports reports from staff members',\n 'Polish-East Asian Li Jane scores major win after winning US Open title',\n 'Making Cognac of the highest quality',\n 'Soccer-Boon Heong says he was once a victim to scammers',\n 'SpaceX plans to provide communications services to Vietnam with Starlink satellites',\n 'Soccer-Georgia faces more protests as lawmakers resume debate on foreign agents',\n 'Soccer-Schffler says golf is just something he does but will not define him',\n 'Soccer-Silver Simms struck first-half hat-trick as Maidstone beats',\n 'Malaysian Trades Union Congress reduces former self',\n 'Soccer-Texas judge blocked Texas law giving officials broad powers to arrest, prose',\n 'Soccer-Fiorentina manager Italiano replaces Motta',\n 'Vietnam youths should play pioneering role in spurring digital transformation',\n 'Delicious scones in a miniature drawer',\n 'Soccer-Fifty Petroleum hosts a tradition that should be preserved during major festival',\n 'Buffet of durians to mark first durian season',\n 'Soccer-Theivanai visits during fasting month',\n 'Apple unveils new iPad Pro and larger iPad Air',\n 'Soccer-Phang campus will not be ceasing operations, says Zambry',\n 'Soccer-TVET offers opportunities for disabled students',\n 'Bursa Malaysia continued to its sixth week with RM336.mil net sales',\n 'Soccer-Unilever plans to spin off ice cream unit',\n 'Soccer-Zid reveals a journey to life',\n 'Soccer-Domestic helpers must register',\n 'Soccer-Tracing aims to expand gaming business',\n 'Malaysia’s latest tax reforms set to benefit innovative startups',\n 'Indonesia to permanently relocate entire population of Ruang island',\n 'Actor Duress starred in Good Time',\n 'Soccer-WhatsApp video shows four men on motorcycles',\n 'Apple aims to develop nuclear battery for 50 years',\n 'Soccer-Selangor Mental Health Association reaches out to representatives to inform their Selangor',\n 'Soccer-Jrapob says he could return to Thailand',\n \"Soccer-Britain's Assange begins what could be his last chance to stop extradition\",\n 'Soccer-Arsenal players will try to change his mind',\n 'Soccer-Johor’s best budget and business hotel award',\n 'Germany may need to spend more than 2% of GDP on defence',\n 'Asean Prime Minister denied claims to recruit teachers from Singapore to teach English',\n 'Unity Minister says schools are here to stay',\n 'CGSI says Cambodian authorities over concession for new airport in Phnom Penh',\n \"Soccer-Spaniel rescues a 'Spaniel'\",\n 'A semiconductor plant surrounds Malaysia',\n 'Soccer-Lawson dies at 95',\n 'Soccer-Man Marape blamed ‘extraordinary rainfall’',\n 'FY25 targeting to achieve 5% higher fresh fruit bunch production',\n 'Star Media Group and RHB celebrate their win in Wan-Ifra Digital Media Awards Asia',\n 'Soccer-Bjelica named Croatian manager Nenad Bjelica as interim coach',\n \"Soccer-Japan's traditional snack bar tour\",\n 'Vietnam aims to bring net greenhouse gas emissions to zero',\n 'Soccer bank Julius Baer suffered outage on Feb. 16',\n \"Soccer-Everton's latest points deduction ramps up fears\",\n 'Soccer-A 12-year-old boy found drowned',\n 'Soccer-American actor-comedian Ronny Chieng makes his first stop in Asia',\n 'Soccer-Selangor Health Department investigates death of 11-month-old baby at Hospital Tanjong Karang',\n 'Apple to hold worldwide Developers Conference from June 10 to June 14',\n 'Soccer-Greece islands reach steep rise in migrant boats',\n 'Soccer-Gas prices go down for next three months',\n 'Volunteers given hands-on training in handling and navigating boats safely',\n 'Abang Johari aims to boost sustainability by branding Sarawak',\n 'Japan markets tracking inflation amid inflation cuts',\n \"Soccer-Haiti's embattled Prime Minister Henry announces resignation\",\n 'Soccer-Sanjay Jeeva’s patience in Bermuda Open',\n \"Soccer-England's Chadwick says 'females race for free' access\",\n 'Soccer-based Facebook could have increased chances of voting for Trump',\n 'Another temple in Kuala Lumpur',\n 'Soccer experts predict Cabinet reshuffle',\n 'Soccer-Batambang provincial Department of Environment hunt for luxury timber',\n \"China blasts critics of Hong Kong's new national security law\",\n 'Meta Platforms expects to receive initial shipments of Nvidia chip',\n 'Soccer-Farm Price aims to raise RM24.5 million from IPO',\n 'Singapore’s Nodx performs better than expected in May',\n 'Google DeepMind unveils AI model for small platform video games',\n 'Soccer-Ministry denied payment of fees to Pemandu for strategic planning affairs',\n 'Soccer-Kelantan illegal bases expected to rise in Kelantan',\n 'Soccer-Filipino teachers reveal heatwaves',\n 'Soccer Minister Fahmi grants royal invitation to the Coronation of His Majesty Sultan',\n 'Laos launches Lao National Handicraft Branding',\n 'Soccer-Sabah Finance Minister says gold mining in Tawau legal, says Sabah Finance',\n 'Soccer-Sheinbaum defends judicial overhaul',\n 'Apple teams investigating robotics work',\n 'Soccer-Cantlay carded late birdie blitz to grab U.S Open clubhouse',\n 'Microsoft issues injunction against R2 Semiconductor, says court',\n 'Microsoft beat Wall Street estimates for second-quarter revenue',\n 'Soccer-Belarusian president Lukashenko says several detainees were detained',\n 'Arctic foxes become a threatened species',\n 'Vietnam’s conversion to eco-industrial zones contributes to savings of 70',\n 'Laos to hold cultural festival to attract thousands of visitors',\n 'Japan travel Festa 2024 held at K-Town',\n 'Soccer-Kash Varadan manages to come out of a challenging day on Malaysian',\n 'Soccer-Badrul Hisham charged at Sessions Court',\n 'Soccer-Faisal Halim suffered acid attack',\n 'Soccer-Hotic says Bosnian Serb forces swamped United Nations safe',\n 'Soccer-Sabahan took to pedalling ethnic attire',\n 'LCS project set to be on track for sea trials',\n 'Soccer-Aedes breeding ground shut down',\n 'Soccer-Awww Baby singer shares daughter Chanelle',\n 'FBM KLCI surges to three-year high',\n 'Soccer-Belgium-Al-Qadsiah joins Al-Qadsiah as free agent',\n 'Soccer-Aifa Azman injury hurt world No. 37 Aifa Azman',\n 'China maintains dominant grip on solar module imports',\n 'Soccer-hot Collins stretches winning streak to 12 matches',\n 'Microsoft chief executive officer met president of Indonesia',\n 'Soccer-Malaka police arrested 36-year-old unemployed man on suspicion of',\n 'Soccer-Reeves confirms to voice character of Sonic',\n 'Soccer Engineers secure RM9.52mil contract from Pengurusan Aset Air',\n 'Thai woman turned heads after sex in Bangkok',\n 'China push forward with US$1.7 billion canal linking capital Phnom Penh to sea',\n \"Malaysia's exports volume index recorded 11.3 per cent increase\",\n 'Soccer-Djokovic says he could retire after French Open',\n 'Soccer-Kimlun secures new contracts',\n 'Soccer-Pal Alto group arrested after breaking into woman’s house',\n 'Soccer-based food markets could be a significant addiction',\n 'Star Media Group says fake Facebook ads misusing The Star’s brand identity',\n 'Malaysia needs to move up the value chain',\n 'Motor sales rebounded from lull',\n 'Soccer-Jachim Chuah’s bid for hattrick in 6k ACE Challenger tour',\n 'Soccer-Russia-born Rybakina sent out warning to fellow title contenders',\n 'Soccer-Fan Bingbing set to visit Melaka next month',\n 'Tennis-Sinner celebrates withdrawal after withdrawal',\n 'Soccer-Bundesliga leaders Leverkusen overwhelmed Dusseldorf 4-0',\n 'Putin takes part in Russian history quiz',\n \"India's Modi says more jobs and better education is priorities\",\n 'Indonesia dominated Putrajaya Lake as Abhinaya Purawan and Virgin Silvia Natan finish',\n 'Soccer-Marcos says he is horrified by gentleman’s agreement',\n 'Soccer-SC charged Wong Jit Kiang in Kuala Lumpur Sessions Court with a',\n \"Putin's suggestion of freeze war rejected by United States\",\n 'US balloons carry payloads',\n 'Russia says Borrell to take 90% of revenues from Russian assets in Europe',\n 'Soccer-Parents and Teachers Association credits close cooperation between students and students',\n 'Soccer-Marcos says Marcos could release P60 billion in health emergency allowances',\n \"Soccer-England forward Courtney Lawes voted Rugby Union Writers' Club\",\n \"Soccer-Carrington named in New Zealand's most decorated Olympian\",\n \"Google complains to EU tech regulators about Google's sudden drop in Google search results\",\n 'Ayra celebrates 1,000th wish milestone by fulfilling request of Ayra Medina',\n 'Motor oil company PETRONAS comes in for praise from Datuk Seri Hajiji Noor',\n 'Soccer-Family of Zayn Rayyan released on bail',\n 'Microsoft expects to take additional steps to resolve EU antitrust investigation',\n 'China aims to extend visa-free travel to China',\n 'Soccer-Azim hopes to get ‘hands-on’ fitness test in Malaysian team’',\n 'Soccer-Selangor micro entrepreneur fund rebranded as DUMS',\n 'Korean food could help people stay in shape as they get older',\n 'Delicious croissants are the new alternative',\n 'Singapore Airlines flight SQ321 could cause injuries to crew',\n 'China’s Baidu apologises after criticism says lack of empathy',\n 'Soccer-SIDREC receives 265 claims and enquiries in 2023',\n 'Soccer-Smith takes up pottery classes to unwind as she trains in Texas for',\n 'Soccer-Jom Shopping Back to School 2024 offers 60 B40 families in a programme',\n 'Malaysian High Commission introduce online booking system for consular services',\n 'Soccer-Brunei allocates BND1.3 million to provide crucial aid to Palestine',\n \"Soccer-Thailand's court accepts case seeking dissolution of Move Forward\",\n 'Thai viewers surprised when they heard Korean heartthrob Go Kyung',\n 'Airdrop on iPhones and Quick share are useful features for wirelessly exchanging photos',\n 'Soccer-Eight people wounded in knife attack',\n 'US boycotts United Nations tribute to Iranian President Ebrahim Raisi',\n 'Soccer-based wellness showcase at Gems Residences',\n 'Soccer-Actor dismissed on suspicion of installing camera in theatre dressing room',\n 'Soccer-Forms against heritage zone change',\n \"Soccer-Austrian court deferred ruling on Fritzl's conditional release\",\n 'Soccer-Man accused of planting hidden camera in neighbour’s apartment',\n 'Soccer-Villa ready to face their biggest challenge of the season',\n 'Soccer-TikTok says',\n 'Applied Materials forecast third-quarter results largely above Wall Street estimates',\n 'Apple iPhone removes the SIM card from my old phone',\n 'Soccer-Australian woman charged with full yoga routine',\n 'TM forged partnership to deliver first Islamic banking service',\n 'China-held reef abandons plans to sail closer to China-held reef',\n 'Soccer-South Africa offers a way to negotiate tricky pitches',\n 'Soccer-based statistics reveal early-onset cancer',\n 'Soccer-Pakistan appoints former South Africa batsman Gillespie as head coach',\n 'Soccer-Sched says Rugby-Smith looks to put together a team that can',\n 'MMEA deploys Bombardier CL-415 aircraft to support Fire and Rescue Department',\n 'IGB optimistic about results for FY24',\n 'Soccer-Premier League clubs agree to prioritise efforts around new financial system',\n 'Brussels shop opened in Brussels selling Amazon parcels by the kilo',\n 'IJM Corp expected to sustain earnings over near term',\n 'Penang unveils several initiatives to strengthen global economic leader',\n 'Soccer-friendly foods are a necessary part of healthy child’s diet',\n 'Soccer-Parliament House says MPs taking first step',\n 'Soccer-Nvidia CEO Huang says it can take advantage of economic potential',\n 'Soccer-Verstappen bids to win back-to-back Australian Grands Prix',\n \"China says 'Don’t be fooled by low price’\",\n 'Soccer-British inflation slows in February by slightly more than economists',\n 'Jalan Sentul Pasar completed as scheduled',\n 'Soccer-Mexico’s peso remains a ‘supercharged’ US dollar',\n ...]"
          },
          "metadata": {}
        }
      ],
      "execution_count": null
    },
    {
      "cell_type": "code",
      "source": [
        "len(preds)"
      ],
      "metadata": {
        "trusted": true,
        "execution": {
          "iopub.status.busy": "2025-06-24T22:07:30.898888Z",
          "iopub.execute_input": "2025-06-24T22:07:30.899556Z",
          "iopub.status.idle": "2025-06-24T22:07:30.903804Z",
          "shell.execute_reply.started": "2025-06-24T22:07:30.899532Z",
          "shell.execute_reply": "2025-06-24T22:07:30.903245Z"
        },
        "id": "dXlTyVAKHT5J",
        "outputId": "f272a068-043e-4d74-b97a-9e5d60db3c44"
      },
      "outputs": [
        {
          "execution_count": 60,
          "output_type": "execute_result",
          "data": {
            "text/plain": "2168"
          },
          "metadata": {}
        }
      ],
      "execution_count": null
    },
    {
      "cell_type": "code",
      "source": [
        "y_test = ds['test']['title']\n",
        "y_test"
      ],
      "metadata": {
        "trusted": true,
        "execution": {
          "iopub.status.busy": "2025-06-24T22:07:46.268433Z",
          "iopub.execute_input": "2025-06-24T22:07:46.268725Z",
          "iopub.status.idle": "2025-06-24T22:07:46.294133Z",
          "shell.execute_reply.started": "2025-06-24T22:07:46.268705Z",
          "shell.execute_reply": "2025-06-24T22:07:46.293598Z"
        },
        "id": "LK54KfkWHT5J",
        "outputId": "a9c5143d-aea3-4684-f5fd-da9e1fe49b0c"
      },
      "outputs": [
        {
          "execution_count": 62,
          "output_type": "execute_result",
          "data": {
            "text/plain": "['‘Avoid eateries that hike prices excessively’',\n 'Let the show begin',\n 'New school session begins for over 217,000 in Penang',\n 'Tennis-Headaches aplenty for Djokovic before French Open title defence',\n 'Westports poised to benefit from trade recovery',\n 'Sg Bakap polls: Unity government names Dr Joohari Ariffin as candidate',\n 'Lawyers select 12 jurors to serve in Trump hush-money case',\n \"Chinese actress Jia Ling, who lost 50kg for 'Yolo', is Prada brand ambassador\",\n 'Soccer-Belgium keep faith with Meunier for European Championship',\n 'Divestment in gateway@KLIA2 to put WCT on stronger footing',\n 'Malaysia Airlines cancels Sabah, Sarawak flights due to Mt Ruang eruption',\n \"Descendants of enslaved, enslavers 'break silence' around France's past\",\n 'Exports rise but soft demand weighs on growth',\n 'Traditional Aussie cake with French twist',\n 'Proton eyes monthly sales of up to 2,500 units of 2024 Proton X50',\n 'South Korean AI chip developers Rebellions and Sapeon to merge',\n '‘We need a more open censor board’',\n 'Asian Development Bank launches new country partnership for Cambodia',\n \"Malaysia's own 'Stan Lee' showcases a lifetime of cartoons and illustrations\",\n \"Startups hope for support in Singapore's Budget 2024 for digitalisation\",\n \"UK's Rwanda asylum scheme hits fresh parliamentary hurdle\",\n 'Toyota tightens oversight over scandal-hit small car unit Daihatsu',\n 'Lindsay Lohan confirms ‘Freaky Friday’ sequel with Jamie Lee Curtis is happening',\n 'Apple beats AliveCor lawsuit over heart-rate apps for Apple Watch',\n \"Soccer-Nike to release Australia women's goalkeeper jersey after backlash\",\n 'Cheras hospital, NGO bring festive cheer to rehabilitation patients',\n 'How the EU transformed tech',\n '5.7km bypass on island now 42% complete',\n \"Huawei Technologies' first-quarter net profit surges 564% y/y\",\n 'Timelines, predictability will be new focus of IMF',\n 'Dialog investing in multi-skilling to boost competitiveness',\n 'China influencers help Thai trader sell 100mil baht of durians',\n 'Football: League of legends',\n 'Keningau couple jailed for causing hurt to their two children',\n 'Initiative to develop skilled workforce',\n 'Leong has the know-Hao to step into first singles role',\n \"Soccer-Green Day's Armstrong returns Everton love\",\n 'WHO Europe: Almost one child in six is cyberbullied',\n 'Sydney school, supermarket tainted with asbestos as crisis widens',\n 'No deadline extension for hiring of foreign workers',\n 'Uptick seen in consumer claims',\n 'Kajang cops hunt armed men for gold store robbery in shopping mall',\n 'Outreach programme to benefit 150 needy families in Klang',\n 'Bitcoin rises to record high',\n 'Would-be pilgrims left high and dry by tour operator',\n 'Donald Trump joins TikTok and rapidly wins three million followers',\n 'Would AI be useful for conflict decision-making?',\n 'Is the Coast clear?',\n 'Insurance firm’s new package provides on-the-spot charging for electric vehicles',\n \"Cricket-Skipper Du Plessis credits newfound aggression for Bengaluru's IPL revival\",\n 'Pakatan and Perikatan wooing outstation voters',\n 'Pupils forced to study outside their classrooms',\n 'WTA roundup: Coco Gauff downs another American in Stuttgart',\n 'PM arrives in Kyrgyz Republic',\n 'Exclusive-Software industry calls for more UK Government support',\n \"Trump pitches himself as 'crypto president' at San Francisco tech fundraiser\",\n 'Fahmi: WhatsApp chatbot feature being developed to combat fake news',\n 'South Korea plans to convene UN meeting on North Korea rights abuses',\n 'Restaurant in Bandar Cheras razed in fire',\n 'Australia inflation quickens to 5-month high, sounding rate alarm',\n 'Campaigning takes off in France for snap election in two weeks',\n 'Felicitations for new PM of Singapore',\n 'Gen Z music sensation Laufey makes jazz accessible to younger audience',\n 'Our top five reads in 2023',\n 'Neglected kids, runaway car and scalding hot oil at bazaar',\n 'Trading ideas: MAHB, YTL Power, MPHB, IHH, Kerjaya Prospek, E&O, Aurelius, Ageson, UUE',\n 'Tencent pushes wider adoption of AI-powered smart mobility system from a vehicle’s cockpit to the factory floor',\n 'Eduspec gets RM30mil 5G hardware job',\n 'Duo charged with bribing cop',\n 'Ukrainian forces near besieged Chasiv Yar say they badly need ammunition',\n 'Vietnam denounces illegal claims, activities in South China Sea',\n \"Russia's prosecutor general arrives in Cuba for bilateral talks\",\n 'Motor racing-Verstappen wants more focus on car, not Red Bull drama',\n 'Asean News Headlines at 10pm on Wednesday (May 22, 2024)',\n 'Students affected by flood can sit for exams later',\n 'Social media platform X withholds some political posts in India after election commission order',\n 'South Korea, China, Japan to hold first summit in four years on May 26-27',\n 'NationGate acquisitions set to spearhead growth',\n 'Oil prices edge up on Middle East risk',\n 'King has audience with RCI members',\n 'MRCS cadets learn valuable life skills at four-day camp',\n 'Preserving forests is priority in Vietnam province',\n '‘Purpose learning’ the way forward',\n 'Seven held in Teluk Intan murder probe',\n 'Butler Industries joins Onepoint in Atos rescue consortium',\n \"Pope says option of resigning is only 'a distant hypothesis'\",\n 'An alert Polish taxi driver averts a scam in which an elderly woman could have lost about RM167,000',\n 'Utility company brings hope to children, families for Ramadan',\n 'Mariska Hargitay halts production of ‘SVU’ when lost child mistakes her for police officer',\n \"Soccer-Man City's Guardiola named Premier League Manager of the Year\",\n 'Tourism forum ideal to promote state',\n 'UWC hit by softer demand, global trade tensions',\n 'Comac’s first airliner makes international debut',\n 'Cutting down on trans fats after WHO study',\n 'Google set to bring ads in search AI Overviews',\n \"USA Basketball names 12-member women's roster for Paris\",\n 'Creating play-based learning centres in townships',\n 'Stocks steady, dollar up; investors brace for CPI',\n \"Exclusive-India's Modi, chasing reform legacy, shifts income goals for struggling farmers\",\n 'Wall St advances with Nvidia and Fed meeting in focus',\n 'Berlin’s clinic for the dating scene’s ‘plague’',\n 'World Bank says Thai interest rates appropriate, neutral',\n 'Kerjaya Prospek records improved yearly showing',\n 'Enjoy a souk in the city',\n 'The dirtiest fossil fuel prepares for long goodbye',\n 'Kosovo prepares to house 300 inmates from Denmark, raising human rights concerns',\n 'CELEBRATING 50 YEARS OF ACCLAIM',\n 'Miracle turns into tragedy',\n 'FBM KLCI closes at highest in 2 years',\n 'Promoting spirit of compassion',\n 'New Caledonia independence party says Macron needs to do more to defuse tension',\n 'Group expands platform for entrepreneurs',\n 'News by youths for youths',\n 'Brunei announces changes to public service vacancies',\n 'Soccer-History favours Man City as title race goes to wire',\n 'EV manufacturer Chery to invest in Thailand',\n \"GameStop surges almost 50% as 'Roaring Kitty' teases livestream\",\n 'Kelantan approves new entertainment enactment bill draft with heavier fines',\n 'Soccer-Liverpool back on top as late goals seal win over Sheffield United',\n 'Olympics-Canadian Olympic Committee joins Centre for Sport and Human Rights',\n 'Marvel reveals new ‘Fantastic Four’ cast: Pedro Pascal is Mr Fantastic',\n '‘Just Lalamove it’',\n 'Dear Thelma: Should I choose a career path in the public or private sector?',\n 'Users will have control over generative AI in Windows',\n 'European data centres grapple with AI-driven demand for space',\n 'Ex-lover ‘curses’ woman after she refuses sex',\n 'Hong Kong police arrest 14-year-old boy for allegedly assaulting fellow pupil after video goes viral of victim being jump-kicked, thrown',\n 'Thai art graces state assembly building',\n 'Rumble sues Google over digital advertising practices',\n 'UnitedHealth to restore hacked medical claims and payment services mid-March',\n 'Malacca Securities sets Farm Price’s fair value at 85% premium ahead of IPO',\n \"Reason to quit smoking: It's getting too pricey\",\n 'Kate Middleton spotted in public for the first time in months amid photo controversy',\n 'Liek Hou trades racquet for chopsticks this CNY',\n 'Yala airport key to govt plan to boost tourism in Thailand’s South',\n 'LinkedIn disables tool for targeted ads to comply with EU tech rules',\n 'GX Bank now rolling out support for DuitNow QR payments',\n 'Amendments to law needed for Cardiothoracic Surgery programme, says Fahmi',\n 'Crypto trader’s criminal trial set to test ‘code is law’ claim',\n 'Tourism networking session promotes sultanate to Singapore market',\n 'Amazon to invest $1.3 billion in France, create 3,000 jobs',\n \"Tennis-Nadal's Barcelona return ended by De Minaur\",\n 'Richard Dreyfuss reportedly targets women, LGBTQ community at ‘Jaws’ event',\n 'Cargo manager begins two-year jail sentence for causing hurt to wife, son',\n 'Cricket-Kuldeep on rampage, England 194-8 in Dharamsala',\n 'Two schools with only one pupil in Year One',\n 'Brighter Raya for six families in Seremban, thanks to developer',\n 'S. Korean man who assaulted woman for having short hair gets 3 years in jail',\n 'Thousands mark Anzac Day in Australia and New Zealand',\n 'Suria Capital to jointly develop land in Sabah',\n 'Damok intends to stay in high gear for Zhuhai race',\n 'Tax exemption for traditional and complementary medicine services a relief for patients',\n 'China’s ousted foreign minister Qin Gang steps down as lawmaker',\n 'Soccer-Fuellkrug earns impressive Dortmund 1-0 first-leg win over PSG',\n 'The architects of ‘Hades’ strive to bewitch gamers again',\n \"SEC says Terraform Labs built a 'house of cards' as US civil fraud trial begins\",\n 'Robust sales expected for technology sector',\n 'Shuttler Peng Soon singing praises of Ed Sheeran after a rare playing session',\n 'Dear Chinese football fans, Hassan Sunny’s 11 saves should be seen in the right spirit',\n 'Fadhlina: Skills training not ‘second class’ option',\n 'Do you know ... about kerosang?',\n 'Time in full bloom: The watches celebrities were wearing on the Met Gala carpet',\n 'Hong Kong airport urged to review contingency plans after eight-hour runway closure',\n 'More funding needed for developers',\n 'Bank Islam manages to mitigate impact of static OPR in 2023',\n 'Sibu school new president, committee vow to support alma mater',\n 'The search for answers: How one journalist dives inward in the wake of tragedy',\n \"Three women's intriguing ties to Java's sugar tycoon, Oei Tiong Ham\",\n 'Authorities troll LockBit boss on his commandeered Darkweb site',\n 'Trump raises stake in his media firm to nearly 65%',\n 'National gymnast vaults to history as first Malaysian to win medal at Asian meet',\n 'Analysis-Forza Italia defies doom-mongers to outlive Berlusconi',\n '‘Not what good neighbours do’: Filipino lawmaker hits out at Singapore over Taylor Swift deal',\n 'Copter tragedy: Form an RCI to investigate crash, says Lam Thye',\n 'Lyft forecast gaffe jolts traders, could invite scrutiny',\n 'Most Asian currencies slide after hawkish Fed minutes; stocks rise',\n 'Swimming-Peaty will head to Paris with peace and no pressure',\n 'Tanco to list unit developing RM2bil AI port in PD',\n 'Factbox-Who is new Prosus and Naspers CEO Fabricio Bloisi?',\n 'Putin gets lavish welcome in North Korea with vows of support',\n 'Australia says Assyrian church stabbing was terrorist act',\n 'Securities Commission wins lawsuit against PKNP CEO in insider trading case',\n 'Ministry backs effort to get Indonesian seniors working again',\n 'Exclusive-Nigerian kidnappers demand $620,000 for release of school hostages, local authorities say',\n 'Developer’s charity arm transforms Kajang primary school with RM18,000',\n 'Vietnam ramps up tax supervision on livestreaming sales',\n 'Adelson heir steers Mavericks, plays the long game on casino',\n 'Cricket-Kohli shuts down strike rate critics with fiery IPL knock',\n 'Husband who cut wife’s body into 200+ pieces jailed for life in UK',\n 'Finland proposes new law to stem migration from Russia',\n 'Hong Kong homebuyers flock to new projects',\n 'Paramount hits RM1bil revenue in FY23; declares 4 sen dividend',\n 'Apple’s new iPad ad leaves its creative audience feeling … flat',\n 'Nintendo to announce next Switch by March as original sputters',\n 'Amazing French-influenced meals overlooking the cityscape',\n 'Motor racing-Sainz aims to speed up talks for 2025 F1 seat',\n \"Exclusive-Google steps up Microsoft criticism, warns of rival's monopoly in cloud\",\n 'Laos, Cambodia, Vietnam to strengthen cooperation',\n 'MAG offers flight fares from RM79 in support of Visit Malaysia Year 2026',\n \"Soccer - Emery's Villa to test Arsenal's title race nerves\",\n 'Two men arrested over suspected jewellery theft in Ampang',\n 'Biden approves $6.1 billion in student loan debt relief for Art Institute enrollees',\n 'One death every two hours',\n \"US opens probe into Alphabet's Waymo over 'unexpected behavior' of self-driving vehicles\",\n 'Low-cost education that’s top class',\n 'Sunview’s prospects brighten with entry into Uzbekistan',\n 'Soccer-Man Utd win FA Cup thriller against Coventry on penalties',\n \"Oil prices fall on demand fears over Fed's rates path\",\n 'South Korea regulator may sanction Meta over marketplace, say media reports',\n 'Thirteen sailors injured as Thai Navy warship accidentally blasts frigate',\n 'Five main talking points from All-England',\n 'Mussels in PD contaminated by biotoxins, unsafe for consumption, says Fisheries Dept',\n 'Soccer-Real Madrid held at home in six-goal thriller against Man City',\n 'Soccer-Fiorentina GM Barone dies after suffering cardiac arrest',\n \"Spain's Catalonia calls early election on eve of amnesty vote\",\n 'Undergrad grateful for foundation’s assistance',\n 'Residents show disapproval for housing project at Bohol pond site',\n 'Growing greens the healthier way',\n 'Ringgit firmer against US$ in early trade',\n 'Taylor Swift’s Eras Tour dancer Kameron Saunders charms Swifties with Singlish slang',\n 'Gadang to gain from data centre construction',\n 'Machu Picchu, home of the spirits: How to get there and what to do',\n 'Peru courts extend pretrial detention for former president Castillo',\n \"Brazil's government submits rules to streamline consumption taxes\",\n 'Athletics-London Marathon sets event record with more than 53,000 finishing',\n \"'Act ll: Cowboy Carter' review: Beyoncé's 'country' epic defies categorisation\",\n 'How to prepare for a hike to ensure safety, comfort, and maximum enjoyment',\n 'Festive weekend awaits Seremban residents, potential housebuyers',\n 'Microsoft’s Satya Nadella is the leader Fortune 500 CEOs admire most. This management philosophy helps explain why',\n \"SNS Network to provide Esri's GIS solutions in Malaysia\",\n 'School bus fees to go up',\n 'Leap-year bug: This Feb 29 brought its share of glitches',\n 'Econpile to benefit from upcoming infra projects',\n \"Russian court rejects Google's appeal against $50-million fine over Ukraine content\",\n 'Dessert chain blossoms with essence of sakura',\n 'Soccer-Moyes to leave West Ham at end of season',\n \"Malaysia's superageing seniors share lifelong practices and habits that work\",\n 'Telecom sector opposes US plan to reinstate net neutrality rules',\n 'A cop gave Fresno man a jaywalking ticket. Then came ‘cyber campaign of hate and revenge’',\n \"Soccer-Beatles' fan Bellingham delighted by fans' rendition of 'Hey Jude'\",\n \"Zainal Abidin, Sharizan Borhan and more to perform in 'All That Jazz' in PJ on April 21\",\n \"Leong Hup's prospects in FY24 remain intact\",\n 'Meta pauses AI models launch in Europe due to Irish request',\n 'Anthropic releases more powerful Claude 3 AI as tech race continues',\n 'Students pursuing TVET advised to check rating of educational institution before registering',\n \"Britain's Royal Mint launches coin for 80th anniversary of D-Day landings\",\n 'Ukraine says extending use of Western arms will weaken Russia near border',\n 'Hot cars need a cooling fix',\n 'While most consumers order cookies for Hari Raya, some still bake their own',\n 'ROUND FOUR TEE-OFF TIMES',\n 'Rugby-Care, fittingly, set for 100th cap off the bench',\n 'Singaporean, 88, in wheelchair charged with wife’s murder in Bukit Panjang flat',\n 'Foreign Ministry closely monitoring situation in Taiwan after 7.2 magnitude quake',\n 'Car driver charged; allegedly caused bus to jam brake, injuring passenger who died of heart disease',\n 'Autistic boy drowned in Skudai believed to have fallen in river accidentally, say cops',\n \"Megawati's PDI-P ready to take up opposition role in Indonesia parliament\",\n 'Malaysian actor Jack Tan goes jogging with Chow Yun Fat in Hong Kong',\n 'Japan PM Kishida plans South Korea visit on March 20, Fuji TV reports',\n 'Hero stone for forgotten victims of Kanchanaburi Death Railway to be unveiled on May 1',\n 'Gold prices surge to new all-time highs',\n 'Former first lady hospitalised with pneumonia',\n 'Syrians turning to drugs to escape the misery of an ongoing civil war',\n \"Sam Altman's Worldcoin files lawsuit after Spanish ban\",\n 'Russian forces kill Islamic State-linked hostage takers at detention centre',\n 'Paralympics-More than 160 countries to broadcast Paris 2024',\n 'Soccer-Inter not focused on clinching title in Milan derby, Inzaghi says',\n 'Anwar wants MAIWP to coordinate zakat aid with other agencies',\n 'King grants audience to KK Mart founder, does not want socks issue prolonged',\n 'About 5% of primary school pupils still unable to master 3M skills, says Fadhlina',\n 'Fire razes three speedboats docked at Sarawak jetty',\n 'Malakoff acquires two RE companies for RM27mil',\n 'MRR2 repairs ongoing',\n 'TSMC halts work at construction sites in Taiwan after earthquake',\n 'EU restricts visa provisions for Ethiopian nationals',\n 'Century-old Melaka temple opens its doors to all for five-day feast',\n 'Scammers stole homeowners’ identities and sold their houses ‘out from under them’, US feds say',\n 'Marcos to Cabinet: Propose solutions to traffic crisis, cite work adjustments',\n 'Tennis-Rune battles past Fritz to set up Medvedev showdown at Indian Wells',\n 'Subsidised goods for Raya',\n 'Council out to eradicate rats at main market in Rawang',\n 'Belated Raya celebration for man freed of drug charges',\n 'Olympics-France 2030, Salt Lake City 2034 take penultimate step towards hosting Games',\n 'US cryptocurrency ETF inflows pick up as bitcoin price recovers',\n 'Wall St set to open lower as Meta Platforms, economic data weigh',\n '“First They Killed My Father” author honoured with global peace award',\n 'Apple, Meta set to face EU charges under landmark tech rules, sources say',\n 'Harnessing latest tech crucial for SMEs',\n 'Seven nabbed for fighting over Ramadan bazaar lot in PJ',\n 'Malaysia hoping to get the better of Indonesia at Asian indoor meet',\n 'Venus Williams among sporting figures to get own Barbie doll',\n 'Nintendo to make announcement on Switch successor by March-end',\n 'Hong Kong actress Charmaine Sheh wows netizens with her singing',\n 'Molotov cocktail thrown at KK Super Mart sparks probe',\n 'Russia says it has plenty of scope to retaliate over plan to seize income from its assets',\n 'Director James Gunn unveils first look at David Corenswet as Superman',\n 'Open burning cases in Selangor is alarming, says Fire and Rescue',\n \"India's Modi questions rival Congress about island ceded to Sri Lanka\",\n 'Russia says Ukraine struck nuclear plant, Kyiv denies it was behind the attack',\n 'Sultan bestows Raya Kurnia to over 18,000',\n 'Sony restructures leadership of key games business',\n 'Son of famous Spanish actor goes on trial over Thai island murder',\n 'Shareholding spread on Apollo’s agenda',\n \"Facelift tops agenda for Ipoh's First Garden\",\n 'Cultivating STEM curiosity at edu fair',\n 'Xi urges all-out response to floods, drought in China',\n 'Modi-led alliance says it will form next Indian government',\n '4,000 throng PJ temple for Wesak Day celebration',\n 'Singapore and China can boost cooperation to ensure financial stability: DPM Heng',\n 'Capital A International to be listed in US',\n 'MCMC and UNODC lead fight against cybercrime in Southeast Asia',\n 'Golden leap for Seremban lad',\n 'Actress Barbie Hsu’s ex-husband Wang Xiaofei weds for the second time',\n 'Athletics-Dutch runner Bol races to another world indoor 400 record',\n 'Solo cyclist takes off for hot weather training to face icy Russian expedition',\n 'Settle LRT collision suit out of court, Dr Wee urges govt',\n 'CIMB Securities appoints new board of directors',\n '150 pupils benefit from bank’s zakat distribution',\n 'Building our own AI talents',\n 'More than just waving pom-poms – cheerleaders out to make waves in World C’ships',\n 'Google sets up first Asia-Pacific cybersecurity base in Tokyo, Nikkei reports',\n \"14 motorists to be charged with drink-driving offences: S'pore police\",\n \"Apple's India iPhone output hits $14 billion, Bloomberg News reports\",\n 'Making old ways new: Why rainwater harvesting should be a norm in households',\n 'Olympics-Anti-drone units a new tool to keep Paris 2024 safe',\n 'Jakim issues stern warning',\n 'Get ready for the largest outdoor event in Malaysia, The Great Outdoor Expo 2024',\n 'PM visits Rafizi in hospital',\n 'Soccer-Where am I? England fan seen waking up in empty stadium',\n 'Facebook owner Meta angers Australia with plan to stop paying for news content',\n 'Fake news reports and videos seek to undermine the Paris Olympics',\n 'India votes in gigantic election as Modi seeks historic third term',\n \"Sivasangari nominated for PSA Women's Player of the Year award\",\n 'Royal family graces CNY dinner',\n 'New retail partners join developer in Sungai Buloh',\n 'Singaporean cabbie fined over road rage incident',\n 'Wall St ends sharply lower as hot inflation sparks sell-off',\n \"StarSilver: What's the path to lasting joy?\",\n 'Batu Feringghi water treatment plant hit by technical glitch, causes water disruption',\n 'Can K-pop break free from ‘fandom’ model?',\n \"India's Paytm shares jump after reports CEO met RBI, finance minister\",\n \"Soccer-Germany's teenager Pavlovic to miss matches against France, Netherlands\",\n 'ACE up their sleeves – Thanusaa and Sehveetrraa headed for absorbing clash',\n 'Positive outlook for ringgit this year',\n \"'Downton Abbey' to return with a third movie\",\n 'Bursa Malaysia closes lower on profit-taking',\n 'Pasar Karat traders adamant on staying put',\n 'Thailand criticised for captive breeding of elephants for tourism',\n \"Germany says Russian intercept was 'operational mistake' of one officer\",\n \"Malaysian author's book shortlisted for 2024 Walter Scott Prize\",\n 'Two-time major winner So Yeon Ryu, 33, retiring',\n \"Soccer-Anderson signs pre-contract to join Brazil's Palmeiras from Lazio\",\n 'Axiata’s earnings to be supported by monetisation',\n 'Indonesia students protest alleged poll interference by Jokowi administration',\n 'Soccer-Barca face biggest game of the season against Napoli, says Xavi',\n 'In South China Sea dispute, Philippines’ bolder hand tests Beijing',\n 'Warehouse stuffed with 11,220 sex toys busted',\n 'Green onion outcry: Humble vegetable roils South Korean vote',\n 'Vote on EU cybersecurity label delayed to May, sources say',\n 'Optimistic outlook for property stocks',\n 'University stays ahead in graduate employability',\n 'Do you know...about sape?',\n 'Citizenship laws on pause',\n 'Apple and Shutterstock sign deal on AI image training',\n \"Apple supplier Foxconn's Q4 profit jumps 33% year-on-year, beats forecasts\",\n 'Captain of boat involved in death of student pays US$2,500 for funeral expenses',\n \"Police parade 'robo-dog' helper in Spain's Malaga\",\n 'Water-splashing festivals boost tourism in China, South-East Asia',\n 'Student’s tale of romance sparks police probe',\n 'Hamzah’s ex-aide charged with receiving RM350,000 bribe',\n 'North Korea has sent 6,700 containers of munitions to Russia, South Korea says',\n \"South Korea to send military doctors to hospitals amid doctors' protest\",\n 'Youths forced to tighten belts to make ends meet',\n 'Vietnam to host Putin in nod to old ties, risking ire of West',\n \"Dominican Republic ups security as Haiti gang leader warns of 'civil war'\",\n 'Bowler aims to get it right during roll-off for free ride to Sonic tourney',\n 'Golf-Scheffler moves on from arrest and leaves Valhalla with head held high',\n 'Cyclist who clung to car bonnet in East Coast road rage case likely affected by brain tumour: Lawyer',\n 'Skilled but stuck',\n 'Automotive, medical segments to spur Pentamaster performance',\n '‘We want Fu Bao back,’ Seoulites petition for loan of beloved panda',\n \"This Malaysian was drawn to Brisbane's peaceful atmosphere\",\n 'Global child mortality rates dropped in 2022 but progress slow, UN says',\n 'Thailand remains neutral in Myanmar conflict, says foreign minister',\n 'Opinion: How safe are driverless cars in China? I rode in some to see.',\n 'Intesa targets new digital-only clients after antitrust blow',\n 'Crest Builder unit bags RM486mil job',\n 'Soccer-Southampton postpone Preston clash after fire in building next to stadium',\n 'Blind spot detection a winning shot',\n 'Penang teen a beacon among giants',\n 'In an online world, a new generation of protesters chooses anonymity',\n 'Solid outing in Lion City keeps Ashley roaring ahead of return to US',\n 'Study: Nearly 60% of Black-owned SMBs call TikTok a lifeline',\n 'Australian spends 36 hours in drain after dropping phone',\n 'Congestion on Federal Highway due to LRT3 bridge installation',\n 'Analysts: BRICS could increase FDIs, strengthen M’sia’s global voice',\n 'Asean News Headlines at 9pm on Tuesday (March 26, 2024)',\n 'Taiwan, China can resolve differences, ex-president says after meeting Xi',\n \"China's 'blind box' socialisation trend a hit as youngsters join strangers for activities\",\n 'KKB by-election: Civil servants salary hike has nothing to do with polls, says PM',\n 'TAR UMT underdogs triumph',\n 'Sharpshooter Syafiq out to show he’s worthy of a spot in national squad',\n 'Guidelines under National HR framework out on Labour Day',\n 'Two 12-year-olds steal teacher’s car, get caught when parents track iPad, US cops say',\n 'US to return 900-year-old ancient artefact to Thailand',\n 'The teacher who went the extra mile',\n 'Wall St ends mostly lower as chipmakers ease',\n 'Zii Jia suffers first round defeat to Magnus in Paris',\n 'Authorities studying ways to fix bottleneck at MRR2 Bandar Manjalara interchange',\n '‘My role existed in name only’',\n \"EU regulators assess Apple's plan for complying with music streaming order\",\n 'Why you should never connect to public WiFi networks',\n 'Navigating consumption trends',\n 'An infectious tune to put Mei Xing and Co on song for big challenge',\n \"Soccer-Scalvini out of Italy's Euro squad, Gatti called up as replacement\",\n \"EPF balancing between retirement mandate and supporting members' economic survival\",\n 'ICC orders record $56 million compensation for Uganda victims',\n 'Soccer-Relentless Ronaldo chasing more Euro glory with Portugal',\n \"Negri's 2023 SPM results best in 10 years\",\n 'Rubber tapper claims trial to charge of running unlicensed money-lending business in Kuala Pilah',\n 'New cookbook is an ode to baking with yeast and unique ‘indie’ creative impulses',\n 'Anne Hathaway recalls having to kiss 10 actors in \\'gross\\' chemistry tests: \"Now we know better\"',\n 'Thai police bust major online scam syndicate; two Malaysians among nine arrested',\n 'Easing overcrowding at our prisons',\n 'Nvidia CEO Jensen Huang says a gardener taught him one of the most ‘profound learnings’ of his life – it’s why he can be on top of every detail at the chip giant',\n 'BNP no longer doing bond deals for oil and gas',\n 'Outrage over loss of Bohol pond',\n 'Malaysian comedian Ronny Chieng had no interest in full-time ‘The Daily Show’ hosting gig',\n 'US media concerned over Thai doctor’s death from restaurant food',\n 'Why US housing inflation relief may be short-lived',\n \"NASA, Boeing push back Starliner's crewed return to June 18\",\n \"Ebit Lew's Elews Mart has been closing in stages since January\",\n 'In new disclosure, LinkedIn says premium subscriptions bring in $1.7 billion',\n 'Nostalgic reunion for SGGS’ class of ’64',\n 'TV companies flaunt ad tech and AI to persuade advertisers to spend',\n 'Indonesian govt greenlights revision of military and police laws amid objections',\n 'Bank pledges RM1.55mil to protect Malayan tiger',\n 'Going the extra mile to spread joy to needy folk in Perlis',\n 'Amendments to universities Act to be tabled in Dewan Negara next month',\n \"Soccer-Man Utd boss Ten Hag hails Fernandes, Varane's resilience\",\n 'Six months of free water, rebates',\n 'Malaysia sees hydrogen as key in National Energy Transition Roadmap, says Fadillah',\n 'Forget insects and cultivated cells – the meat of the future could be made from wood',\n 'Flash floods and heavy rains forecast for 26 provinces across Thailand',\n 'More than one million tourists travel in Cambodia during Chinese New Year',\n 'RM500,000 in the offing for councillors',\n 'Keningau man dies after losing control of car, plunging into river',\n 'Nvidia market cap threatens Alphabet',\n 'Recycling efforts gain ground in Seremban',\n 'Woman passenger booked for biting crew member in Lucknow, India',\n 'Get our retired teachers to teach English instead of paying Singaporeans, says Rafidah',\n 'Amendments to Rukun Tetangga Act being fine-tuned, says Saraswathy',\n 'DG: Customs working towards transparent tax collection',\n 'What happened to the likes? X is now hiding which posts you like from other users',\n 'China, US are taking baby steps to cooperate on AI. What’s at stake?',\n 'Britain increases drone funding for Ukraine by over $150 million',\n 'South Korea PM asks doctors not to quit over planned medical student increase',\n 'Ringgit ends higher, tracking the positive equity market',\n 'Debut novel unstitches Malaysian society',\n \"OpenAI's Sam Altman declared billionaire by Forbes\",\n 'Ecuador President Noboa ratifies military cooperation agreements with US',\n 'Paris 2024: official posters by illustrator Ugo Gattoni are revealed',\n 'Xi calls for more China-US exchanges',\n 'DSP and Sarjan nabbed after testing positive for drugs, but back on duty',\n 'Google, Amazon win EU court backing in Italian rule dispute',\n 'Goh-Shevon break duck against Korean pair for first win after marriage',\n 'Sex offender asks Norway’s Supreme Court to declare social media access is a human right',\n 'Nestcon bags two contracts worth RM165mil',\n 'Social media platform X blocked in Pakistan over national security, ministry says',\n \"Analysis-Can Mexico's Sheinbaum, a climate scientist, shake Lopez Obrador's oil legacy?\",\n 'TikTok challenges potential US ban in court',\n 'Victoria’s Secret beefs up marketing strategy',\n 'Dengue cases up, two deaths reported',\n 'How turtles reduce threat from jellyfish',\n 'Oil drops as Opec+ boosts supply, demand shaky',\n \"Malaysian influencer celebrates husband's birthday with RM300,000 'money cake'\",\n 'Sabah should prioritise road safety after recent fatal accidents, says Terence Au',\n \"Amazon's robotaxi unit Zoox to begin testing in Austin, Miami\",\n 'Automotive computer chip maker NXP rolls out new platform',\n 'Artistic strength of youths with autism',\n 'Vatican investigator urges bishops to report all suspected child abuse',\n 'Time to reform the healthcare system by electing the MMC president, says Dr Azizan',\n 'PM Anwar wants digital banks to boost e-payment transactions',\n 'Ferrari strikes multi-year partnership with HP for Formula One team sponsorship',\n 'Pearly-Thinaah unlikely to play in Uber Cup, will focus on Paris Olympics',\n 'How this pharmaceutical company tricked doctors',\n 'Hong Kong’s domestic security law one month later: No arrests, no big uproar, what’s going on?',\n 'Strategies for effective bank pricing',\n 'Sabah, S’wak wetland treasures could be Ramsar sites',\n 'That’s more like it for Ervin as he makes strong start at Vios Cup',\n 'Australia ramps up pre-election spending',\n 'Soccer-Militao on cloud nine for Champions League final after ACL recovery',\n 'Selangor Sultan visits Perlis Raja in Arau',\n 'Bangkok launches Dutch barge to collect garbage from Chao Phraya',\n 'MMEA arrests boat captain off Tawau for ferrying controlled goods illegally',\n 'IRS chief sees workforce topping 100,000 in three years',\n 'China cbank leaves key policy rate unchanged as expected',\n 'Soccer-Guler stunner helps Turkey to 3-1 win over Georgia in thriller',\n 'University Teknologi PETRONAS soars in QS World University Rankings by Subject 2024',\n 'IBM falls as enterprise-spending constraints choke consulting demand',\n 'Cricket-Australia coach says Smith the opener will face India',\n 'Fahmi: App provider Telegram ready to work together to fight digital piracy',\n 'Can you start a relationship long distance? Plus, breaking up with kindness',\n 'Wait and be patient over pension scheme proposal, says Dr Dzulkefly',\n 'K-pop girl group Twice aims for top of the Billboard chart',\n 'HK actor brings star power to massage chair launch',\n 'Texas Chicken Malaysia wins fifth Putra Brand Award',\n 'Johor Baru housewife loses RM400,000 in phone scam',\n 'Ex-UBS risk manager points a finger squarely at Archegos ‘lies’',\n 'Renowned art educator Prof Chung Chen Sun passes away at 89',\n 'More than 400 detained in Russia at events in memory of Navalny, rights group says',\n 'Oil prices slip on weaker US consumer demand, rise in China output',\n 'Yong urges GRS government to set up committee on return of Labuan to Sabah',\n 'Brunei police crack down on Tutong gambling ring',\n 'EU puts digital Earth in orbit for climate-change fight',\n 'Sg Bakap polls: EC sets July 6 for polling day, Nomination Day June 22',\n 'Soccer-Germany feel pressure but privileged to play home tournament says Kroos',\n \"North Korea's Kim 'drives' new tank during mock battle\",\n 'Forging a balanced digital frontier: Tapping women in the cybersecurity fight',\n 'Soccer - Talking points from European soccer',\n 'Container shortage is shipping’s Achilles heel',\n 'Perlis MB released on bail by MACC after eight hours of questioning',\n 'TAR UMT Sabah boosts higher education development in the state, Hajiji',\n 'Faisal out of ICU after acid attack, craves nasi kandar',\n 'JPMorgan says CEO transition is a top priority, cites potential Dimon successors',\n 'Ernie Bot helps Chinese tech giant Baidu double down on AI push',\n 'How pre-flight safety videos can save lives',\n 'Some AI companies face a new accusation: ‘Openwashing’',\n 'ASML reports Q1 earnings of $1.3 billion, worse-than-expected new bookings',\n 'Students required to declare health status before joining in school activities, says Negri Education Dept',\n 'Council trees slashed and poisoned in Tanjung Malim',\n 'Sleeping Amazon driver’s fatal crash into teacher was preventable, US lawsuit says',\n 'Largest golden dragon sculpture on display at KLIA',\n 'Risks remain, but there’s optimism',\n 'Airlines may know more about you than you think',\n 'Gmail revolutionised email 20 years ago. People thought it was Google’s April Fool’s Day joke',\n \"Microsoft to release next 'Call of Duty' game on subscription service, source says\",\n 'Biden policy is welcome relief for Americans with spouses in the country illegally',\n 'M’sia should invest more in R&D, says Dr Wee',\n 'Myanmar military begins basic training for draftees as resistance forces keep the pressure on',\n 'Grief and anger as Congo mourners blame Rwanda-backed rebels for attack',\n '‘Maintain trees regularly, don’t cut them down’',\n 'MSCI cuts swath of China stocks from indices',\n 'Thaksin’s mansion under close watch as questions arise over his whereabouts',\n 'Abundant yield goes to waste',\n '‘Safeguard selves against negative online content’',\n 'InstaDeep CEO takes AI from Tunis to London',\n 'Uproar as MP links Chinese new villages to communism',\n \"GitLab shares drop as 'less conservative' forecast disappoints investors\",\n \"US reporter Gershkovich's detention in Russia extended by three months\",\n 'Cricket-Carey shines as Australia find a way to win in Christchurch',\n 'Former Ohio coach admits obtaining nude photos of boys by posing as teen girl online',\n 'Google touts AI to vet troves of content in seconds; CEO predicts profit',\n 'Soccer-Oracle orangutan backs Germany for Euros win against Scotland',\n 'Bond traders capitulate to Fed’s outlook on cuts',\n 'Global sports spotlight on Putrajaya',\n 'Printed pants: the ‘elephant’ in the room',\n 'RM5mil to resolve flooding in Puchong',\n 'Spreading joy and cheer through campaign',\n 'Athletics-Semenya determined to fight on against DSD regulations',\n 'Johor cops arrested two drug distributors who use old cars as storage',\n 'FBM KLCI remains in bullish mode on US corporate results beat',\n 'Singapore: Jail for 64-year-old man who molested and stole from victim with cerebral palsy',\n \"Meta, Microsoft, X and Match join Epic Games' battle against Apple\",\n 'Sore loser or cyber bullied: How do I know if my child is being bullied while gaming online?',\n 'Men are upping the ante in style stakes when it comes to their dressing',\n 'Expedia to cut about 1,500 jobs globally amid moderating travel demand',\n 'Kepong mixed development celebrates 92% take-up rate',\n 'Curious Cook: A more sustainable year?',\n 'Johor assemblyman urges state government to introduce third language in schools',\n 'Samsung offers plan to speed up delivery of AI chips',\n 'Rakuten Bank shares surge 13% on positive news',\n 'Sweden announces $1.3 billion military support for Ukraine',\n 'Binance must face revived investor lawsuit in US over crypto losses',\n '‘No overcrowding at depots’',\n \"Haiti judge charges widow, ex-PM over president's assassination\",\n 'UnitedHealth hack impacted outpatient claims for Cigna - GS conference',\n 'First 10,000 litres of water free to Penang households for six months from July',\n 'Tennis-Zverev frustrated by line call after French Open final heartbreak',\n \"Apple warns of 'mercenary spyware attack' on users in India, 91 other countries\",\n 'Actress Barbie Hsu accuses ex-husband of adultery, pushing her to the ground during pregnancy',\n 'Analysis-Institutional investors may help bitcoin sustain new heights',\n 'Bursa closes in the red for second day, AmBank weighs on KLCI',\n 'FBM KLCI slightly up at midday as China reopens to positive interest',\n 'Why I hated my primary school',\n 'Double-breasted suit jackets are having a fashion moment on the red carpet',\n 'Demand rising for work spaces in Johor Baru',\n 'Proud Dayak makes history',\n 'Selangor Sultan commends Goodyear Malaysia for 52 years of contribution to economy',\n 'Martell celebrates the Year Of The Dragon with its most exceptional Cognac yet',\n \"'X-Men ‘97' review: To me, my X-citingly nostalgic X-Men X-perience\",\n \"Athletics-Italy's Jacobs runs best time since Tokyo Games victory\",\n 'Police step up to save lives',\n 'US at G7 to keep pressing China to halt its Russia military support, seeking Ukraine war stoppage',\n 'OCBC Cycle Kuala Lumpur savours biggest turnout to date',\n 'City council recognised for keeping Shah Alam clean',\n 'MATRADE formulating strategies to address geopolitical challenges',\n 'The Premiership run-in - a football saga of glory and drama',\n \"Soccer-Ten Hag laments Man Utd's injuries after home loss to Arsenal\",\n 'Best of both worlds',\n 'A Hong Kong noodle seller blows his top, and suddenly everyone agrees restaurant service levels have sunk, need improving',\n 'Cycling - Pidcock hospitalised after fall ahead of Tour of Basque Country',\n 'Portugal election winner seeks to sidestep far-right with spending',\n \"Dubai's flood aftermath, Malaysian travellers facing difficulties\",\n 'Opinion: Are TikTok and Instagram dulling your taste?',\n 'NFL-Superstar Swift brings megawatt star power to Super Bowl',\n 'Smartsheet revenue outlook misses estimates, stock sinks',\n \"Mavcom revokes My Jet's air service licence\",\n 'Soccer-Italy dangerous when down, but Albania stronger than before, says De Biasi',\n \"Former Destiny's Child member Kelly Rowland gets into heated exchange with security at Cannes premiere\",\n \"Several crew members injured in crash on set of Eddie Murphy film 'The Pickup'\",\n 'Singapore Airlines and Garuda to partner on frequent flyer miles',\n 'Canaries fly in Dos Santos to beef up the back line',\n 'Thailand records nine million foreign tourists in first quarter',\n 'New validity period for media cards not in force yet, says Fahmi',\n 'AI initiative for local schools',\n 'Affordable units reclaimed by state',\n 'New Year travel, spending top pre-Covid levels',\n 'Long dollar bets explode as funds join the dots',\n 'Bung Moktar: Flush out the ‘deep state’',\n 'Dogs could be helpful in managing epilepsy, scientists say',\n 'Two dead, over 100 ill in scare over dietary supplement',\n 'Meta to expand AI image generation offerings for ads',\n 'Cambodia on right track to achieving malaria-free goal by 2025, says PM Hun Manet',\n 'First-quarter flows to tech stocks third largest on record - BofA',\n 'Public against Sungai Bunus retention pond degazettement',\n 'Translation platform DeepL launches AI assistant for crafting texts',\n 'Trabbi prices at a high, 60 years after cult East German car was born',\n 'For this Malaysian, the cold was a total bother in Germany',\n 'DOE shuts down four premises in Johor during special ops',\n 'June Wei needs gem of a show against Gemke if battle goes down to wire',\n 'GM’s Cruise to resume testing its robotaxi service in Phoenix',\n 'Johor exco members ready to get to work',\n 'South Korean police question first doctor over walkouts',\n 'FTC: Meta withheld information on Instagram, WhatsApp deals',\n 'Soccer-UEFA launches Carbon Footprint calculator for clubs',\n 'Sabah-based KTI‘s IPO gets Bursa approval',\n 'Runway or red carpet? Look out for couture looks at this year’s Oscars',\n 'Awantec to strengthen its synergistic offerings to drive growth',\n 'Apple CEO meets Indonesia leader to talk investments',\n \"Filtronic's shares surge 50% on deepening supply deal with Musk's SpaceX\",\n 'Tennis-Raducanu happy with fitness, looking forward to grasscourt season',\n 'Return of wonder winger Arif will give JDT a further lift',\n \"Eight EU countries call for sanctions on Russian judiciary over Navalny's death\",\n 'Sticking to his passion is finally paying off for new Speedy Tiger Rahull',\n 'Higher education framework needs changes to align with evolving global landscape, says Zambry',\n 'Old Gua Musang temple readying for CNY',\n \"Soccer-Leipzig manager doesn't trust Bellingham absence for Real Madrid visit\",\n \"Malaysia's manufacturing PMI rises to 49.0 in April, suggesting improved GDP growth - S&P Global\",\n 'Man exposes himself to women while making TikTok videos in stores, US cops say',\n 'PM pledges to safeguard performing officers from critics',\n 'Sporting facilities in Kemuyang to include hockey field, multipurpose hall',\n 'Halim Saad’s suit struck out',\n 'Soccer-Barcelona and Athletic share spoils in goalless draw',\n 'Nick Cannon, father of 12, insures testicles for RM47mil',\n 'Codelco explores new partnerships',\n 'Property giants miss analysts’ profit estimates',\n 'Apple hit with $2 billion EU antitrust fine in Spotify case, will appeal',\n 'Bin Shen wants Hon Jian-Haikal to stay hungry for bigger achievements',\n 'Exclusive-Boxing-Saudi wealth fund holding talks to create boxing league, sources say',\n 'StarSilver: Romance that keeps growing',\n 'Digital TVET to launch careers',\n '‘Brain rot’: When memes affect our intellectual capacities',\n 'Can-do spirit at car wash',\n 'Meta to blur Instagram messages containing nudity in latest move for teen safety',\n 'Strong energy storage rates a boon for Dialog',\n 'An effortless way to monitor blood glucose levels for diabetics',\n 'Soccer-City keeper Ederson out for rest of season with eye injury',\n 'Italy regulator fines TikTok $11 million over content checks',\n 'Soccer-European berth for Chelsea attainable, James says',\n 'Breaking fast with signature dim sum delights',\n \"'Jom Kita Bincang!' exhibition highlights how books can shape young minds\",\n 'Olympics-Eiffel Tower countdown turns to 100 days to Paris 2024',\n \"Olympics-O'Keeffe relying on support team after shock U.S. marathon trials win\",\n 'German public libraries up defences against far-right attack',\n 'Tat Meng: Zii Jia must peak in Paris as it’ll be much tougher at LA 2028',\n 'ACE Market-bound Go Hub Capital targets RM37.5mil from IPO',\n 'RM1.47mil paid out for land acquisition in Sibu',\n 'Indonesian actress Sandra Dewi faces 5 years in prison as husband is arrested for corruption',\n 'Transocean changes name to Arka',\n 'I was told to scam Singaporeans: Bangladeshi man who was trafficked to scam compounds',\n 'Trust Jin Wei to fight for every point at home to clear early rounds',\n \"Reports: Instagram working on map showing friends' real-time location\",\n '‘Girls can do anything’',\n \"Putin congratulates South Africa's Ramaphosa on re-election, an indication of warm ties\",\n 'Soccer-Slovakia aim to back up Belgium shock, Ukraine seek redemption',\n 'New Caledonia protesters, police spar ahead of Macron visit',\n 'Fund managers retain faith in copper',\n \"What are the M'sia-China MOUs?\",\n 'GL Play by Gamuda Land invites kids for an unforgettable adventure at Gamuda Cove',\n \"Locals rescue 15 dolphins stranded on Myanmar's southwestern island\",\n \"Influencer's food adventure videos to focus on Sabah's delicacies\",\n \"Sabah eyes making KK's Manukan Island a premier wedding destination in Asia\",\n \"Ex-world chess No.1 Kasparov added to Russian 'terrorists and extremists' list\",\n \"TSMC's Q1 revenue rise beats market expectations on AI boom\",\n 'US military positions pier for Gaza maritime port to accelerate humanitarian aid',\n 'UMS water woes should ease by end of January, says Shahelmey',\n 'Robot invasion hit a bump in 2023 as North American economy cooled',\n 'Passenger numbers hit pre-Covid levels',\n 'European Commission outlines upcoming defence strategy proposal',\n 'Laos to improve quality of healthcare services',\n 'Tennis-Alcaraz, Sinner reach Indian Wells quarters',\n 'Short bets against Nvidia stand at $34 billion, S3 Partners says',\n 'SNS gets SC nod for Main Market transfer',\n 'Soccer-Ancelotti proud as Real Madrid dig deep for revenge in Manchester',\n \"Team of professionals restores Havana's stained glass windows, preserving a rich heritage\",\n 'Groups welcome amendments to resolve parallel pathway issue, say more urgency needed',\n 'Empowering creative learning hubs',\n '‘World Of Warcraft’, other top games to return to China',\n 'Soh dominant – Wai Ching proves he’s unbeatable again in Poland',\n 'Copter tragedy: Interim report will be ready in two weeks, says Fahmi',\n \"PM Modi votes as India's marathon election heats up\",\n 'Terengganu man falls prey to job scam, loses RM13,460',\n 'Philippines secures US$4bil in investment deals from German firms',\n 'Resolving Tamil school land issues in Penang',\n 'Three suspected mule account holders nabbed in Penang',\n 'Soccer-Marco Reus relishes return to Wembley at end of his Dortmund career',\n 'Double national success raises Xin Yee’s hopes for medal at Asian Junior C’ships',\n 'Fuel prices Feb 15–21: Unchanged across the board',\n 'KKB polls: Focus on local issues, Azalina advises Pakatan candidate',\n 'Father disowns gambling-addicted, debt-ridden son',\n 'Vernacular schools not stumbling blocks to national unity, says Dr Wee',\n '\"I didn\\'t ask Najib about USD700mil transfer,\" says IO',\n 'Rugby-Former great Dominguez still believes in bright future for Italy',\n 'Soccer-Romania will fight for every metre on pitch against Ukraine, coach says',\n 'Agricore gets Bursa nod to list on ACE Market',\n 'Myanmar Conflict: Boats on Naf river spark fear of fresh influx',\n 'Copter tragedy: Malaysians continue to send condolences to families of victims',\n \"More sensibility, less demands: How to retain kids' love for sports and exercise\",\n 'Thailand wilts under heatwave with temperatures hitting above 40 deg C',\n 'A world of possibilities',\n 'Disney+ Hotstar to raise subscription fees in Malaysia on April 24, will introduce monthly plans from RM24.90',\n 'MBPJ to raise assessment rates by up to 25% in January',\n 'Agricultural body spreads cheer to local communities',\n 'Pavilion REIT’s 1Q net profit rises to RM83.2mil',\n 'Sunway Medical Centre retains Malaysia’s top spot in paediatrics',\n 'Beyond protection: Why K-beauty sunscreens are the hot product of the moment',\n \"Italy's Meloni loses control of Sardinia in election defeat\",\n \"Ukraine's Zelenskiy issues decree on discharging conscripts\",\n 'Negri to acquire new Toyota Camrys for state exco members',\n 'Soccer-Klopp seeks private life after Liverpool exit, rules out immediate return',\n \"Venezuela won't allow exit of opposition aides in Argentine embassy, says official\",\n 'SK Telecom partners with AI search startup Perplexity in Korea',\n 'Dolly Parton believes Beyonce recorded ‘Jolene’ for new country album',\n 'South Korea prepares support package worth over $7 billion for chip industry',\n 'Nothing to crow about in Sec 14, PJ',\n \"Axel Springer to migrate some cloud applications to Microsoft's Azure\",\n \"Myanmar junta slams UN's 'one-sided' human rights claims\",\n 'Asian shares rise, yen wobbles after volatile start to week',\n \"Mexico's presidential hopefuls wrap up campaigns ahead of Sunday's election\",\n 'Thai govt eyes tighter grip on central bank after spat',\n 'At least one dead due to New Mexico wildfires, thousands evacuated',\n 'China’s app Xiaohongshu taps niche rich female Gen Zers',\n 'Boy, 13, among six nabbed in Lahad Datu over rape of minor',\n 'Tips for talking effectively',\n '‘High-skill TVET courses will elevate Indian community’',\n \"Bank Islam's net profit rises to RM129.17mil in 1Q on higher net income\",\n 'So close, but Jayden fails to smash own national mark',\n 'Foster unity by setting up Rukun Negara Club, Aaron Ago urges higher education institutes',\n \"GameStop faces 'unsustainable' sales decline, cuts jobs to control costs\",\n 'Swallowed thongs expose cheating hubby',\n 'Penang first regional host of advertising world congress',\n 'Bazaars to woo Singaporeans',\n '‘Power outages no more’',\n \"Lukashenko talks up threats to Belarus to justify 'nuclear deterrence'\",\n 'Novo Nordisk says no sign of crime, links between fires at Denmark facilities',\n 'Tenaga wary of Indian Railways team turning party poopers',\n 'Apple to settle trade secrets lawsuit against chip startup Rivos',\n 'Hong Kong announces blanket ban on e-cigarettes',\n \"Soccer-Liverpool's young players must be protected, says Klopp\",\n 'M’sia still a preferred destination for FDI in the region',\n 'Sony to partner with Seagate on hard disk drives used for AI -Nikkei',\n 'Global insurance company expands, opens first branch in Sarawak',\n 'US$574mil Sihanoukville construction project sign of ‘rebound’',\n 'Former Sepang chief Razlan will be up to speed in new role as KLCA president',\n 'Anger among French conservatives as party chief wants election deal with far right',\n 'Tencent’s upgraded LLM for text-to-image generation released on open source platforms',\n 'Myanmar declares martial law in two townships of eastern state',\n 'Red-hot Thanusaa shows promise after bagging third pro satellite title',\n 'Walmart-backed Ibotta targets up to $2.7 billion valuation in US IPO',\n \"Soccer-Tottenham's Udogie out for the season with thigh injury\",\n 'Tennis-Alcaraz says Paris triumph proudest moment, plans Eiffel Tower tattoo',\n 'In a rebel-held Myanmar town, fragile unity pushes junta to the brink',\n \"Philippines' former first lady Imelda Marcos in good condition in hospital\",\n 'Philippines net FDI rises for third straight month',\n 'Prosecution lists seven reasons in appeal against Bung Moktar graft decision',\n 'Bank of Japan scraps radical policy, makes first rate hike in 17 years',\n \"Soccer-Chelsea's Silva out of Man City trip as keeper Sanchez returns\",\n 'Company directors fined for possession of unapproved communication equipment, says MCMC',\n 'Govt improving protection scheme for artistes, says Communications Minister',\n 'US children with visual impairment see better with high-tech assistance',\n '‘Private sector support is crucial’',\n 'Laos to accelerate transport modernisation to drive growth',\n 'Misconceptions about breast cancer screenings still exist in society',\n \"Soccer-Newcastle's Botman faces long spell out with knee injury\",\n 'Grow up quick, boys',\n 'Brunei Sultan advocates for spiritual enrichment in Borneo’s education',\n 'Soccer-Serbia name 26-man squad for Euro 2024',\n 'Soccer-Late De Paul stunner gives Atletico 1-0 win over Celta',\n \"Vietnam's Hoi An gets first low carbon tourism certificate\",\n 'Thai hospital says 20 people from Singapore Airlines flight remain in intensive care',\n 'IAEA Board calls on Russia to leave Zaporizhzhia, two years on',\n 'Micron set to get $6 billion in chip grants from US, Bloomberg reports',\n 'Emotional Faisal says he came close to quitting football',\n \"Malaysia has 89 companies in first Fortune 500 list of South-East Asia’s largest companies; Maybank is country's top brand\",\n 'Change in 2024 LTdL route',\n 'Threads boasts more daily users than X',\n 'Vietnam may raise rate as dong falls to record low, Maybank says',\n 'CIMB Niaga 1Q consolidated net profit increases',\n 'SC seeks public’s assistance to locate Ricky Wong Shee Kai',\n 'Luxury cruise operator Viking Holdings IPO raises US$1.54bil',\n \"Rescue teams don't expect to find survivors in Papua New Guinea landslide\",\n 'Three underage boys among four arrested for kidnapping, beating up teenagers',\n 'Bursa Malaysia enjoys post-CNY rally; KLCI at 20-month high',\n 'Retail price of imported white rice cheaper by RM2 to RM3',\n 'Faulty lifts raise ire of residents',\n 'Five-year-old boy drowns in Johor river',\n 'Nine M’sians on turbulence-hit flight hospitalised in Bangkok',\n 'Clunky new RM15,000 ‘clear sticky tape bracelet’ from fashion house Balenciaga mercilessly mocked on China social media',\n '30 staff at Hong Kong public hospital fall ill with diarrhoea, vomiting after eating canteen food',\n 'Li Jane lifts US Open trophy, scores first major PWBA title',\n 'Rémy Martin Celebrates 300 Years With Festivities And Limited Edition Cognac',\n \"Don't trust people easily, says Boon Heong after Pei Jing's scam issue and his own experience\",\n \"SpaceX's talks with Vietnam over Starlink on hold: Sources\",\n \"Georgia at political crossroads as 'foreign agent' bill draws protests\",\n 'Golf-Scheffler only ever wanted to play golf but says the sport does not define him',\n \"Soccer-Coventry ends Maidstone's FA Cup dream run as Simms nets hat-trick\",\n 'Expert: MTUC tussle has defanged labour movement',\n 'US judge blocks Texas law cracking down on illegal border crossings',\n 'Soccer-Bologna appoint Italiano as manager to replace Motta',\n \"Vietnam PM urges youth to pioneer in country's digital transformation\",\n 'Drawing inspiration from mums for dainty treats',\n 'Preserve open house tradition to promote mutual respect among Malaysians, says MCPF vice-chairman',\n 'Scent of durians fills august House',\n 'Perfect blend of harmony',\n 'Apple revamps iPads with AI-focused Pro model, bigger Air',\n 'Uniten Muadzam Shah will not shut down, says Zambry',\n 'Getting special needs students into TVET',\n 'Foreign funds continue net selling of Malaysian stocks for sixth week',\n 'Unilever to spin off ice cream unit, cut 7,500 jobs',\n 'Cartoonist explores emotional journey of parenting a child with special needs',\n 'Socso: Register your employees or risk penalties',\n 'In the hot seat',\n 'Tax reforms help stimulate innovation, advanced technologies',\n 'Indonesia’s Mt Ruang becomes ghost island as volcano erupts yet again',\n '‘Good Time’ star Buddy Duress dies at 38',\n 'Viral video shows molotov cocktail thrown outside KL nightclub, cops investigating',\n 'Smartphone makers charge ahead to make better batteries',\n 'Mental health group keen to work with state',\n 'Improved political climate behind my return to Thailand: ex-red shirt leader Jakrapob',\n \"WikiLeaks' Assange in last-ditch battle to stop U.S. extradition\",\n 'Soccer-Rice hoping to persuade Arsenal team mate White to return to England fold',\n 'New laurels for Johor’s top budget, business hotels',\n 'Germany may need to exceed 2% NATO spending target, defence minister says',\n \"Govt not hiring S'poreans to teach English here, says PM\",\n 'Education Ministry: We will continue to support vernacular schools',\n \"An 'ideal scenario' for Muhibbah's Cambodia concession - CGSI\",\n 'Dog Talk: How Spaniels steal the show as canine cheerleaders',\n 'Malaysia rises as crucial link in chip supply chain',\n 'James Lawson, US civil rights leader who championed nonviolence, dies at 95',\n 'PM: Extraordinary weather causing disasters',\n 'Kim Loong targets 5% growth in FFB output',\n 'SMG and RHB win silver award',\n 'Soccer-Struggling Union Berlin sack Bjelica, appoint Grote as interim coach',\n \"Hidden Japanese 'snack bars' give tourists a taste of old Japan\",\n 'Clean energy conversion a key global trend',\n 'Julius Baer suffered IT crash last week',\n 'Soccer-Alli backs Everton to finish strong amid relegation worries',\n 'Missing boy in Sungai Kuala Sat, Pahang, found drowned',\n 'Jerry Seinfeld to perform first comedy show in Singapore thanks to Malaysia’s Ronny Chieng',\n 'Selangor Health Dept investigating death of infant at Hospital Tanjong Karang',\n 'Apple to hold Worldwide Developers Conference from June 10',\n \"Greece's Crete and Gavdos islands see surge in migrant boats from Libya\",\n 'Gas and electricity prices in Singapore to fall from April to June',\n 'Flood rescue volunteers pick up boat handling, navigation tips in Civil Defence course',\n \"Sarawak to boost sustainability image as 'Asia's Renewable Powerhouse', says Abang Jo\",\n 'Asian markets mostly up, tracking Wall Street gains',\n \"Haiti's prime minister resigned. Who will replace him?\",\n 'A patient Sanjay seals his first PSA Challenger Tour title in style',\n 'Motor racing-Chadwick takes grassroots approach to boost female participation',\n 'Facebook use may have helped Trump with some voters, report says',\n 'Top 10 historical buildings in KL',\n 'Srettha likely to give up finance for defence in reshuffle: Experts',\n \"Hunt on for Cambodia's illegal Pursat loggers as timber discovered\",\n 'China blasts criticism of new Hong Kong security law',\n 'Meta expects first shipments of new Nvidia chips later this year',\n 'ACE Market-bound Farm Price aims to raise RM24.5mil from IPO',\n 'S’pore’s non-oil domestic exports dip 0.1% in May',\n 'This AI tool is capable of generating a video game from a simple image',\n 'Pemandu payment did not use Mitra allocation, says minister',\n 'Illegal bases all along Malaysia-Thai border',\n 'Kids sent home due to heatwave',\n \"Fahmi presents instrument of royal invitation to Kedah sultan for King's coronation\",\n 'Laos launches handicraft branding to empower local producers',\n 'Gold mining in Bukit Mantri Tawau is legal, says Sabah Finance Minister',\n \"Mexico's Sheinbaum vows responsible spending, defends judicial reform\",\n 'Apple explores home robotics as potential ‘next big thing’ after car fizzles',\n 'Golf-Cantlay grabs U.S. Open clubhouse lead as Scheffler tees off',\n 'German court rules against Intel in patent row over chips',\n 'HP beats revenue estimate on recovering PC demand',\n \"Belarus' Lukashenko says 'saboteurs' detained on border with Ukraine\",\n 'Norway gives Arctic foxes a helping hand amid climate woes',\n 'Big savings for Vietnam from eco-industrial conversion',\n 'Laos to hold cultural festival to attract visitors during Visit Laos Year',\n 'South Korean festival goes vibrant in Vietnam led by famous V-pop and K-pop stars',\n 'It was ugly out there for me, says top Malaysian finisher Khavish',\n 'Chegubard pleads not guilty to another sedition charge',\n 'Football star Faisal suffers acid attack',\n 'Srebrenica survivors still haunted as UN votes on genocide remembrance',\n 'Merging tradition with a healthy lifestyle',\n '‘Combat ship ready for sea trials in November’',\n 'Salak Selatan construction site shut down over aedes mosquito breeding',\n \"Ashanti and Nelly confirm they're engaged and having a baby\",\n 'FBM KLCI closes at fresh 3-year high as rally extends',\n 'Soccer-Belgium keeper Casteels joins Al-Qadsiah on free transfer',\n 'Aifa’s painful episode on the knee and her rankings',\n 'China steers solar module export stream towards Asia',\n 'WTA roundup: Danielle Collins continues hot streak, reaches Charleston final',\n 'Microsoft CEO pledges RM8.10bil AI, cloud investment in Indonesia',\n 'Jobless man nabbed for sodomising boy, forcing him to watch porn',\n 'Keanu Reeves joins ‘Sonic 3’ as Shadow the Hedgehog',\n 'HSS Engineers associate bags RM9.52mil Pahang water system upgrade project',\n 'Dad catches cop who had sex with daughter',\n 'PM Manet says Cambodia to build US$1.7bil canal',\n 'Brunei exports volume rose 11.3% in Q4 2023',\n 'Tennis-Djokovic wants last dance with Nadal at Roland Garros',\n 'Kimlun to ride wave of infrastructure projects',\n 'Woman sees group break into home on security video while overseas, US cops say',\n 'Curious Cook: Silent killers',\n \"Beware fake Kepong property ad misusing The Star's masthead from seven years ago\",\n 'Another big semiconductor push',\n 'Proton sales bounce back 13.6% to 12,422 units in May',\n 'The going gets tougher for Joachim in bid for third PSA title',\n 'Tennis-Rybakina marches past Svitolina into French Open quarter-finals',\n \"Chinese actress Fan Bingbing to be appointed Melaka's tourism ambassador, will visit state in June to promote Visit Melaka 2024\",\n 'Tennis-Djokovic rocks French Open with withdrawal, Sinner assured of top ranking',\n 'Soccer-Flawless Leverkusen cruise past Dusseldorf into German Cup final',\n \"Russian pupils take history quiz based on Putin's Tucker Carlson interview\",\n \"WIDER IMAGE-India's Gen Z voters seek jobs, harmony in world's biggest election\",\n 'Abhinaya and Virgin put up splashing show in Open water event',\n 'Marcos ‘horrified’ by idea of ‘agreement’ between China, Philippines on South China Sea',\n 'Daniel Wong charged with abetting former MD of Multi-Code for securities fraud',\n \"Exclusive-Putin's suggestion of Ukraine ceasefire rejected by United States, sources say\",\n 'Seoul activists develop ‘smart balloons’ to send messages deep into North Korea',\n 'Russia says EU frozen assets plan is theft, will lead to decades of lawsuits',\n 'Close cooperation leads to academic achievement at SMK Infant Jesus Convent',\n 'Marcos: P60bil in emergency allowances given to Covid-19 frontliners',\n \"Rugby-Lawes wins Rugby Writers' top award\",\n 'Olympics-Canoe queen Carrington looks to add to New Zealand record haul in Paris',\n 'Exclusive-Google rival Tuta complains to EU tech regulators about de-ranking',\n 'Dream day for mermaid princess Ayra',\n 'Hajiji lauds PETRONAS for green energy, human capital initiatives',\n 'Zayn Rayyan’s murder: Grandparents to be released on police bail',\n 'Microsoft to take more steps to resolve EU concerns about Teams, Smith says',\n 'Visa-free travel extended till 2025',\n 'Friendly games against India will be handy for national U-23 keeper Azim',\n 'Rebranded fund to benefit more business owners',\n 'Could eating kimchi help to keep us slim?',\n 'Savoury puff pastries to start the day',\n 'Injuries to SQ321 crew, passengers likely caused by rapid changes in G-force, 178ft drop over 4.6sec',\n 'PR executive at Chinese tech firm Baidu apologises for comments seen as glorifying overwork',\n 'Sidrec: Number of claims, enquiries received up 11% to 266 in 2023',\n \"Athletics - Britain's Asher-Smith uses pottery to unwind as she eyes Olympic gold\",\n 'B40 families get RM300 back-to-school aid from MBPJ',\n \"M'sian high commission in S'pore introduces online appointment system for consular services\",\n \"Brunei 'air-drops' ready-to-eat meal packages in Gaza\",\n \"Setback for Thailand's Move Forward Party as court accepts dissolution case\",\n 'Fans thrilled by K-drama actor’s perfect intonation of Bangkok’s full name',\n 'Cyberflashing: Change these settings to protect your smartphone',\n 'Australian police arrest 15-year-old after bishop wounded in church stabbing',\n 'US boycotts UN tribute to late Iran president',\n 'Holistic lifestyle experience at Putrajaya residences',\n 'K-pop boy band manager dismissed for setting up spycam in theatre dressing room',\n '‘Proposed changes can lead to confusion’',\n 'Austrian court defers ruling on Fritzl move to regular prison, lawyer says',\n 'Man breaks into neighbour’s apartment and installs hidden camera, US cops say',\n \"Soccer-Villa ready for season's biggest challenge against Olympiakos, Emery says\",\n \"TikTok artists and advertisers to stay with app until 'door slams shut'\",\n 'Applied Materials forecasts strong third quarter on AI boom',\n 'Opinion: New phone? Get your old one ready to pass on',\n \"'Yoga burglar' seen stretching before alleged Australian bakery break-in\",\n 'New Islamic banking solution powered by 5G for MSMEs',\n \"Philippine boat convoy won't proceed to China-held reef: organisers\",\n 'Cricket-South Africa ditch aggressive T20 mindset to solve pitch puzzle',\n 'Increase in colon cancer among millennials',\n 'Cricket-Pakistan appoint Kirsten, Gillespie as head coaches',\n 'Rugby-Building consistency a priority for Wallabies coach Schmidt',\n 'MMEA carries out water-bombing to extinguish Miri peat fires',\n 'Retail, commercial and hotel segments lift IGB in 1Q24',\n 'Soccer-Premier League clubs to prioritise new financial system, says league',\n 'Try your luck in Brussels: shop sells still-sealed unwanted Amazon parcels',\n 'Solid earnings visibility for IJM Corp',\n 'Penang unveils initiatives for three sectors',\n 'What is ‘toddler formula’ and is it necessary for young children?',\n 'Set an example and stop smoking, vaping in Parliament, Deputy Health Minister tells MPs',\n 'Nvidia CEO Huang says countries must build sovereign AI infrastructure',\n 'Motor racing-Verstappen eyes perfect 10 at Albert Park amid Red Bull discord',\n 'Asean news headlines as at 9pm on Wednesday (Feb 28)',\n 'UK inflation cools by slightly more than expected in February',\n 'Sinkhole on Jalan Sentul Pasar filled, road resurfaced',\n 'Mexican currency holds potential to become an uber-dollar',\n ...]"
          },
          "metadata": {}
        }
      ],
      "execution_count": null
    },
    {
      "cell_type": "code",
      "source": [
        "len(y_test)"
      ],
      "metadata": {
        "trusted": true,
        "execution": {
          "iopub.status.busy": "2025-06-24T22:08:05.724536Z",
          "iopub.execute_input": "2025-06-24T22:08:05.724772Z",
          "iopub.status.idle": "2025-06-24T22:08:05.729498Z",
          "shell.execute_reply.started": "2025-06-24T22:08:05.724756Z",
          "shell.execute_reply": "2025-06-24T22:08:05.728736Z"
        },
        "id": "tIoQAsCoHT5K",
        "outputId": "70686a49-9089-4e38-dc71-d81580ff7dab"
      },
      "outputs": [
        {
          "execution_count": 63,
          "output_type": "execute_result",
          "data": {
            "text/plain": "2168"
          },
          "metadata": {}
        }
      ],
      "execution_count": null
    },
    {
      "cell_type": "code",
      "source": [
        "decoded_preds, decoded_labels = postprocess_text(preds, y_test)"
      ],
      "metadata": {
        "trusted": true,
        "execution": {
          "iopub.status.busy": "2025-06-24T22:10:59.955416Z",
          "iopub.execute_input": "2025-06-24T22:10:59.955837Z",
          "iopub.status.idle": "2025-06-24T22:10:59.972650Z",
          "shell.execute_reply.started": "2025-06-24T22:10:59.955787Z",
          "shell.execute_reply": "2025-06-24T22:10:59.972131Z"
        },
        "id": "m7muS8fjHT5K"
      },
      "outputs": [],
      "execution_count": null
    },
    {
      "cell_type": "code",
      "source": [
        "rs = rouge_score.compute(predictions=decoded_preds, references=decoded_labels)"
      ],
      "metadata": {
        "trusted": true,
        "execution": {
          "iopub.status.busy": "2025-06-24T22:13:18.068315Z",
          "iopub.execute_input": "2025-06-24T22:13:18.068597Z",
          "iopub.status.idle": "2025-06-24T22:13:19.049235Z",
          "shell.execute_reply.started": "2025-06-24T22:13:18.068576Z",
          "shell.execute_reply": "2025-06-24T22:13:19.048391Z"
        },
        "id": "Cy6eFP3LHT5K"
      },
      "outputs": [],
      "execution_count": null
    },
    {
      "cell_type": "code",
      "source": [
        "rs"
      ],
      "metadata": {
        "trusted": true,
        "execution": {
          "iopub.status.busy": "2025-06-24T22:13:23.154450Z",
          "iopub.execute_input": "2025-06-24T22:13:23.155048Z",
          "iopub.status.idle": "2025-06-24T22:13:23.159672Z",
          "shell.execute_reply.started": "2025-06-24T22:13:23.155025Z",
          "shell.execute_reply": "2025-06-24T22:13:23.159026Z"
        },
        "id": "n2VfnbqSHT5K",
        "outputId": "220983ae-ea79-492b-feba-06a5dbb708b3"
      },
      "outputs": [
        {
          "execution_count": 67,
          "output_type": "execute_result",
          "data": {
            "text/plain": "{'rouge1': 0.2835371452398944,\n 'rouge2': 0.1127414042161173,\n 'rougeL': 0.2587176175108021,\n 'rougeLsum': 0.2586369805110029}"
          },
          "metadata": {}
        }
      ],
      "execution_count": null
    }
  ]
}